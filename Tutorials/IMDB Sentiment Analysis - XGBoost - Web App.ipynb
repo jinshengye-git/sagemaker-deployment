{
 "cells": [
  {
   "cell_type": "markdown",
   "metadata": {},
   "source": [
    "# Sentiment Analysis Web App\n",
    "\n",
    "_Deep Learning Nanodegree Program | Deployment_\n",
    "\n",
    "---\n",
    "\n",
    "In this notebook we will use Amazon's SageMaker service to construct a random tree model to predict the sentiment of a movie review. In addition, we will deploy this model to an endpoint and construct a very simple web app which will interact with our model's deployed endpoint.\n",
    "\n",
    "## General Outline\n",
    "\n",
    "Typically, when using a notebook instance with SageMaker, you will proceed through the following steps. Of course, not every step will need to be done with each project. Also, there is quite a lot of room for variation in many of the steps, as you will see throughout these lessons.\n",
    "\n",
    "1. Download or otherwise retrieve the data.\n",
    "2. Process / Prepare the data.\n",
    "3. Upload the processed data to S3.\n",
    "4. Train a chosen model.\n",
    "5. Test the trained model (typically using a batch transform job).\n",
    "6. Deploy the trained model.\n",
    "7. Use the deployed model.\n",
    "\n",
    "In this notebook we will progress through each of the steps above. We will also see that the final step, using the deployed model, can be quite challenging."
   ]
  },
  {
   "cell_type": "markdown",
   "metadata": {},
   "source": [
    "## Step 1: Downloading the data\n",
    "\n",
    "The dataset we are going to use is very popular among researchers in Natural Language Processing, usually referred to as the [IMDb dataset](http://ai.stanford.edu/~amaas/data/sentiment/). It consists of movie reviews from the website [imdb.com](http://www.imdb.com/), each labeled as either '**pos**itive', if the reviewer enjoyed the film, or '**neg**ative' otherwise.\n",
    "\n",
    "> Maas, Andrew L., et al. [Learning Word Vectors for Sentiment Analysis](http://ai.stanford.edu/~amaas/data/sentiment/). In _Proceedings of the 49th Annual Meeting of the Association for Computational Linguistics: Human Language Technologies_. Association for Computational Linguistics, 2011.\n",
    "\n",
    "We begin by using some Jupyter Notebook magic to download and extract the dataset."
   ]
  },
  {
   "cell_type": "code",
   "execution_count": null,
   "metadata": {},
   "outputs": [],
   "source": [
    "%mkdir ../data\n",
    "!wget -O ../data/aclImdb_v1.tar.gz http://ai.stanford.edu/~amaas/data/sentiment/aclImdb_v1.tar.gz\n",
    "!tar -zxf ../data/aclImdb_v1.tar.gz -C ../data"
   ]
  },
  {
   "cell_type": "markdown",
   "metadata": {},
   "source": [
    "## Step 2: Preparing and Processing the data\n",
    "\n",
    "The data we have downloaded is split into various files, each of which contains a single review. It will be much easier going forward if we combine these individual files into two large files, one for training and one for testing."
   ]
  },
  {
   "cell_type": "code",
   "execution_count": 1,
   "metadata": {},
   "outputs": [],
   "source": [
    "import os\n",
    "import glob\n",
    "\n",
    "def read_imdb_data(data_dir='../data/aclImdb'):\n",
    "    data = {}\n",
    "    labels = {}\n",
    "    \n",
    "    for data_type in ['train', 'test']:\n",
    "        data[data_type] = {}\n",
    "        labels[data_type] = {}\n",
    "        \n",
    "        for sentiment in ['pos', 'neg']:\n",
    "            data[data_type][sentiment] = []\n",
    "            labels[data_type][sentiment] = []\n",
    "            \n",
    "            path = os.path.join(data_dir, data_type, sentiment, '*.txt')\n",
    "            files = glob.glob(path)\n",
    "            \n",
    "            for f in files:\n",
    "                with open(f) as review:\n",
    "                    data[data_type][sentiment].append(review.read())\n",
    "                    # Here we represent a positive review by '1' and a negative review by '0'\n",
    "                    labels[data_type][sentiment].append(1 if sentiment == 'pos' else 0)\n",
    "                    \n",
    "            assert len(data[data_type][sentiment]) == len(labels[data_type][sentiment]), \\\n",
    "                    \"{}/{} data size does not match labels size\".format(data_type, sentiment)\n",
    "                \n",
    "    return data, labels"
   ]
  },
  {
   "cell_type": "code",
   "execution_count": 2,
   "metadata": {},
   "outputs": [
    {
     "name": "stdout",
     "output_type": "stream",
     "text": [
      "IMDB reviews: train = 12500 pos / 12500 neg, test = 12500 pos / 12500 neg\n"
     ]
    }
   ],
   "source": [
    "data, labels = read_imdb_data()\n",
    "print(\"IMDB reviews: train = {} pos / {} neg, test = {} pos / {} neg\".format(\n",
    "            len(data['train']['pos']), len(data['train']['neg']),\n",
    "            len(data['test']['pos']), len(data['test']['neg'])))"
   ]
  },
  {
   "cell_type": "code",
   "execution_count": 3,
   "metadata": {},
   "outputs": [],
   "source": [
    "from sklearn.utils import shuffle\n",
    "\n",
    "def prepare_imdb_data(data, labels):\n",
    "    \"\"\"Prepare training and test sets from IMDb movie reviews.\"\"\"\n",
    "    \n",
    "    #Combine positive and negative reviews and labels\n",
    "    data_train = data['train']['pos'] + data['train']['neg']\n",
    "    data_test = data['test']['pos'] + data['test']['neg']\n",
    "    labels_train = labels['train']['pos'] + labels['train']['neg']\n",
    "    labels_test = labels['test']['pos'] + labels['test']['neg']\n",
    "    \n",
    "    #Shuffle reviews and corresponding labels within training and test sets\n",
    "    data_train, labels_train = shuffle(data_train, labels_train)\n",
    "    data_test, labels_test = shuffle(data_test, labels_test)\n",
    "    \n",
    "    # Return a unified training data, test data, training labels, test labets\n",
    "    return data_train, data_test, labels_train, labels_test"
   ]
  },
  {
   "cell_type": "code",
   "execution_count": 4,
   "metadata": {},
   "outputs": [
    {
     "name": "stdout",
     "output_type": "stream",
     "text": [
      "IMDb reviews (combined): train = 25000, test = 25000\n"
     ]
    }
   ],
   "source": [
    "train_X, test_X, train_y, test_y = prepare_imdb_data(data, labels)\n",
    "print(\"IMDb reviews (combined): train = {}, test = {}\".format(len(train_X), len(test_X)))"
   ]
  },
  {
   "cell_type": "code",
   "execution_count": 5,
   "metadata": {},
   "outputs": [
    {
     "data": {
      "text/plain": [
       "'I\\'m biased towards any movie that paints a luxuriant picture of Italy - in my opinion the most romantic country in the world. Unfortunately the movie was rather short, unusually so for a period piece, and a little sparse on the cinematography aspect. However, the excellent story makes up for it. The four ladies embark on a much-needed relaxing vacation with problems on their minds. Over the course of the movie, they realize their problems and begin fixing them. They believe San Salvatore, the castle they stay in, has an enchanting effect on people. \"It\\'s a tub of love,\" says Lottie Wilkins. You can watch their gradual change from dissatisfied to exuberant as the Italian seaside works its magic on them.<br /><br />All their problems and their solutions are plausible. The actresses were great. The background music seemed very appropriate for an romantic Italian locale. All in all, a 10/10 movie for me.'"
      ]
     },
     "execution_count": 5,
     "metadata": {},
     "output_type": "execute_result"
    }
   ],
   "source": [
    "train_X[100]"
   ]
  },
  {
   "cell_type": "markdown",
   "metadata": {},
   "source": [
    "## Processing the data\n",
    "\n",
    "Now that we have our training and testing datasets merged and ready to use, we need to start processing the raw data into something that will be useable by our machine learning algorithm. To begin with, we remove any html formatting and any non-alpha numeric characters that may appear in the reviews. We will do this in a very simplistic way using Python's regular expression module. We will discuss the reason for this rather simplistic pre-processing later on."
   ]
  },
  {
   "cell_type": "code",
   "execution_count": 6,
   "metadata": {},
   "outputs": [],
   "source": [
    "import re\n",
    "\n",
    "REPLACE_NO_SPACE = re.compile(\"(\\.)|(\\;)|(\\:)|(\\!)|(\\')|(\\?)|(\\,)|(\\\")|(\\()|(\\))|(\\[)|(\\])\")\n",
    "REPLACE_WITH_SPACE = re.compile(\"(<br\\s*/><br\\s*/>)|(\\-)|(\\/)\")\n",
    "\n",
    "def review_to_words(review):\n",
    "    words = REPLACE_NO_SPACE.sub(\"\", review.lower())\n",
    "    words = REPLACE_WITH_SPACE.sub(\" \", words)\n",
    "    return words"
   ]
  },
  {
   "cell_type": "code",
   "execution_count": 7,
   "metadata": {},
   "outputs": [
    {
     "data": {
      "text/plain": [
       "'im biased towards any movie that paints a luxuriant picture of italy   in my opinion the most romantic country in the world unfortunately the movie was rather short unusually so for a period piece and a little sparse on the cinematography aspect however the excellent story makes up for it the four ladies embark on a much needed relaxing vacation with problems on their minds over the course of the movie they realize their problems and begin fixing them they believe san salvatore the castle they stay in has an enchanting effect on people its a tub of love says lottie wilkins you can watch their gradual change from dissatisfied to exuberant as the italian seaside works its magic on them all their problems and their solutions are plausible the actresses were great the background music seemed very appropriate for an romantic italian locale all in all a 10 10 movie for me'"
      ]
     },
     "execution_count": 7,
     "metadata": {},
     "output_type": "execute_result"
    }
   ],
   "source": [
    "review_to_words(train_X[100])"
   ]
  },
  {
   "cell_type": "code",
   "execution_count": 8,
   "metadata": {},
   "outputs": [],
   "source": [
    "import pickle\n",
    "\n",
    "cache_dir = os.path.join(\"../cache\", \"sentiment_web_app\")  # where to store cache files\n",
    "os.makedirs(cache_dir, exist_ok=True)  # ensure cache directory exists\n",
    "\n",
    "def preprocess_data(data_train, data_test, labels_train, labels_test,\n",
    "                    cache_dir=cache_dir, cache_file=\"preprocessed_data.pkl\"):\n",
    "    \"\"\"Convert each review to words; read from cache if available.\"\"\"\n",
    "\n",
    "    # If cache_file is not None, try to read from it first\n",
    "    cache_data = None\n",
    "    if cache_file is not None:\n",
    "        try:\n",
    "            with open(os.path.join(cache_dir, cache_file), \"rb\") as f:\n",
    "                cache_data = pickle.load(f)\n",
    "            print(\"Read preprocessed data from cache file:\", cache_file)\n",
    "        except:\n",
    "            pass  # unable to read from cache, but that's okay\n",
    "    \n",
    "    # If cache is missing, then do the heavy lifting\n",
    "    if cache_data is None:\n",
    "        # Preprocess training and test data to obtain words for each review\n",
    "        #words_train = list(map(review_to_words, data_train))\n",
    "        #words_test = list(map(review_to_words, data_test))\n",
    "        words_train = [review_to_words(review) for review in data_train]\n",
    "        words_test = [review_to_words(review) for review in data_test]\n",
    "        \n",
    "        # Write to cache file for future runs\n",
    "        if cache_file is not None:\n",
    "            cache_data = dict(words_train=words_train, words_test=words_test,\n",
    "                              labels_train=labels_train, labels_test=labels_test)\n",
    "            with open(os.path.join(cache_dir, cache_file), \"wb\") as f:\n",
    "                pickle.dump(cache_data, f)\n",
    "            print(\"Wrote preprocessed data to cache file:\", cache_file)\n",
    "    else:\n",
    "        # Unpack data loaded from cache file\n",
    "        words_train, words_test, labels_train, labels_test = (cache_data['words_train'],\n",
    "                cache_data['words_test'], cache_data['labels_train'], cache_data['labels_test'])\n",
    "    \n",
    "    return words_train, words_test, labels_train, labels_test"
   ]
  },
  {
   "cell_type": "code",
   "execution_count": 9,
   "metadata": {},
   "outputs": [
    {
     "name": "stdout",
     "output_type": "stream",
     "text": [
      "Wrote preprocessed data to cache file: preprocessed_data.pkl\n"
     ]
    }
   ],
   "source": [
    "# Preprocess data\n",
    "train_X, test_X, train_y, test_y = preprocess_data(train_X, test_X, train_y, test_y)"
   ]
  },
  {
   "cell_type": "markdown",
   "metadata": {},
   "source": [
    "### Extract Bag-of-Words features\n",
    "\n",
    "For the model we will be implementing, rather than using the reviews directly, we are going to transform each review into a Bag-of-Words feature representation. Keep in mind that 'in the wild' we will only have access to the training set so our transformer can only use the training set to construct a representation."
   ]
  },
  {
   "cell_type": "code",
   "execution_count": 10,
   "metadata": {},
   "outputs": [],
   "source": [
    "import numpy as np\n",
    "from sklearn.feature_extraction.text import CountVectorizer\n",
    "from sklearn.externals import joblib\n",
    "# joblib is an enhanced version of pickle that is more efficient for storing NumPy arrays\n",
    "\n",
    "def extract_BoW_features(words_train, words_test, vocabulary_size=5000,\n",
    "                         cache_dir=cache_dir, cache_file=\"bow_features.pkl\"):\n",
    "    \"\"\"Extract Bag-of-Words for a given set of documents, already preprocessed into words.\"\"\"\n",
    "    \n",
    "    # If cache_file is not None, try to read from it first\n",
    "    cache_data = None\n",
    "    if cache_file is not None:\n",
    "        try:\n",
    "            with open(os.path.join(cache_dir, cache_file), \"rb\") as f:\n",
    "                cache_data = joblib.load(f)\n",
    "            print(\"Read features from cache file:\", cache_file)\n",
    "        except:\n",
    "            pass  # unable to read from cache, but that's okay\n",
    "    \n",
    "    # If cache is missing, then do the heavy lifting\n",
    "    if cache_data is None:\n",
    "        # Fit a vectorizer to training documents and use it to transform them\n",
    "        # NOTE: Training documents have already been preprocessed and tokenized into words;\n",
    "        #       pass in dummy functions to skip those steps, e.g. preprocessor=lambda x: x\n",
    "        vectorizer = CountVectorizer(max_features=vocabulary_size)\n",
    "        features_train = vectorizer.fit_transform(words_train).toarray()\n",
    "\n",
    "        # Apply the same vectorizer to transform the test documents (ignore unknown words)\n",
    "        features_test = vectorizer.transform(words_test).toarray()\n",
    "        \n",
    "        # NOTE: Remember to convert the features using .toarray() for a compact representation\n",
    "        \n",
    "        # Write to cache file for future runs (store vocabulary as well)\n",
    "        if cache_file is not None:\n",
    "            vocabulary = vectorizer.vocabulary_\n",
    "            cache_data = dict(features_train=features_train, features_test=features_test,\n",
    "                             vocabulary=vocabulary)\n",
    "            with open(os.path.join(cache_dir, cache_file), \"wb\") as f:\n",
    "                joblib.dump(cache_data, f)\n",
    "            print(\"Wrote features to cache file:\", cache_file)\n",
    "    else:\n",
    "        # Unpack data loaded from cache file\n",
    "        features_train, features_test, vocabulary = (cache_data['features_train'],\n",
    "                cache_data['features_test'], cache_data['vocabulary'])\n",
    "    \n",
    "    # Return both the extracted features as well as the vocabulary\n",
    "    return features_train, features_test, vocabulary"
   ]
  },
  {
   "cell_type": "code",
   "execution_count": 11,
   "metadata": {},
   "outputs": [
    {
     "name": "stdout",
     "output_type": "stream",
     "text": [
      "Wrote features to cache file: bow_features.pkl\n"
     ]
    }
   ],
   "source": [
    "# Extract Bag of Words features for both training and test datasets\n",
    "train_X, test_X, vocabulary = extract_BoW_features(train_X, test_X)"
   ]
  },
  {
   "cell_type": "code",
   "execution_count": 12,
   "metadata": {},
   "outputs": [
    {
     "data": {
      "text/plain": [
       "5000"
      ]
     },
     "execution_count": 12,
     "metadata": {},
     "output_type": "execute_result"
    }
   ],
   "source": [
    "len(train_X[100])"
   ]
  },
  {
   "cell_type": "markdown",
   "metadata": {},
   "source": [
    "## Step 3: Upload data to S3\n",
    "\n",
    "Now that we have created the feature representation of our training (and testing) data, it is time to start setting up and using the XGBoost classifier provided by SageMaker.\n",
    "\n",
    "### Writing the datasets\n",
    "\n",
    "The XGBoost classifier that we will be using requires the dataset to be written to a file and stored using Amazon S3. To do this, we will start by splitting the training dataset into two parts, the data we will train the model with and a validation set. Then, we will write those datasets to a file locally and then upload the files to S3. In addition, we will write the test set to a file and upload that file to S3. This is so that we can use SageMakers Batch Transform functionality to test our model once we've fit it."
   ]
  },
  {
   "cell_type": "code",
   "execution_count": 13,
   "metadata": {},
   "outputs": [],
   "source": [
    "import pandas as pd\n",
    "\n",
    "# Earlier we shuffled the training dataset so to make things simple we can just assign\n",
    "# the first 10 000 reviews to the validation set and use the remaining reviews for training.\n",
    "val_X = pd.DataFrame(train_X[:10000])\n",
    "train_X = pd.DataFrame(train_X[10000:])\n",
    "\n",
    "val_y = pd.DataFrame(train_y[:10000])\n",
    "train_y = pd.DataFrame(train_y[10000:])"
   ]
  },
  {
   "cell_type": "markdown",
   "metadata": {},
   "source": [
    "The documentation for the XGBoost algorithm in SageMaker requires that the training and validation datasets should contain no headers or index and that the label should occur first for each sample.\n",
    "\n",
    "For more information about this and other algorithms, the SageMaker developer documentation can be found on __[Amazon's website.](https://docs.aws.amazon.com/sagemaker/latest/dg/)__"
   ]
  },
  {
   "cell_type": "code",
   "execution_count": 14,
   "metadata": {},
   "outputs": [],
   "source": [
    "# First we make sure that the local directory in which we'd like to store the training and validation csv files exists.\n",
    "data_dir = '../data/sentiment_web_app'\n",
    "if not os.path.exists(data_dir):\n",
    "    os.makedirs(data_dir)"
   ]
  },
  {
   "cell_type": "code",
   "execution_count": 15,
   "metadata": {},
   "outputs": [],
   "source": [
    "pd.DataFrame(test_X).to_csv(os.path.join(data_dir, 'test.csv'), header=False, index=False)\n",
    "\n",
    "pd.concat([val_y, val_X], axis=1).to_csv(os.path.join(data_dir, 'validation.csv'), header=False, index=False)\n",
    "pd.concat([train_y, train_X], axis=1).to_csv(os.path.join(data_dir, 'train.csv'), header=False, index=False)"
   ]
  },
  {
   "cell_type": "code",
   "execution_count": 16,
   "metadata": {},
   "outputs": [],
   "source": [
    "# To save a bit of memory we can set text_X, train_X, val_X, train_y and val_y to None.\n",
    "\n",
    "test_X = train_X = val_X = train_y = val_y = None"
   ]
  },
  {
   "cell_type": "markdown",
   "metadata": {},
   "source": [
    "### Uploading Training / Validation files to S3\n",
    "\n",
    "Amazon's S3 service allows us to store files that can be accessed by both the built-in training models such as the XGBoost model we will be using as well as custom models such as the one we will see a little later.\n",
    "\n",
    "For this and most other tasks we will be doing using SageMaker, there are two methods we could use. The first is to use the low level functionality of SageMaker which requires knowing each of the objects involved in the SageMaker environment. The second is to use the high level functionality in which certain choices have been made on the user's behalf. The low level approach benefits from allowing the user a great deal of flexibility while the high level approach makes development much quicker. For our purposes we will opt to use the high level approach although using the low-level approach is certainly an option.\n",
    "\n",
    "Recall the method `upload_data()` which is a member of the object representing our current SageMaker session. What this method does is upload the data to the default bucket (which is created if it does not exist) into the path described by the key_prefix variable. To see this for yourself, once you have uploaded the data files, go to the S3 console and look to see where the files have been uploaded.\n",
    "\n",
    "For additional resources, see the __[SageMaker API documentation](http://sagemaker.readthedocs.io/en/latest/)__ and in addition the __[SageMaker Developer Guide.](https://docs.aws.amazon.com/sagemaker/latest/dg/)__"
   ]
  },
  {
   "cell_type": "code",
   "execution_count": 17,
   "metadata": {},
   "outputs": [],
   "source": [
    "import sagemaker\n",
    "\n",
    "session = sagemaker.Session() # Store the current SageMaker session\n",
    "\n",
    "# S3 prefix (which folder will we use)\n",
    "prefix = 'sentiment-web-app'\n",
    "\n",
    "test_location = session.upload_data(os.path.join(data_dir, 'test.csv'), key_prefix=prefix)\n",
    "val_location = session.upload_data(os.path.join(data_dir, 'validation.csv'), key_prefix=prefix)\n",
    "train_location = session.upload_data(os.path.join(data_dir, 'train.csv'), key_prefix=prefix)"
   ]
  },
  {
   "cell_type": "markdown",
   "metadata": {},
   "source": [
    "## Step 4: Creating the XGBoost model\n",
    "\n",
    "Now that the data has been uploaded it is time to create the XGBoost model. To begin with, we need to do some setup. At this point it is worth discussing what a model is in SageMaker. It is easiest to think of a model of comprising three different objects in the SageMaker ecosystem, which interact with one another.\n",
    "\n",
    "- Model Artifacts\n",
    "- Training Code (Container)\n",
    "- Inference Code (Container)\n",
    "\n",
    "The Model Artifacts are what you might think of as the actual model itself. For example, if you were building a neural network, the model artifacts would be the weights of the various layers. In our case, for an XGBoost model, the artifacts are the actual trees that are created during training.\n",
    "\n",
    "The other two objects, the training code and the inference code are then used to manipulate the training artifacts. More precisely, the training code uses the training data that is provided and creates the model artifacts, while the inference code uses the model artifacts to make predictions on new data.\n",
    "\n",
    "The way that SageMaker runs the training and inference code is by making use of Docker containers. For now, think of a container as being a way of packaging code up so that dependencies aren't an issue."
   ]
  },
  {
   "cell_type": "code",
   "execution_count": 18,
   "metadata": {},
   "outputs": [],
   "source": [
    "from sagemaker import get_execution_role\n",
    "\n",
    "# Our current execution role is required when creating the model as the training\n",
    "# and inference code will need to access the model artifacts.\n",
    "role = get_execution_role()"
   ]
  },
  {
   "cell_type": "code",
   "execution_count": 19,
   "metadata": {},
   "outputs": [],
   "source": [
    "# We need to retrieve the location of the container which is provided by Amazon for using XGBoost.\n",
    "# As a matter of convenience, the training and inference code both use the same container.\n",
    "from sagemaker.amazon.amazon_estimator import get_image_uri\n",
    "\n",
    "container = get_image_uri(session.boto_region_name, 'xgboost','0.90-1')"
   ]
  },
  {
   "cell_type": "code",
   "execution_count": 20,
   "metadata": {},
   "outputs": [],
   "source": [
    "# First we create a SageMaker estimator object for our model.\n",
    "xgb = sagemaker.estimator.Estimator(container, # The location of the container we wish to use\n",
    "                                    role,                                    # What is our current IAM Role\n",
    "                                    train_instance_count=1,                  # How many compute instances\n",
    "                                    train_instance_type='ml.m4.xlarge',      # What kind of compute instances\n",
    "                                    output_path='s3://{}/{}/output'.format(session.default_bucket(), prefix),\n",
    "                                    sagemaker_session=session)\n",
    "\n",
    "# And then set the algorithm specific parameters.\n",
    "xgb.set_hyperparameters(max_depth=5,\n",
    "                        eta=0.2,\n",
    "                        gamma=4,\n",
    "                        min_child_weight=6,\n",
    "                        subsample=0.8,\n",
    "                        silent=0,\n",
    "                        objective='binary:logistic',\n",
    "                        early_stopping_rounds=10,\n",
    "                        num_round=500)"
   ]
  },
  {
   "cell_type": "markdown",
   "metadata": {},
   "source": [
    "### Fit the XGBoost model\n",
    "\n",
    "Now that our model has been set up we simply need to attach the training and validation datasets and then ask SageMaker to set up the computation."
   ]
  },
  {
   "cell_type": "code",
   "execution_count": 21,
   "metadata": {},
   "outputs": [],
   "source": [
    "s3_input_train = sagemaker.s3_input(s3_data=train_location, content_type='csv')\n",
    "s3_input_validation = sagemaker.s3_input(s3_data=val_location, content_type='csv')"
   ]
  },
  {
   "cell_type": "code",
   "execution_count": 22,
   "metadata": {},
   "outputs": [
    {
     "name": "stdout",
     "output_type": "stream",
     "text": [
      "2020-05-09 04:31:55 Starting - Starting the training job...\n",
      "2020-05-09 04:31:56 Starting - Launching requested ML instances......\n",
      "2020-05-09 04:32:58 Starting - Preparing the instances for training...\n",
      "2020-05-09 04:33:45 Downloading - Downloading input data...\n",
      "2020-05-09 04:34:03 Training - Downloading the training image..\n",
      "2020-05-09 04:34:34 Training - Training image download completed. Training in progress.\u001b[34mINFO:sagemaker-containers:Imported framework sagemaker_xgboost_container.training\u001b[0m\n",
      "\u001b[34mINFO:sagemaker-containers:Failed to parse hyperparameter objective value binary:logistic to Json.\u001b[0m\n",
      "\u001b[34mReturning the value itself\u001b[0m\n",
      "\u001b[34mINFO:sagemaker-containers:No GPUs detected (normal if no gpus installed)\u001b[0m\n",
      "\u001b[34mINFO:sagemaker_xgboost_container.training:Running XGBoost Sagemaker in algorithm mode\u001b[0m\n",
      "\u001b[34mINFO:root:Determined delimiter of CSV input is ','\u001b[0m\n",
      "\u001b[34mINFO:root:Determined delimiter of CSV input is ','\u001b[0m\n",
      "\u001b[34mINFO:root:Determined delimiter of CSV input is ','\u001b[0m\n",
      "\u001b[34m[04:34:38] 15000x5000 matrix with 75000000 entries loaded from /opt/ml/input/data/train?format=csv&label_column=0&delimiter=,\u001b[0m\n",
      "\u001b[34mINFO:root:Determined delimiter of CSV input is ','\u001b[0m\n",
      "\u001b[34m[04:34:39] 10000x5000 matrix with 50000000 entries loaded from /opt/ml/input/data/validation?format=csv&label_column=0&delimiter=,\u001b[0m\n",
      "\u001b[34mINFO:root:Single node training.\u001b[0m\n",
      "\u001b[34mINFO:root:Train matrix has 15000 rows\u001b[0m\n",
      "\u001b[34mINFO:root:Validation matrix has 10000 rows\u001b[0m\n",
      "\u001b[34m[0]#011train-error:0.307667#011validation-error:0.3063\u001b[0m\n",
      "\u001b[34m[1]#011train-error:0.2926#011validation-error:0.2922\u001b[0m\n",
      "\u001b[34m[2]#011train-error:0.278667#011validation-error:0.2825\u001b[0m\n",
      "\u001b[34m[3]#011train-error:0.282933#011validation-error:0.2834\u001b[0m\n",
      "\u001b[34m[4]#011train-error:0.274867#011validation-error:0.2774\u001b[0m\n",
      "\u001b[34m[5]#011train-error:0.263267#011validation-error:0.2659\u001b[0m\n",
      "\u001b[34m[6]#011train-error:0.2558#011validation-error:0.2591\u001b[0m\n",
      "\u001b[34m[7]#011train-error:0.250467#011validation-error:0.2549\u001b[0m\n",
      "\u001b[34m[8]#011train-error:0.2458#011validation-error:0.2509\u001b[0m\n",
      "\u001b[34m[9]#011train-error:0.2374#011validation-error:0.2463\u001b[0m\n",
      "\u001b[34m[10]#011train-error:0.232533#011validation-error:0.2448\u001b[0m\n",
      "\u001b[34m[11]#011train-error:0.2254#011validation-error:0.2379\u001b[0m\n",
      "\u001b[34m[12]#011train-error:0.217733#011validation-error:0.2319\u001b[0m\n",
      "\u001b[34m[13]#011train-error:0.211467#011validation-error:0.2239\u001b[0m\n",
      "\u001b[34m[14]#011train-error:0.208267#011validation-error:0.2214\u001b[0m\n",
      "\u001b[34m[15]#011train-error:0.204867#011validation-error:0.219\u001b[0m\n",
      "\u001b[34m[16]#011train-error:0.198733#011validation-error:0.2152\u001b[0m\n",
      "\u001b[34m[17]#011train-error:0.196333#011validation-error:0.2142\u001b[0m\n",
      "\u001b[34m[18]#011train-error:0.1922#011validation-error:0.2098\u001b[0m\n",
      "\u001b[34m[19]#011train-error:0.191067#011validation-error:0.2066\u001b[0m\n",
      "\u001b[34m[20]#011train-error:0.186467#011validation-error:0.2061\u001b[0m\n",
      "\u001b[34m[21]#011train-error:0.184333#011validation-error:0.2036\u001b[0m\n",
      "\u001b[34m[22]#011train-error:0.183067#011validation-error:0.203\u001b[0m\n",
      "\u001b[34m[23]#011train-error:0.181267#011validation-error:0.1991\u001b[0m\n",
      "\u001b[34m[24]#011train-error:0.178467#011validation-error:0.1972\u001b[0m\n",
      "\u001b[34m[25]#011train-error:0.176533#011validation-error:0.1961\u001b[0m\n",
      "\u001b[34m[26]#011train-error:0.174667#011validation-error:0.1943\u001b[0m\n",
      "\u001b[34m[27]#011train-error:0.173267#011validation-error:0.1927\u001b[0m\n",
      "\u001b[34m[28]#011train-error:0.172267#011validation-error:0.1917\u001b[0m\n",
      "\u001b[34m[29]#011train-error:0.171333#011validation-error:0.1912\u001b[0m\n",
      "\u001b[34m[30]#011train-error:0.168867#011validation-error:0.1895\u001b[0m\n",
      "\u001b[34m[31]#011train-error:0.165667#011validation-error:0.1887\u001b[0m\n",
      "\u001b[34m[32]#011train-error:0.1636#011validation-error:0.1875\u001b[0m\n",
      "\u001b[34m[33]#011train-error:0.1614#011validation-error:0.1864\u001b[0m\n",
      "\u001b[34m[34]#011train-error:0.161533#011validation-error:0.1862\u001b[0m\n",
      "\u001b[34m[35]#011train-error:0.159533#011validation-error:0.1839\u001b[0m\n",
      "\u001b[34m[36]#011train-error:0.1596#011validation-error:0.1834\u001b[0m\n",
      "\u001b[34m[37]#011train-error:0.157667#011validation-error:0.1834\u001b[0m\n",
      "\u001b[34m[38]#011train-error:0.1542#011validation-error:0.1821\u001b[0m\n",
      "\u001b[34m[39]#011train-error:0.153267#011validation-error:0.1812\u001b[0m\n",
      "\u001b[34m[40]#011train-error:0.152667#011validation-error:0.1815\u001b[0m\n",
      "\u001b[34m[41]#011train-error:0.151733#011validation-error:0.1811\u001b[0m\n",
      "\u001b[34m[42]#011train-error:0.1502#011validation-error:0.1781\u001b[0m\n",
      "\u001b[34m[43]#011train-error:0.1484#011validation-error:0.1773\u001b[0m\n",
      "\u001b[34m[44]#011train-error:0.1478#011validation-error:0.1761\u001b[0m\n",
      "\u001b[34m[45]#011train-error:0.147133#011validation-error:0.1753\u001b[0m\n",
      "\u001b[34m[46]#011train-error:0.145867#011validation-error:0.1751\u001b[0m\n",
      "\u001b[34m[47]#011train-error:0.145333#011validation-error:0.174\u001b[0m\n",
      "\u001b[34m[48]#011train-error:0.1456#011validation-error:0.1729\u001b[0m\n",
      "\u001b[34m[49]#011train-error:0.143733#011validation-error:0.172\u001b[0m\n",
      "\u001b[34m[50]#011train-error:0.142#011validation-error:0.1719\u001b[0m\n",
      "\u001b[34m[51]#011train-error:0.141533#011validation-error:0.1726\u001b[0m\n",
      "\u001b[34m[52]#011train-error:0.140133#011validation-error:0.1717\u001b[0m\n",
      "\u001b[34m[53]#011train-error:0.139133#011validation-error:0.1701\u001b[0m\n",
      "\u001b[34m[54]#011train-error:0.138#011validation-error:0.1695\u001b[0m\n",
      "\u001b[34m[55]#011train-error:0.135533#011validation-error:0.1708\u001b[0m\n",
      "\u001b[34m[56]#011train-error:0.134267#011validation-error:0.1697\u001b[0m\n",
      "\u001b[34m[57]#011train-error:0.133667#011validation-error:0.1684\u001b[0m\n",
      "\u001b[34m[58]#011train-error:0.131333#011validation-error:0.1681\u001b[0m\n",
      "\u001b[34m[59]#011train-error:0.1304#011validation-error:0.1672\u001b[0m\n",
      "\u001b[34m[60]#011train-error:0.129933#011validation-error:0.167\u001b[0m\n",
      "\u001b[34m[61]#011train-error:0.1286#011validation-error:0.1644\u001b[0m\n",
      "\u001b[34m[62]#011train-error:0.127267#011validation-error:0.1654\u001b[0m\n",
      "\u001b[34m[63]#011train-error:0.127667#011validation-error:0.1662\u001b[0m\n",
      "\u001b[34m[64]#011train-error:0.126667#011validation-error:0.166\u001b[0m\n",
      "\u001b[34m[65]#011train-error:0.126067#011validation-error:0.1657\u001b[0m\n",
      "\u001b[34m[66]#011train-error:0.1244#011validation-error:0.164\u001b[0m\n",
      "\u001b[34m[67]#011train-error:0.122867#011validation-error:0.1638\u001b[0m\n",
      "\u001b[34m[68]#011train-error:0.121667#011validation-error:0.1628\u001b[0m\n",
      "\u001b[34m[69]#011train-error:0.1222#011validation-error:0.1617\u001b[0m\n",
      "\u001b[34m[70]#011train-error:0.1214#011validation-error:0.1614\u001b[0m\n",
      "\u001b[34m[71]#011train-error:0.120533#011validation-error:0.1618\u001b[0m\n",
      "\u001b[34m[72]#011train-error:0.120133#011validation-error:0.1614\u001b[0m\n",
      "\u001b[34m[73]#011train-error:0.120067#011validation-error:0.1615\u001b[0m\n",
      "\u001b[34m[74]#011train-error:0.118533#011validation-error:0.1614\u001b[0m\n",
      "\u001b[34m[75]#011train-error:0.118533#011validation-error:0.1607\u001b[0m\n",
      "\u001b[34m[76]#011train-error:0.117733#011validation-error:0.1602\u001b[0m\n",
      "\u001b[34m[77]#011train-error:0.1158#011validation-error:0.1605\u001b[0m\n",
      "\u001b[34m[78]#011train-error:0.1158#011validation-error:0.1601\u001b[0m\n",
      "\u001b[34m[79]#011train-error:0.1154#011validation-error:0.1585\u001b[0m\n",
      "\u001b[34m[80]#011train-error:0.1148#011validation-error:0.1589\u001b[0m\n",
      "\u001b[34m[81]#011train-error:0.1152#011validation-error:0.1585\u001b[0m\n",
      "\u001b[34m[82]#011train-error:0.114#011validation-error:0.1583\u001b[0m\n",
      "\u001b[34m[83]#011train-error:0.1128#011validation-error:0.1579\u001b[0m\n",
      "\u001b[34m[84]#011train-error:0.113067#011validation-error:0.1578\u001b[0m\n",
      "\u001b[34m[85]#011train-error:0.112#011validation-error:0.1566\u001b[0m\n",
      "\u001b[34m[86]#011train-error:0.111467#011validation-error:0.1561\u001b[0m\n",
      "\u001b[34m[87]#011train-error:0.1112#011validation-error:0.1552\u001b[0m\n",
      "\u001b[34m[88]#011train-error:0.111133#011validation-error:0.1551\u001b[0m\n",
      "\u001b[34m[89]#011train-error:0.110133#011validation-error:0.1544\u001b[0m\n",
      "\u001b[34m[90]#011train-error:0.109467#011validation-error:0.154\u001b[0m\n",
      "\u001b[34m[91]#011train-error:0.109333#011validation-error:0.1534\u001b[0m\n",
      "\u001b[34m[92]#011train-error:0.1086#011validation-error:0.152\u001b[0m\n",
      "\u001b[34m[93]#011train-error:0.108267#011validation-error:0.1519\u001b[0m\n",
      "\u001b[34m[94]#011train-error:0.107733#011validation-error:0.1512\u001b[0m\n",
      "\u001b[34m[95]#011train-error:0.107133#011validation-error:0.1504\u001b[0m\n",
      "\u001b[34m[96]#011train-error:0.106933#011validation-error:0.1505\u001b[0m\n",
      "\u001b[34m[97]#011train-error:0.105533#011validation-error:0.1511\u001b[0m\n",
      "\u001b[34m[98]#011train-error:0.1054#011validation-error:0.1516\u001b[0m\n",
      "\u001b[34m[99]#011train-error:0.104933#011validation-error:0.1519\u001b[0m\n",
      "\u001b[34m[100]#011train-error:0.1048#011validation-error:0.152\u001b[0m\n",
      "\u001b[34m[101]#011train-error:0.1044#011validation-error:0.1518\u001b[0m\n",
      "\u001b[34m[102]#011train-error:0.1036#011validation-error:0.1505\u001b[0m\n",
      "\u001b[34m[103]#011train-error:0.102933#011validation-error:0.1503\u001b[0m\n",
      "\u001b[34m[104]#011train-error:0.101867#011validation-error:0.1498\u001b[0m\n",
      "\u001b[34m[105]#011train-error:0.102133#011validation-error:0.15\u001b[0m\n"
     ]
    },
    {
     "name": "stdout",
     "output_type": "stream",
     "text": [
      "\u001b[34m[106]#011train-error:0.101667#011validation-error:0.1502\u001b[0m\n",
      "\u001b[34m[107]#011train-error:0.1018#011validation-error:0.1499\u001b[0m\n",
      "\u001b[34m[108]#011train-error:0.1014#011validation-error:0.1493\u001b[0m\n",
      "\u001b[34m[109]#011train-error:0.100533#011validation-error:0.1497\u001b[0m\n",
      "\u001b[34m[110]#011train-error:0.100267#011validation-error:0.1494\u001b[0m\n",
      "\u001b[34m[111]#011train-error:0.100133#011validation-error:0.1495\u001b[0m\n",
      "\u001b[34m[112]#011train-error:0.1#011validation-error:0.1491\u001b[0m\n",
      "\u001b[34m[113]#011train-error:0.099067#011validation-error:0.1486\u001b[0m\n",
      "\u001b[34m[114]#011train-error:0.098733#011validation-error:0.1486\u001b[0m\n",
      "\u001b[34m[115]#011train-error:0.098#011validation-error:0.1483\u001b[0m\n",
      "\u001b[34m[116]#011train-error:0.0976#011validation-error:0.1485\u001b[0m\n",
      "\u001b[34m[117]#011train-error:0.096867#011validation-error:0.1481\u001b[0m\n",
      "\u001b[34m[118]#011train-error:0.096467#011validation-error:0.147\u001b[0m\n",
      "\u001b[34m[119]#011train-error:0.0958#011validation-error:0.1471\u001b[0m\n",
      "\u001b[34m[120]#011train-error:0.095533#011validation-error:0.1473\u001b[0m\n",
      "\u001b[34m[121]#011train-error:0.095467#011validation-error:0.1467\u001b[0m\n",
      "\u001b[34m[122]#011train-error:0.095067#011validation-error:0.1465\u001b[0m\n",
      "\u001b[34m[123]#011train-error:0.0938#011validation-error:0.1463\u001b[0m\n",
      "\u001b[34m[124]#011train-error:0.0938#011validation-error:0.1459\u001b[0m\n",
      "\u001b[34m[125]#011train-error:0.093067#011validation-error:0.1457\u001b[0m\n",
      "\u001b[34m[126]#011train-error:0.093333#011validation-error:0.1456\u001b[0m\n",
      "\u001b[34m[127]#011train-error:0.093267#011validation-error:0.1449\u001b[0m\n",
      "\u001b[34m[128]#011train-error:0.0932#011validation-error:0.1454\u001b[0m\n",
      "\u001b[34m[129]#011train-error:0.092867#011validation-error:0.1448\u001b[0m\n",
      "\u001b[34m[130]#011train-error:0.092267#011validation-error:0.1452\u001b[0m\n",
      "\u001b[34m[131]#011train-error:0.0922#011validation-error:0.1447\u001b[0m\n",
      "\u001b[34m[132]#011train-error:0.0918#011validation-error:0.1457\u001b[0m\n",
      "\u001b[34m[133]#011train-error:0.091733#011validation-error:0.1453\u001b[0m\n",
      "\u001b[34m[134]#011train-error:0.0914#011validation-error:0.145\u001b[0m\n",
      "\u001b[34m[135]#011train-error:0.091333#011validation-error:0.145\u001b[0m\n",
      "\u001b[34m[136]#011train-error:0.0896#011validation-error:0.1438\u001b[0m\n",
      "\u001b[34m[137]#011train-error:0.09#011validation-error:0.1431\u001b[0m\n",
      "\u001b[34m[138]#011train-error:0.0894#011validation-error:0.1424\u001b[0m\n",
      "\u001b[34m[139]#011train-error:0.089067#011validation-error:0.1415\u001b[0m\n",
      "\u001b[34m[140]#011train-error:0.089067#011validation-error:0.1421\u001b[0m\n",
      "\u001b[34m[141]#011train-error:0.088667#011validation-error:0.1411\u001b[0m\n",
      "\u001b[34m[142]#011train-error:0.087667#011validation-error:0.1407\u001b[0m\n",
      "\u001b[34m[143]#011train-error:0.087733#011validation-error:0.1406\u001b[0m\n",
      "\u001b[34m[144]#011train-error:0.0874#011validation-error:0.1406\u001b[0m\n",
      "\u001b[34m[145]#011train-error:0.0874#011validation-error:0.1419\u001b[0m\n",
      "\u001b[34m[146]#011train-error:0.087333#011validation-error:0.1412\u001b[0m\n",
      "\u001b[34m[147]#011train-error:0.087067#011validation-error:0.1413\u001b[0m\n",
      "\u001b[34m[148]#011train-error:0.086733#011validation-error:0.1414\u001b[0m\n",
      "\u001b[34m[149]#011train-error:0.086467#011validation-error:0.1416\u001b[0m\n",
      "\u001b[34m[150]#011train-error:0.086467#011validation-error:0.1415\u001b[0m\n",
      "\u001b[34m[151]#011train-error:0.0856#011validation-error:0.1412\u001b[0m\n",
      "\u001b[34m[152]#011train-error:0.085467#011validation-error:0.141\u001b[0m\n",
      "\u001b[34m[153]#011train-error:0.085533#011validation-error:0.1411\u001b[0m\n",
      "\n",
      "2020-05-09 04:37:39 Uploading - Uploading generated training model\n",
      "2020-05-09 04:37:39 Completed - Training job completed\n",
      "Training seconds: 234\n",
      "Billable seconds: 234\n"
     ]
    }
   ],
   "source": [
    "xgb.fit({'train': s3_input_train, 'validation': s3_input_validation})"
   ]
  },
  {
   "cell_type": "markdown",
   "metadata": {},
   "source": [
    "## Step 5: Testing the model\n",
    "\n",
    "Now that we've fit our XGBoost model, it's time to see how well it performs. To do this we will use SageMakers Batch Transform functionality. Batch Transform is a convenient way to perform inference on a large dataset in a way that is not realtime. That is, we don't necessarily need to use our model's results immediately and instead we can perform inference on a large number of samples. An example of this in industry might be performing an end of month report. This method of inference can also be useful to us as it means that we can perform inference on our entire test set. \n",
    "\n",
    "To perform a Batch Transformation we need to first create a transformer objects from our trained estimator object."
   ]
  },
  {
   "cell_type": "code",
   "execution_count": 23,
   "metadata": {},
   "outputs": [],
   "source": [
    "xgb_transformer = xgb.transformer(instance_count = 1, instance_type = 'ml.m4.xlarge')"
   ]
  },
  {
   "cell_type": "markdown",
   "metadata": {},
   "source": [
    "Next we actually perform the transform job. When doing so we need to make sure to specify the type of data we are sending so that it is serialized correctly in the background. In our case we are providing our model with csv data so we specify `text/csv`. Also, if the test data that we have provided is too large to process all at once then we need to specify how the data file should be split up. Since each line is a single entry in our data set we tell SageMaker that it can split the input on each line."
   ]
  },
  {
   "cell_type": "code",
   "execution_count": 24,
   "metadata": {},
   "outputs": [],
   "source": [
    "xgb_transformer.transform(test_location, content_type='text/csv', split_type='Line')"
   ]
  },
  {
   "cell_type": "markdown",
   "metadata": {},
   "source": [
    "Currently the transform job is running but it is doing so in the background. Since we wish to wait until the transform job is done and we would like a bit of feedback we can run the `wait()` method."
   ]
  },
  {
   "cell_type": "code",
   "execution_count": 25,
   "metadata": {},
   "outputs": [
    {
     "name": "stdout",
     "output_type": "stream",
     "text": [
      "......................\u001b[34m[2020-05-09 04:41:40 +0000] [15] [INFO] Starting gunicorn 19.10.0\u001b[0m\n",
      "\u001b[34m[2020-05-09 04:41:40 +0000] [15] [INFO] Listening at: unix:/tmp/gunicorn.sock (15)\u001b[0m\n",
      "\u001b[34m[2020-05-09 04:41:40 +0000] [15] [INFO] Using worker: gevent\u001b[0m\n",
      "\u001b[34m[2020-05-09 04:41:40 +0000] [22] [INFO] Booting worker with pid: 22\u001b[0m\n",
      "\u001b[34m[2020-05-09 04:41:40 +0000] [26] [INFO] Booting worker with pid: 26\u001b[0m\n",
      "\u001b[34m[2020-05-09 04:41:40 +0000] [27] [INFO] Booting worker with pid: 27\u001b[0m\n",
      "\u001b[34m[2020-05-09 04:41:40 +0000] [28] [INFO] Booting worker with pid: 28\u001b[0m\n",
      "\u001b[34m[2020-05-09:04:42:12:INFO] No GPUs detected (normal if no gpus installed)\u001b[0m\n",
      "\u001b[34m169.254.255.130 - - [09/May/2020:04:42:12 +0000] \"GET /ping HTTP/1.1\" 200 0 \"-\" \"Go-http-client/1.1\"\u001b[0m\n",
      "\u001b[34m169.254.255.130 - - [09/May/2020:04:42:12 +0000] \"GET /execution-parameters HTTP/1.1\" 200 84 \"-\" \"Go-http-client/1.1\"\u001b[0m\n",
      "\u001b[35m[2020-05-09:04:42:12:INFO] No GPUs detected (normal if no gpus installed)\u001b[0m\n",
      "\u001b[35m169.254.255.130 - - [09/May/2020:04:42:12 +0000] \"GET /ping HTTP/1.1\" 200 0 \"-\" \"Go-http-client/1.1\"\u001b[0m\n",
      "\u001b[35m169.254.255.130 - - [09/May/2020:04:42:12 +0000] \"GET /execution-parameters HTTP/1.1\" 200 84 \"-\" \"Go-http-client/1.1\"\u001b[0m\n",
      "\u001b[32m2020-05-09T04:42:12.148:[sagemaker logs]: MaxConcurrentTransforms=4, MaxPayloadInMB=6, BatchStrategy=MULTI_RECORD\u001b[0m\n",
      "\u001b[34m[2020-05-09:04:42:14:INFO] No GPUs detected (normal if no gpus installed)\u001b[0m\n",
      "\u001b[35m[2020-05-09:04:42:14:INFO] No GPUs detected (normal if no gpus installed)\u001b[0m\n",
      "\u001b[34m[2020-05-09:04:42:14:INFO] Determined delimiter of CSV input is ','\u001b[0m\n",
      "\u001b[34m[2020-05-09:04:42:14:INFO] Determined delimiter of CSV input is ','\u001b[0m\n",
      "\u001b[34m[2020-05-09:04:42:14:INFO] No GPUs detected (normal if no gpus installed)\u001b[0m\n",
      "\u001b[34m[2020-05-09:04:42:15:INFO] No GPUs detected (normal if no gpus installed)\u001b[0m\n",
      "\u001b[35m[2020-05-09:04:42:14:INFO] Determined delimiter of CSV input is ','\u001b[0m\n",
      "\u001b[35m[2020-05-09:04:42:14:INFO] Determined delimiter of CSV input is ','\u001b[0m\n",
      "\u001b[35m[2020-05-09:04:42:14:INFO] No GPUs detected (normal if no gpus installed)\u001b[0m\n",
      "\u001b[35m[2020-05-09:04:42:15:INFO] No GPUs detected (normal if no gpus installed)\u001b[0m\n",
      "\u001b[34m[2020-05-09:04:42:15:INFO] Determined delimiter of CSV input is ','\u001b[0m\n",
      "\u001b[34m[2020-05-09:04:42:15:INFO] Determined delimiter of CSV input is ','\u001b[0m\n",
      "\u001b[35m[2020-05-09:04:42:15:INFO] Determined delimiter of CSV input is ','\u001b[0m\n",
      "\u001b[35m[2020-05-09:04:42:15:INFO] Determined delimiter of CSV input is ','\u001b[0m\n",
      "\u001b[34m169.254.255.130 - - [09/May/2020:04:42:18 +0000] \"POST /invocations HTTP/1.1\" 200 12221 \"-\" \"Go-http-client/1.1\"\u001b[0m\n",
      "\u001b[34m169.254.255.130 - - [09/May/2020:04:42:18 +0000] \"POST /invocations HTTP/1.1\" 200 12171 \"-\" \"Go-http-client/1.1\"\u001b[0m\n",
      "\u001b[34m[2020-05-09:04:42:18:INFO] Determined delimiter of CSV input is ','\u001b[0m\n",
      "\u001b[34m[2020-05-09:04:42:18:INFO] Determined delimiter of CSV input is ','\u001b[0m\n",
      "\u001b[34m[2020-05-09:04:42:18:INFO] Determined delimiter of CSV input is ','\u001b[0m\n",
      "\u001b[35m169.254.255.130 - - [09/May/2020:04:42:18 +0000] \"POST /invocations HTTP/1.1\" 200 12221 \"-\" \"Go-http-client/1.1\"\u001b[0m\n",
      "\u001b[35m169.254.255.130 - - [09/May/2020:04:42:18 +0000] \"POST /invocations HTTP/1.1\" 200 12171 \"-\" \"Go-http-client/1.1\"\u001b[0m\n",
      "\u001b[35m[2020-05-09:04:42:18:INFO] Determined delimiter of CSV input is ','\u001b[0m\n",
      "\u001b[35m[2020-05-09:04:42:18:INFO] Determined delimiter of CSV input is ','\u001b[0m\n",
      "\u001b[35m[2020-05-09:04:42:18:INFO] Determined delimiter of CSV input is ','\u001b[0m\n",
      "\u001b[34m[2020-05-09:04:42:19:INFO] Determined delimiter of CSV input is ','\u001b[0m\n",
      "\u001b[35m[2020-05-09:04:42:19:INFO] Determined delimiter of CSV input is ','\u001b[0m\n",
      "\u001b[34m169.254.255.130 - - [09/May/2020:04:42:21 +0000] \"POST /invocations HTTP/1.1\" 200 12188 \"-\" \"Go-http-client/1.1\"\u001b[0m\n",
      "\u001b[34m169.254.255.130 - - [09/May/2020:04:42:21 +0000] \"POST /invocations HTTP/1.1\" 200 12206 \"-\" \"Go-http-client/1.1\"\u001b[0m\n",
      "\u001b[35m169.254.255.130 - - [09/May/2020:04:42:21 +0000] \"POST /invocations HTTP/1.1\" 200 12188 \"-\" \"Go-http-client/1.1\"\u001b[0m\n",
      "\u001b[35m169.254.255.130 - - [09/May/2020:04:42:21 +0000] \"POST /invocations HTTP/1.1\" 200 12206 \"-\" \"Go-http-client/1.1\"\u001b[0m\n",
      "\u001b[34m[2020-05-09:04:42:22:INFO] Determined delimiter of CSV input is ','\u001b[0m\n",
      "\u001b[34m169.254.255.130 - - [09/May/2020:04:42:22 +0000] \"POST /invocations HTTP/1.1\" 200 12202 \"-\" \"Go-http-client/1.1\"\u001b[0m\n",
      "\u001b[34m[2020-05-09:04:42:22:INFO] Determined delimiter of CSV input is ','\u001b[0m\n",
      "\u001b[34m[2020-05-09:04:42:22:INFO] Determined delimiter of CSV input is ','\u001b[0m\n",
      "\u001b[34m169.254.255.130 - - [09/May/2020:04:42:22 +0000] \"POST /invocations HTTP/1.1\" 200 12219 \"-\" \"Go-http-client/1.1\"\u001b[0m\n",
      "\u001b[34m[2020-05-09:04:42:22:INFO] Determined delimiter of CSV input is ','\u001b[0m\n",
      "\u001b[35m[2020-05-09:04:42:22:INFO] Determined delimiter of CSV input is ','\u001b[0m\n",
      "\u001b[35m169.254.255.130 - - [09/May/2020:04:42:22 +0000] \"POST /invocations HTTP/1.1\" 200 12202 \"-\" \"Go-http-client/1.1\"\u001b[0m\n",
      "\u001b[35m[2020-05-09:04:42:22:INFO] Determined delimiter of CSV input is ','\u001b[0m\n",
      "\u001b[35m[2020-05-09:04:42:22:INFO] Determined delimiter of CSV input is ','\u001b[0m\n",
      "\u001b[35m169.254.255.130 - - [09/May/2020:04:42:22 +0000] \"POST /invocations HTTP/1.1\" 200 12219 \"-\" \"Go-http-client/1.1\"\u001b[0m\n",
      "\u001b[35m[2020-05-09:04:42:22:INFO] Determined delimiter of CSV input is ','\u001b[0m\n",
      "\u001b[34m169.254.255.130 - - [09/May/2020:04:42:25 +0000] \"POST /invocations HTTP/1.1\" 200 12182 \"-\" \"Go-http-client/1.1\"\u001b[0m\n",
      "\u001b[34m169.254.255.130 - - [09/May/2020:04:42:25 +0000] \"POST /invocations HTTP/1.1\" 200 12180 \"-\" \"Go-http-client/1.1\"\u001b[0m\n",
      "\u001b[34m[2020-05-09:04:42:25:INFO] Determined delimiter of CSV input is ','\u001b[0m\n",
      "\u001b[34m169.254.255.130 - - [09/May/2020:04:42:25 +0000] \"POST /invocations HTTP/1.1\" 200 12172 \"-\" \"Go-http-client/1.1\"\u001b[0m\n",
      "\u001b[34m[2020-05-09:04:42:25:INFO] Determined delimiter of CSV input is ','\u001b[0m\n",
      "\u001b[34m[2020-05-09:04:42:25:INFO] Determined delimiter of CSV input is ','\u001b[0m\n",
      "\u001b[35m169.254.255.130 - - [09/May/2020:04:42:25 +0000] \"POST /invocations HTTP/1.1\" 200 12182 \"-\" \"Go-http-client/1.1\"\u001b[0m\n",
      "\u001b[35m169.254.255.130 - - [09/May/2020:04:42:25 +0000] \"POST /invocations HTTP/1.1\" 200 12180 \"-\" \"Go-http-client/1.1\"\u001b[0m\n",
      "\u001b[35m[2020-05-09:04:42:25:INFO] Determined delimiter of CSV input is ','\u001b[0m\n",
      "\u001b[35m169.254.255.130 - - [09/May/2020:04:42:25 +0000] \"POST /invocations HTTP/1.1\" 200 12172 \"-\" \"Go-http-client/1.1\"\u001b[0m\n",
      "\u001b[35m[2020-05-09:04:42:25:INFO] Determined delimiter of CSV input is ','\u001b[0m\n",
      "\u001b[35m[2020-05-09:04:42:25:INFO] Determined delimiter of CSV input is ','\u001b[0m\n",
      "\u001b[34m169.254.255.130 - - [09/May/2020:04:42:26 +0000] \"POST /invocations HTTP/1.1\" 200 12196 \"-\" \"Go-http-client/1.1\"\u001b[0m\n",
      "\u001b[34m[2020-05-09:04:42:26:INFO] Determined delimiter of CSV input is ','\u001b[0m\n",
      "\u001b[35m169.254.255.130 - - [09/May/2020:04:42:26 +0000] \"POST /invocations HTTP/1.1\" 200 12196 \"-\" \"Go-http-client/1.1\"\u001b[0m\n",
      "\u001b[35m[2020-05-09:04:42:26:INFO] Determined delimiter of CSV input is ','\u001b[0m\n",
      "\u001b[34m169.254.255.130 - - [09/May/2020:04:42:29 +0000] \"POST /invocations HTTP/1.1\" 200 12184 \"-\" \"Go-http-client/1.1\"\u001b[0m\n",
      "\u001b[34m169.254.255.130 - - [09/May/2020:04:42:29 +0000] \"POST /invocations HTTP/1.1\" 200 12220 \"-\" \"Go-http-client/1.1\"\u001b[0m\n",
      "\u001b[34m169.254.255.130 - - [09/May/2020:04:42:29 +0000] \"POST /invocations HTTP/1.1\" 200 12174 \"-\" \"Go-http-client/1.1\"\u001b[0m\n",
      "\u001b[34m[2020-05-09:04:42:29:INFO] Determined delimiter of CSV input is ','\u001b[0m\n",
      "\u001b[34m[2020-05-09:04:42:29:INFO] Determined delimiter of CSV input is ','\u001b[0m\n",
      "\u001b[34m[2020-05-09:04:42:29:INFO] Determined delimiter of CSV input is ','\u001b[0m\n",
      "\u001b[34m169.254.255.130 - - [09/May/2020:04:42:29 +0000] \"POST /invocations HTTP/1.1\" 200 12198 \"-\" \"Go-http-client/1.1\"\u001b[0m\n",
      "\u001b[34m[2020-05-09:04:42:29:INFO] Determined delimiter of CSV input is ','\u001b[0m\n",
      "\u001b[35m169.254.255.130 - - [09/May/2020:04:42:29 +0000] \"POST /invocations HTTP/1.1\" 200 12184 \"-\" \"Go-http-client/1.1\"\u001b[0m\n",
      "\u001b[35m169.254.255.130 - - [09/May/2020:04:42:29 +0000] \"POST /invocations HTTP/1.1\" 200 12220 \"-\" \"Go-http-client/1.1\"\u001b[0m\n",
      "\u001b[35m169.254.255.130 - - [09/May/2020:04:42:29 +0000] \"POST /invocations HTTP/1.1\" 200 12174 \"-\" \"Go-http-client/1.1\"\u001b[0m\n",
      "\u001b[35m[2020-05-09:04:42:29:INFO] Determined delimiter of CSV input is ','\u001b[0m\n",
      "\u001b[35m[2020-05-09:04:42:29:INFO] Determined delimiter of CSV input is ','\u001b[0m\n",
      "\u001b[35m[2020-05-09:04:42:29:INFO] Determined delimiter of CSV input is ','\u001b[0m\n",
      "\u001b[35m169.254.255.130 - - [09/May/2020:04:42:29 +0000] \"POST /invocations HTTP/1.1\" 200 12198 \"-\" \"Go-http-client/1.1\"\u001b[0m\n",
      "\u001b[35m[2020-05-09:04:42:29:INFO] Determined delimiter of CSV input is ','\u001b[0m\n"
     ]
    },
    {
     "name": "stdout",
     "output_type": "stream",
     "text": [
      "\u001b[34m169.254.255.130 - - [09/May/2020:04:42:36 +0000] \"POST /invocations HTTP/1.1\" 200 12196 \"-\" \"Go-http-client/1.1\"\u001b[0m\n",
      "\u001b[34m[2020-05-09:04:42:36:INFO] Determined delimiter of CSV input is ','\u001b[0m\n",
      "\u001b[34m169.254.255.130 - - [09/May/2020:04:42:36 +0000] \"POST /invocations HTTP/1.1\" 200 12187 \"-\" \"Go-http-client/1.1\"\u001b[0m\n",
      "\u001b[34m169.254.255.130 - - [09/May/2020:04:42:36 +0000] \"POST /invocations HTTP/1.1\" 200 12172 \"-\" \"Go-http-client/1.1\"\u001b[0m\n",
      "\u001b[34m[2020-05-09:04:42:36:INFO] Determined delimiter of CSV input is ','\u001b[0m\n",
      "\u001b[34m169.254.255.130 - - [09/May/2020:04:42:36 +0000] \"POST /invocations HTTP/1.1\" 200 12238 \"-\" \"Go-http-client/1.1\"\u001b[0m\n",
      "\u001b[34m[2020-05-09:04:42:36:INFO] Determined delimiter of CSV input is ','\u001b[0m\n",
      "\u001b[34m[2020-05-09:04:42:36:INFO] Determined delimiter of CSV input is ','\u001b[0m\n",
      "\u001b[35m169.254.255.130 - - [09/May/2020:04:42:36 +0000] \"POST /invocations HTTP/1.1\" 200 12196 \"-\" \"Go-http-client/1.1\"\u001b[0m\n",
      "\u001b[35m[2020-05-09:04:42:36:INFO] Determined delimiter of CSV input is ','\u001b[0m\n",
      "\u001b[35m169.254.255.130 - - [09/May/2020:04:42:36 +0000] \"POST /invocations HTTP/1.1\" 200 12187 \"-\" \"Go-http-client/1.1\"\u001b[0m\n",
      "\u001b[35m169.254.255.130 - - [09/May/2020:04:42:36 +0000] \"POST /invocations HTTP/1.1\" 200 12172 \"-\" \"Go-http-client/1.1\"\u001b[0m\n",
      "\u001b[35m[2020-05-09:04:42:36:INFO] Determined delimiter of CSV input is ','\u001b[0m\n",
      "\u001b[35m169.254.255.130 - - [09/May/2020:04:42:36 +0000] \"POST /invocations HTTP/1.1\" 200 12238 \"-\" \"Go-http-client/1.1\"\u001b[0m\n",
      "\u001b[35m[2020-05-09:04:42:36:INFO] Determined delimiter of CSV input is ','\u001b[0m\n",
      "\u001b[35m[2020-05-09:04:42:36:INFO] Determined delimiter of CSV input is ','\u001b[0m\n",
      "\u001b[34m169.254.255.130 - - [09/May/2020:04:42:43 +0000] \"POST /invocations HTTP/1.1\" 200 12188 \"-\" \"Go-http-client/1.1\"\u001b[0m\n",
      "\u001b[35m169.254.255.130 - - [09/May/2020:04:42:43 +0000] \"POST /invocations HTTP/1.1\" 200 12188 \"-\" \"Go-http-client/1.1\"\u001b[0m\n",
      "\u001b[34m[2020-05-09:04:42:43:INFO] Determined delimiter of CSV input is ','\u001b[0m\n",
      "\u001b[34m169.254.255.130 - - [09/May/2020:04:42:43 +0000] \"POST /invocations HTTP/1.1\" 200 12169 \"-\" \"Go-http-client/1.1\"\u001b[0m\n",
      "\u001b[34m169.254.255.130 - - [09/May/2020:04:42:43 +0000] \"POST /invocations HTTP/1.1\" 200 12214 \"-\" \"Go-http-client/1.1\"\u001b[0m\n",
      "\u001b[34m[2020-05-09:04:42:43:INFO] Determined delimiter of CSV input is ','\u001b[0m\n",
      "\u001b[34m[2020-05-09:04:42:43:INFO] Determined delimiter of CSV input is ','\u001b[0m\n",
      "\u001b[34m169.254.255.130 - - [09/May/2020:04:42:43 +0000] \"POST /invocations HTTP/1.1\" 200 12200 \"-\" \"Go-http-client/1.1\"\u001b[0m\n",
      "\u001b[35m[2020-05-09:04:42:43:INFO] Determined delimiter of CSV input is ','\u001b[0m\n",
      "\u001b[35m169.254.255.130 - - [09/May/2020:04:42:43 +0000] \"POST /invocations HTTP/1.1\" 200 12169 \"-\" \"Go-http-client/1.1\"\u001b[0m\n",
      "\u001b[35m169.254.255.130 - - [09/May/2020:04:42:43 +0000] \"POST /invocations HTTP/1.1\" 200 12214 \"-\" \"Go-http-client/1.1\"\u001b[0m\n",
      "\u001b[35m[2020-05-09:04:42:43:INFO] Determined delimiter of CSV input is ','\u001b[0m\n",
      "\u001b[35m[2020-05-09:04:42:43:INFO] Determined delimiter of CSV input is ','\u001b[0m\n",
      "\u001b[35m169.254.255.130 - - [09/May/2020:04:42:43 +0000] \"POST /invocations HTTP/1.1\" 200 12200 \"-\" \"Go-http-client/1.1\"\u001b[0m\n",
      "\u001b[34m[2020-05-09:04:42:44:INFO] Determined delimiter of CSV input is ','\u001b[0m\n",
      "\u001b[35m[2020-05-09:04:42:44:INFO] Determined delimiter of CSV input is ','\u001b[0m\n",
      "\u001b[34m169.254.255.130 - - [09/May/2020:04:42:46 +0000] \"POST /invocations HTTP/1.1\" 200 12175 \"-\" \"Go-http-client/1.1\"\u001b[0m\n",
      "\u001b[34m[2020-05-09:04:42:46:INFO] Determined delimiter of CSV input is ','\u001b[0m\n",
      "\u001b[35m169.254.255.130 - - [09/May/2020:04:42:46 +0000] \"POST /invocations HTTP/1.1\" 200 12175 \"-\" \"Go-http-client/1.1\"\u001b[0m\n",
      "\u001b[35m[2020-05-09:04:42:46:INFO] Determined delimiter of CSV input is ','\u001b[0m\n",
      "\u001b[34m169.254.255.130 - - [09/May/2020:04:42:47 +0000] \"POST /invocations HTTP/1.1\" 200 12200 \"-\" \"Go-http-client/1.1\"\u001b[0m\n",
      "\u001b[34m169.254.255.130 - - [09/May/2020:04:42:47 +0000] \"POST /invocations HTTP/1.1\" 200 12136 \"-\" \"Go-http-client/1.1\"\u001b[0m\n",
      "\u001b[34m[2020-05-09:04:42:47:INFO] Determined delimiter of CSV input is ','\u001b[0m\n",
      "\u001b[34m169.254.255.130 - - [09/May/2020:04:42:47 +0000] \"POST /invocations HTTP/1.1\" 200 12178 \"-\" \"Go-http-client/1.1\"\u001b[0m\n",
      "\u001b[34m[2020-05-09:04:42:47:INFO] Determined delimiter of CSV input is ','\u001b[0m\n",
      "\u001b[34m[2020-05-09:04:42:47:INFO] Determined delimiter of CSV input is ','\u001b[0m\n",
      "\u001b[35m169.254.255.130 - - [09/May/2020:04:42:47 +0000] \"POST /invocations HTTP/1.1\" 200 12200 \"-\" \"Go-http-client/1.1\"\u001b[0m\n",
      "\u001b[35m169.254.255.130 - - [09/May/2020:04:42:47 +0000] \"POST /invocations HTTP/1.1\" 200 12136 \"-\" \"Go-http-client/1.1\"\u001b[0m\n",
      "\u001b[35m[2020-05-09:04:42:47:INFO] Determined delimiter of CSV input is ','\u001b[0m\n",
      "\u001b[35m169.254.255.130 - - [09/May/2020:04:42:47 +0000] \"POST /invocations HTTP/1.1\" 200 12178 \"-\" \"Go-http-client/1.1\"\u001b[0m\n",
      "\u001b[35m[2020-05-09:04:42:47:INFO] Determined delimiter of CSV input is ','\u001b[0m\n",
      "\u001b[35m[2020-05-09:04:42:47:INFO] Determined delimiter of CSV input is ','\u001b[0m\n",
      "\n"
     ]
    }
   ],
   "source": [
    "xgb_transformer.wait()"
   ]
  },
  {
   "cell_type": "markdown",
   "metadata": {},
   "source": [
    "Now the transform job has executed and the result, the estimated sentiment of each review, has been saved on S3. Since we would rather work on this file locally we can perform a bit of notebook magic to copy the file to the `data_dir`."
   ]
  },
  {
   "cell_type": "code",
   "execution_count": 26,
   "metadata": {},
   "outputs": [
    {
     "name": "stdout",
     "output_type": "stream",
     "text": [
      "Completed 256.0 KiB/473.2 KiB (2.8 MiB/s) with 1 file(s) remaining\r",
      "Completed 473.2 KiB/473.2 KiB (4.7 MiB/s) with 1 file(s) remaining\r",
      "download: s3://sagemaker-ap-northeast-1-008133396300/sagemaker-xgboost-2020-05-09-04-38-11-272/test.csv.out to ../data/sentiment_web_app/test.csv.out\r\n"
     ]
    }
   ],
   "source": [
    "!aws s3 cp --recursive $xgb_transformer.output_path $data_dir"
   ]
  },
  {
   "cell_type": "markdown",
   "metadata": {},
   "source": [
    "The last step is now to read in the output from our model, convert the output to something a little more usable, in this case we want the sentiment to be either `1` (positive) or `0` (negative), and then compare to the ground truth labels."
   ]
  },
  {
   "cell_type": "code",
   "execution_count": 27,
   "metadata": {},
   "outputs": [],
   "source": [
    "predictions = pd.read_csv(os.path.join(data_dir, 'test.csv.out'), header=None)\n",
    "predictions = [round(num) for num in predictions.squeeze().values]"
   ]
  },
  {
   "cell_type": "code",
   "execution_count": 28,
   "metadata": {},
   "outputs": [
    {
     "data": {
      "text/plain": [
       "0.85576"
      ]
     },
     "execution_count": 28,
     "metadata": {},
     "output_type": "execute_result"
    }
   ],
   "source": [
    "from sklearn.metrics import accuracy_score\n",
    "accuracy_score(test_y, predictions)"
   ]
  },
  {
   "cell_type": "markdown",
   "metadata": {},
   "source": [
    "## Step 6: Deploying the model\n",
    "\n",
    "Once we construct and fit our model, SageMaker stores the resulting model artifacts and we can use those to deploy an endpoint (inference code). To see this, look in the SageMaker console and you should see that a model has been created along with a link to the S3 location where the model artifacts have been stored.\n",
    "\n",
    "Deploying an endpoint is a lot like training the model with a few important differences. The first is that a deployed model doesn't change the model artifacts, so as you send it various testing instances the model won't change. Another difference is that since we aren't performing a fixed computation, as we were in the training step or while performing a batch transform, the compute instance that gets started stays running until we tell it to stop. This is important to note as if we forget and leave it running we will be charged the entire time.\n",
    "\n",
    "In other words **If you are no longer using a deployed endpoint, shut it down!**"
   ]
  },
  {
   "cell_type": "code",
   "execution_count": 29,
   "metadata": {},
   "outputs": [
    {
     "name": "stderr",
     "output_type": "stream",
     "text": [
      "Using already existing model: sagemaker-xgboost-2020-05-09-04-31-55-048\n"
     ]
    },
    {
     "name": "stdout",
     "output_type": "stream",
     "text": [
      "---------------!"
     ]
    }
   ],
   "source": [
    "xgb_predictor = xgb.deploy(initial_instance_count = 1, instance_type = 'ml.m4.xlarge')"
   ]
  },
  {
   "cell_type": "markdown",
   "metadata": {},
   "source": [
    "### Testing the model (again)\n",
    "\n",
    "Now that we have deployed our endpoint, we can send the testing data to it and get back the inference results. We already did this earlier using the batch transform functionality of SageMaker, however, we will test our model again using the newly deployed endpoint so that we can make sure that it works properly and to get a bit of a feel for how the endpoint works.\n",
    "\n",
    "When using the created endpoint it is important to know that we are limited in the amount of information we can send in each call so we need to break the testing data up into chunks and then send each chunk. Also, we need to serialize our data before we send it to the endpoint to ensure that our data is transmitted properly. Fortunately, SageMaker can do the serialization part for us provided we tell it the format of our data."
   ]
  },
  {
   "cell_type": "code",
   "execution_count": 30,
   "metadata": {},
   "outputs": [],
   "source": [
    "from sagemaker.predictor import csv_serializer\n",
    "\n",
    "# We need to tell the endpoint what format the data we are sending is in so that SageMaker can perform the serialization.\n",
    "xgb_predictor.content_type = 'text/csv'\n",
    "xgb_predictor.serializer = csv_serializer"
   ]
  },
  {
   "cell_type": "code",
   "execution_count": 31,
   "metadata": {},
   "outputs": [],
   "source": [
    "# We split the data into chunks and send each chunk seperately, accumulating the results.\n",
    "\n",
    "def predict(data, rows=512):\n",
    "    split_array = np.array_split(data, int(data.shape[0] / float(rows) + 1))\n",
    "    predictions = ''\n",
    "    for array in split_array:\n",
    "        predictions = ','.join([predictions, xgb_predictor.predict(array).decode('utf-8')])\n",
    "    \n",
    "    return np.fromstring(predictions[1:], sep=',')"
   ]
  },
  {
   "cell_type": "code",
   "execution_count": 32,
   "metadata": {},
   "outputs": [],
   "source": [
    "test_X = pd.read_csv(os.path.join(data_dir, 'test.csv'), header=None).values\n",
    "\n",
    "predictions = predict(test_X)\n",
    "predictions = [round(num) for num in predictions]"
   ]
  },
  {
   "cell_type": "markdown",
   "metadata": {},
   "source": [
    "Lastly, we check to see what the accuracy of our model is."
   ]
  },
  {
   "cell_type": "code",
   "execution_count": 33,
   "metadata": {},
   "outputs": [
    {
     "data": {
      "text/plain": [
       "0.85576"
      ]
     },
     "execution_count": 33,
     "metadata": {},
     "output_type": "execute_result"
    }
   ],
   "source": [
    "from sklearn.metrics import accuracy_score\n",
    "accuracy_score(test_y, predictions)"
   ]
  },
  {
   "cell_type": "markdown",
   "metadata": {},
   "source": [
    "And the results here should agree with the model testing that we did earlier using the batch transform job.\n",
    "\n",
    "### Cleaning up\n",
    "\n",
    "Now that we've determined that deploying our model works as expected, we are going to shut it down. Remember that the longer the endpoint is left running, the greater the cost and since we have a bit more work to do before we are able to use our endpoint with our simple web app, we should shut everything down."
   ]
  },
  {
   "cell_type": "code",
   "execution_count": 34,
   "metadata": {},
   "outputs": [],
   "source": [
    "xgb_predictor.delete_endpoint()"
   ]
  },
  {
   "cell_type": "markdown",
   "metadata": {},
   "source": [
    "## Step 7: Putting our model to work\n",
    "\n",
    "As we've mentioned a few times now, our goal is to have our model deployed and then access it using a very simple web app. The intent is for this web app to take some user submitted data (a review), send it off to our endpoint (the model) and then display the result.\n",
    "\n",
    "However, there is a small catch. Currently the only way we can access the endpoint to send it data is using the SageMaker API. We can, if we wish, expose the actual URL that our model's endpoint is receiving data from, however, if we just send it data ourselves we will not get anything in return. This is because the endpoint created by SageMaker requires the entity accessing it have the correct permissions. So, we would need to somehow authenticate our web app with AWS.\n",
    "\n",
    "Having a website that authenticates to AWS seems a bit beyond the scope of this lesson so we will opt for an alternative approach. Namely, we will create a new endpoint which does not require authentication and which acts as a proxy for the SageMaker endpoint.\n",
    "\n",
    "As an additional constraint, we will try to avoid doing any data processing in the web app itself. Remember that when we constructed and tested our model we started with a movie review, then we simplified it by removing any html formatting and punctuation, then we constructed a bag of words embedding and the resulting vector is what we sent to our model. All of this needs to be done to our user input as well.\n",
    "\n",
    "Fortunately we can do all of this data processing in the backend, using Amazon's Lambda service.\n",
    "\n",
    "<img src=\"Web App Diagram.svg\">\n",
    "\n",
    "The diagram above gives an overview of how the various services will work together. On the far right is the model which we trained above and which will be deployed using SageMaker. On the far left is our web app that collects a user's movie review, sends it off and expects a positive or negative sentiment in return.\n",
    "\n",
    "In the middle is where some of the magic happens. We will construct a Lambda function, which you can think of as a straightforward Python function that can be executed whenever a specified event occurs. This Python function will do the data processing we need to perform on a user submitted review. In addition, we will give this function permission to send and recieve data from a SageMaker endpoint.\n",
    "\n",
    "Lastly, the method we will use to execute the Lambda function is a new endpoint that we will create using API Gateway. This endpoint will be a url that listens for data to be sent to it. Once it gets some data it will pass that data on to the Lambda function and then return whatever the Lambda function returns. Essentially it will act as an interface that lets our web app communicate with the Lambda function.\n",
    "\n",
    "### Processing a single review\n",
    "\n",
    "For now, suppose we are given a movie review by our user in the form of a string, like so:"
   ]
  },
  {
   "cell_type": "code",
   "execution_count": 35,
   "metadata": {},
   "outputs": [],
   "source": [
    "test_review = \"Nothing but a disgusting materialistic pageant of glistening abed remote control greed zombies, totally devoid of any heart or heat. A romantic comedy that has zero romantic chemestry and zero laughs!\""
   ]
  },
  {
   "cell_type": "markdown",
   "metadata": {},
   "source": [
    "How do we go from this string to the bag of words feature vector that is expected by our model?\n",
    "\n",
    "If we recall at the beginning of this notebook, the first step is to remove any unnecessary characters using the `review_to_words` method. Remember that we intentionally did this in a very simplistic way. This is because we are going to have to copy this method to our (eventual) Lambda function (we will go into more detail later) and this means it needs to be rather simplistic."
   ]
  },
  {
   "cell_type": "code",
   "execution_count": 36,
   "metadata": {},
   "outputs": [
    {
     "name": "stdout",
     "output_type": "stream",
     "text": [
      "nothing but a disgusting materialistic pageant of glistening abed remote control greed zombies totally devoid of any heart or heat a romantic comedy that has zero romantic chemestry and zero laughs\n"
     ]
    }
   ],
   "source": [
    "test_words = review_to_words(test_review)\n",
    "print(test_words)"
   ]
  },
  {
   "cell_type": "markdown",
   "metadata": {},
   "source": [
    "Next, we need to construct a bag of words embedding of the `test_words` string. To do this, remember that a bag of words embedding uses a `vocabulary` consisting of the most frequently appearing words in a set of documents. Then, for each word in the vocabulary we record the number of times that word appears in `test_words`. We constructed the `vocabulary` earlier using the training set for our problem so encoding `test_words` is relatively straightforward."
   ]
  },
  {
   "cell_type": "code",
   "execution_count": 37,
   "metadata": {},
   "outputs": [],
   "source": [
    "def bow_encoding(words, vocabulary):\n",
    "    bow = [0] * len(vocabulary) # Start by setting the count for each word in the vocabulary to zero.\n",
    "    for word in words.split():  # For each word in the string\n",
    "        if word in vocabulary:  # If the word is one that occurs in the vocabulary, increase its count.\n",
    "            bow[vocabulary[word]] += 1\n",
    "    return bow"
   ]
  },
  {
   "cell_type": "code",
   "execution_count": 38,
   "metadata": {},
   "outputs": [
    {
     "name": "stdout",
     "output_type": "stream",
     "text": [
      "[0, 0, 0, 0, 0, 0, 0, 0, 0, 0, 0, 0, 0, 0, 0, 0, 0, 0, 0, 0, 0, 0, 0, 0, 0, 0, 0, 0, 0, 0, 0, 0, 0, 0, 0, 0, 0, 0, 0, 0, 0, 0, 0, 0, 0, 0, 0, 0, 0, 0, 0, 0, 0, 0, 0, 0, 0, 0, 0, 0, 0, 0, 0, 0, 0, 0, 0, 0, 0, 0, 0, 0, 0, 0, 0, 0, 0, 0, 0, 0, 0, 0, 0, 0, 0, 0, 0, 0, 0, 0, 0, 0, 0, 0, 0, 0, 0, 0, 0, 0, 0, 0, 0, 0, 0, 0, 0, 0, 0, 0, 0, 0, 0, 0, 0, 0, 0, 0, 0, 0, 0, 0, 0, 0, 0, 0, 0, 0, 0, 0, 0, 0, 0, 0, 0, 0, 0, 0, 0, 0, 0, 0, 0, 0, 0, 0, 0, 0, 0, 0, 0, 0, 0, 0, 0, 0, 0, 0, 0, 0, 0, 0, 0, 0, 0, 0, 0, 0, 0, 0, 0, 0, 0, 0, 0, 0, 0, 0, 0, 0, 0, 0, 0, 0, 0, 0, 0, 0, 0, 0, 0, 0, 0, 0, 0, 0, 0, 0, 0, 0, 0, 0, 0, 0, 0, 0, 0, 0, 0, 0, 0, 0, 0, 0, 0, 0, 0, 0, 0, 0, 0, 0, 0, 0, 0, 0, 1, 0, 0, 0, 0, 0, 0, 0, 0, 0, 0, 0, 0, 0, 0, 0, 0, 0, 0, 0, 0, 0, 0, 0, 0, 0, 0, 0, 0, 0, 1, 0, 0, 0, 0, 0, 0, 0, 0, 0, 0, 0, 0, 0, 0, 0, 0, 0, 0, 0, 0, 0, 0, 0, 0, 0, 0, 0, 0, 0, 0, 0, 0, 0, 0, 0, 0, 0, 0, 0, 0, 0, 0, 0, 0, 0, 0, 0, 0, 0, 0, 0, 0, 0, 0, 0, 0, 0, 0, 0, 0, 0, 0, 0, 0, 0, 0, 0, 0, 0, 0, 0, 0, 0, 0, 0, 0, 0, 0, 0, 0, 0, 0, 0, 0, 0, 0, 0, 0, 0, 0, 0, 0, 0, 0, 0, 0, 0, 0, 0, 0, 0, 0, 0, 0, 0, 0, 0, 0, 0, 0, 0, 0, 0, 0, 0, 0, 0, 0, 0, 0, 0, 0, 0, 0, 0, 0, 0, 0, 0, 0, 0, 0, 0, 0, 0, 0, 0, 0, 0, 0, 0, 0, 0, 0, 0, 0, 0, 0, 0, 0, 0, 0, 0, 0, 0, 0, 0, 0, 0, 0, 0, 0, 0, 0, 0, 0, 0, 0, 0, 0, 0, 0, 0, 0, 0, 0, 0, 0, 0, 0, 0, 0, 0, 0, 0, 0, 0, 0, 0, 0, 0, 0, 0, 0, 0, 0, 0, 0, 0, 0, 0, 0, 0, 0, 0, 0, 0, 0, 0, 0, 0, 0, 0, 0, 0, 0, 0, 0, 0, 0, 0, 0, 0, 0, 0, 0, 0, 0, 0, 0, 0, 0, 0, 0, 0, 0, 0, 0, 0, 0, 0, 0, 0, 0, 0, 0, 0, 0, 0, 0, 0, 0, 0, 0, 0, 0, 0, 0, 0, 0, 0, 0, 0, 0, 0, 0, 0, 0, 0, 0, 0, 0, 0, 0, 0, 0, 0, 0, 0, 0, 0, 0, 0, 0, 0, 0, 0, 0, 0, 0, 0, 0, 0, 0, 0, 0, 0, 0, 0, 0, 0, 0, 0, 0, 0, 0, 0, 0, 0, 0, 0, 0, 0, 0, 0, 0, 0, 0, 0, 0, 0, 0, 0, 0, 0, 0, 0, 0, 0, 0, 0, 0, 0, 0, 0, 0, 0, 0, 0, 0, 0, 0, 0, 0, 0, 0, 0, 0, 0, 0, 0, 0, 0, 0, 0, 0, 0, 0, 0, 0, 0, 0, 0, 0, 0, 0, 0, 0, 0, 0, 0, 0, 0, 0, 0, 0, 0, 0, 0, 1, 0, 0, 0, 0, 0, 0, 0, 0, 0, 0, 0, 0, 0, 0, 0, 0, 0, 0, 0, 0, 0, 0, 0, 0, 0, 0, 0, 0, 0, 0, 0, 0, 0, 0, 0, 0, 0, 0, 0, 0, 0, 0, 0, 0, 0, 0, 0, 0, 0, 0, 0, 0, 0, 0, 0, 0, 0, 0, 0, 0, 0, 0, 0, 0, 0, 0, 0, 0, 0, 0, 0, 0, 0, 0, 0, 0, 0, 0, 0, 0, 0, 0, 0, 0, 0, 0, 0, 0, 0, 0, 0, 0, 0, 0, 0, 0, 0, 0, 0, 0, 0, 0, 0, 0, 0, 0, 0, 0, 0, 0, 0, 0, 0, 0, 0, 0, 0, 0, 0, 0, 0, 0, 0, 0, 0, 0, 0, 0, 0, 0, 0, 0, 0, 0, 0, 0, 0, 0, 0, 0, 0, 0, 0, 0, 0, 0, 0, 0, 0, 0, 0, 0, 0, 0, 0, 0, 0, 0, 0, 0, 0, 0, 0, 0, 0, 0, 0, 0, 0, 0, 0, 0, 0, 0, 0, 0, 0, 0, 0, 0, 0, 0, 0, 0, 0, 0, 0, 0, 0, 0, 0, 0, 0, 0, 0, 0, 0, 0, 0, 0, 0, 0, 0, 0, 0, 0, 0, 0, 0, 0, 0, 0, 0, 0, 0, 0, 0, 0, 0, 0, 0, 0, 0, 0, 0, 0, 0, 0, 0, 0, 0, 0, 0, 0, 0, 0, 0, 0, 0, 0, 0, 0, 0, 0, 0, 0, 0, 0, 0, 0, 0, 0, 0, 1, 0, 0, 0, 0, 0, 0, 0, 0, 0, 0, 0, 0, 0, 0, 0, 0, 0, 0, 0, 0, 0, 0, 0, 0, 0, 0, 0, 0, 0, 0, 0, 0, 0, 0, 0, 0, 0, 0, 0, 0, 0, 0, 0, 0, 0, 0, 0, 0, 0, 0, 0, 0, 0, 0, 0, 0, 0, 0, 0, 0, 0, 0, 0, 0, 0, 0, 0, 0, 0, 0, 0, 0, 0, 0, 0, 0, 0, 0, 0, 0, 0, 0, 0, 0, 0, 0, 1, 0, 0, 0, 0, 0, 0, 0, 0, 0, 0, 0, 0, 0, 0, 0, 0, 0, 0, 0, 0, 0, 0, 0, 0, 0, 0, 0, 0, 0, 0, 0, 0, 0, 0, 0, 0, 0, 0, 0, 0, 0, 0, 0, 0, 0, 0, 0, 0, 0, 0, 0, 0, 0, 0, 0, 0, 0, 0, 0, 0, 0, 0, 0, 0, 0, 0, 0, 0, 0, 0, 0, 0, 0, 0, 0, 0, 0, 0, 0, 0, 0, 0, 0, 0, 0, 0, 0, 0, 0, 0, 0, 0, 0, 0, 0, 0, 0, 0, 0, 0, 0, 0, 0, 0, 0, 0, 0, 0, 0, 0, 0, 0, 0, 0, 0, 0, 0, 0, 0, 0, 0, 0, 0, 0, 0, 0, 0, 0, 0, 0, 0, 0, 0, 0, 0, 0, 0, 0, 0, 0, 0, 0, 0, 0, 0, 0, 0, 0, 0, 0, 0, 0, 0, 0, 0, 0, 0, 0, 0, 0, 0, 0, 0, 0, 0, 0, 0, 0, 0, 0, 0, 0, 0, 0, 0, 0, 0, 0, 0, 0, 0, 0, 0, 0, 0, 0, 0, 0, 0, 0, 0, 0, 0, 0, 0, 0, 0, 0, 0, 0, 0, 0, 0, 0, 0, 0, 0, 0, 0, 0, 0, 0, 0, 0, 0, 0, 0, 0, 0, 0, 0, 0, 0, 0, 0, 0, 0, 0, 0, 0, 0, 0, 0, 0, 0, 0, 0, 0, 0, 0, 0, 0, 0, 0, 0, 0, 0, 0, 0, 0, 0, 0, 1, 0, 0, 0, 0, 0, 0, 0, 0, 0, 0, 0, 0, 0, 0, 0, 0, 0, 0, 0, 0, 0, 0, 0, 0, 0, 0, 0, 0, 0, 0, 0, 0, 0, 0, 0, 0, 0, 0, 0, 0, 0, 0, 0, 0, 0, 0, 0, 0, 0, 0, 0, 0, 0, 0, 0, 1, 0, 0, 0, 0, 0, 0, 0, 0, 0, 0, 0, 0, 0, 0, 0, 0, 0, 0, 0, 0, 0, 0, 0, 0, 0, 0, 0, 0, 0, 0, 0, 0, 0, 0, 0, 0, 0, 0, 0, 0, 0, 0, 0, 0, 0, 0, 0, 0, 0, 0, 0, 0, 0, 0, 0, 0, 0, 0, 0, 0, 0, 0, 0, 0, 0, 0, 0, 0, 0, 0, 0, 0, 0, 0, 0, 0, 0, 0, 0, 0, 0, 0, 0, 0, 0, 0, 0, 0, 0, 0, 0, 0, 0, 0, 0, 0, 0, 0, 0, 0, 0, 0, 0, 0, 0, 0, 0, 0, 0, 0, 0, 0, 0, 0, 0, 0, 0, 0, 0, 0, 0, 0, 0, 0, 0, 0, 0, 0, 0, 0, 0, 0, 0, 0, 0, 0, 0, 0, 0, 0, 0, 0, 0, 0, 0, 0, 0, 0, 0, 0, 0, 0, 0, 0, 0, 0, 0, 0, 0, 0, 0, 0, 0, 0, 0, 0, 0, 0, 0, 0, 0, 0, 0, 0, 0, 0, 0, 0, 0, 0, 0, 0, 0, 0, 0, 0, 0, 0, 0, 0, 0, 0, 0, 0, 0, 0, 0, 0, 0, 0, 0, 0, 0, 0, 0, 0, 0, 0, 0, 0, 0, 0, 0, 0, 0, 0, 0, 0, 0, 0, 0, 0, 0, 0, 0, 0, 0, 0, 0, 0, 0, 0, 0, 0, 0, 0, 0, 0, 0, 0, 0, 0, 0, 0, 0, 0, 0, 0, 0, 0, 0, 0, 0, 0, 0, 0, 0, 0, 0, 0, 0, 0, 0, 0, 0, 0, 0, 0, 0, 0, 0, 0, 0, 0, 0, 0, 0, 0, 0, 0, 0, 0, 0, 0, 0, 0, 0, 0, 0, 0, 0, 0, 0, 0, 0, 0, 0, 0, 0, 0, 0, 0, 0, 0, 0, 0, 0, 0, 0, 0, 0, 0, 0, 0, 0, 0, 0, 0, 0, 0, 0, 0, 0, 0, 0, 0, 0, 0, 0, 0, 0, 0, 0, 0, 0, 0, 0, 0, 0, 0, 0, 0, 0, 0, 0, 0, 0, 0, 0, 0, 0, 0, 0, 0, 0, 0, 0, 0, 0, 0, 0, 0, 0, 0, 0, 0, 0, 0, 0, 0, 0, 0, 0, 0, 0, 0, 0, 0, 0, 0, 0, 0, 0, 0, 0, 0, 0, 0, 0, 0, 0, 0, 0, 0, 0, 0, 0, 0, 0, 0, 0, 0, 0, 0, 0, 0, 0, 0, 0, 0, 0, 0, 0, 0, 0, 0, 0, 0, 0, 0, 0, 0, 0, 0, 0, 0, 0, 0, 0, 0, 0, 0, 0, 0, 0, 0, 0, 0, 0, 0, 0, 0, 0, 0, 0, 0, 0, 0, 0, 0, 0, 0, 0, 0, 0, 0, 0, 0, 0, 0, 0, 0, 0, 0, 0, 0, 0, 0, 0, 0, 0, 0, 0, 0, 0, 0, 0, 0, 0, 0, 0, 0, 0, 0, 0, 0, 0, 0, 0, 0, 0, 0, 0, 0, 0, 0, 0, 0, 0, 0, 0, 0, 0, 0, 0, 0, 0, 0, 0, 0, 0, 0, 0, 0, 0, 0, 0, 0, 0, 0, 0, 0, 0, 0, 0, 0, 0, 0, 0, 0, 0, 0, 0, 0, 0, 0, 0, 0, 0, 0, 0, 0, 0, 0, 0, 0, 0, 0, 0, 0, 0, 0, 0, 0, 0, 0, 0, 0, 0, 0, 0, 0, 0, 0, 0, 0, 0, 0, 0, 0, 0, 0, 0, 0, 0, 0, 0, 0, 0, 0, 0, 0, 0, 0, 0, 0, 0, 0, 0, 0, 0, 0, 0, 0, 0, 0, 0, 0, 0, 0, 0, 0, 0, 0, 0, 0, 0, 0, 0, 0, 0, 0, 0, 0, 0, 0, 0, 0, 0, 0, 0, 0, 0, 0, 0, 0, 0, 0, 0, 0, 0, 0, 0, 0, 0, 0, 0, 0, 0, 0, 0, 0, 0, 0, 0, 0, 0, 0, 0, 0, 0, 0, 0, 0, 0, 0, 0, 0, 0, 0, 0, 0, 0, 0, 0, 0, 0, 0, 0, 0, 0, 0, 0, 0, 0, 0, 0, 0, 0, 0, 0, 1, 0, 0, 0, 0, 0, 0, 0, 0, 0, 0, 0, 0, 0, 0, 0, 0, 0, 0, 0, 0, 0, 0, 0, 0, 0, 0, 0, 0, 0, 0, 0, 0, 0, 0, 0, 0, 0, 0, 0, 0, 0, 0, 0, 0, 0, 0, 0, 0, 0, 0, 0, 0, 0, 0, 0, 0, 0, 0, 0, 0, 0, 0, 0, 0, 0, 0, 0, 0, 0, 0, 0, 0, 0, 0, 1, 0, 0, 0, 0, 0, 0, 0, 0, 0, 0, 0, 0, 0, 0, 0, 0, 0, 0, 0, 0, 1, 0, 0, 1, 0, 0, 0, 0, 0, 0, 0, 0, 0, 0, 0, 0, 0, 0, 0, 0, 0, 0, 0, 0, 0, 0, 0, 0, 0, 0, 0, 0, 0, 0, 0, 0, 0, 0, 0, 0, 0, 0, 0, 0, 0, 0, 0, 0, 0, 0, 0, 0, 0, 0, 0, 0, 0, 0, 0, 0, 0, 0, 0, 0, 0, 0, 0, 0, 0, 0, 0, 0, 0, 0, 0, 0, 0, 0, 0, 0, 0, 0, 0, 0, 0, 0, 0, 0, 0, 0, 0, 0, 0, 0, 0, 0, 0, 0, 0, 0, 0, 0, 0, 0, 0, 0, 0, 0, 0, 0, 0, 0, 0, 0, 0, 0, 0, 0, 0, 0, 0, 0, 0, 0, 0, 0, 0, 0, 0, 0, 0, 0, 0, 0, 0, 0, 0, 0, 0, 0, 0, 0, 0, 0, 0, 0, 0, 0, 0, 0, 0, 0, 0, 0, 0, 0, 0, 0, 0, 0, 0, 0, 0, 0, 0, 0, 0, 0, 0, 0, 0, 0, 0, 0, 0, 0, 0, 0, 0, 0, 0, 0, 0, 0, 0, 0, 0, 0, 0, 0, 0, 0, 0, 0, 0, 0, 0, 0, 0, 0, 0, 0, 0, 0, 0, 0, 0, 0, 0, 0, 0, 0, 0, 0, 0, 0, 0, 0, 0, 0, 0, 0, 0, 0, 0, 0, 0, 0, 0, 0, 0, 0, 0, 0, 0, 0, 0, 0, 0, 0, 0, 0, 0, 0, 0, 0, 0, 0, 0, 0, 0, 0, 0, 0, 0, 0, 0, 0, 0, 0, 0, 0, 0, 0, 0, 0, 0, 0, 0, 0, 0, 0, 0, 0, 0, 0, 0, 0, 0, 0, 0, 0, 0, 0, 0, 0, 0, 0, 0, 0, 0, 0, 0, 0, 0, 0, 0, 0, 0, 0, 0, 0, 0, 0, 0, 0, 0, 0, 0, 0, 0, 0, 0, 0, 0, 0, 0, 0, 0, 0, 0, 0, 0, 0, 0, 0, 0, 0, 0, 0, 0, 0, 0, 0, 0, 0, 0, 0, 0, 0, 0, 0, 0, 0, 0, 0, 0, 0, 0, 0, 0, 0, 0, 0, 0, 0, 0, 0, 0, 0, 0, 0, 0, 0, 0, 0, 0, 0, 0, 0, 0, 0, 0, 0, 0, 0, 0, 0, 0, 0, 0, 0, 0, 0, 0, 0, 0, 0, 0, 0, 0, 0, 0, 0, 0, 0, 0, 0, 0, 0, 0, 0, 0, 0, 0, 0, 0, 0, 0, 0, 0, 0, 0, 0, 0, 0, 0, 0, 0, 0, 0, 0, 0, 0, 0, 0, 0, 0, 0, 0, 0, 0, 0, 0, 0, 0, 0, 0, 0, 0, 0, 0, 0, 0, 0, 0, 0, 0, 0, 0, 0, 0, 0, 0, 0, 0, 0, 0, 0, 0, 0, 0, 0, 0, 0, 0, 0, 0, 0, 0, 1, 0, 0, 0, 0, 0, 0, 0, 0, 0, 0, 0, 0, 0, 0, 0, 0, 0, 0, 0, 0, 0, 0, 0, 0, 0, 0, 0, 0, 0, 0, 0, 0, 0, 0, 0, 0, 0, 0, 0, 0, 0, 0, 0, 0, 0, 0, 0, 0, 0, 0, 0, 0, 0, 0, 0, 0, 0, 0, 0, 0, 0, 0, 0, 0, 0, 0, 0, 0, 0, 0, 0, 0, 0, 0, 0, 0, 0, 0, 0, 0, 0, 0, 0, 0, 0, 0, 0, 0, 0, 0, 0, 0, 0, 0, 0, 0, 0, 0, 0, 0, 0, 0, 0, 0, 0, 0, 0, 0, 0, 0, 0, 0, 0, 0, 0, 0, 0, 0, 0, 0, 0, 0, 0, 0, 0, 0, 0, 0, 0, 0, 0, 0, 0, 0, 0, 0, 0, 0, 0, 0, 0, 0, 0, 0, 0, 0, 0, 0, 0, 0, 0, 0, 0, 0, 0, 0, 0, 0, 0, 0, 0, 0, 0, 0, 0, 0, 0, 0, 0, 0, 0, 0, 0, 0, 0, 0, 0, 0, 0, 0, 0, 0, 0, 0, 0, 0, 0, 0, 0, 0, 0, 0, 0, 0, 0, 0, 0, 0, 0, 0, 0, 0, 0, 0, 0, 0, 0, 0, 0, 0, 0, 0, 0, 0, 0, 0, 0, 0, 0, 0, 0, 0, 0, 0, 0, 0, 0, 0, 0, 0, 0, 0, 0, 0, 0, 0, 0, 0, 0, 0, 0, 0, 0, 0, 0, 0, 0, 0, 0, 0, 0, 0, 0, 0, 0, 0, 0, 0, 0, 0, 0, 0, 0, 0, 0, 0, 0, 0, 0, 0, 0, 0, 0, 0, 0, 0, 0, 0, 0, 0, 0, 0, 0, 0, 0, 0, 0, 0, 0, 0, 0, 0, 0, 0, 0, 0, 0, 0, 0, 0, 0, 0, 0, 0, 0, 0, 0, 0, 0, 0, 0, 0, 0, 0, 0, 0, 0, 0, 0, 0, 0, 0, 0, 0, 0, 0, 0, 0, 0, 0, 0, 0, 0, 0, 0, 0, 0, 0, 0, 0, 0, 0, 0, 0, 0, 0, 0, 0, 0, 0, 0, 0, 0, 0, 0, 0, 0, 0, 0, 0, 0, 0, 0, 0, 0, 0, 0, 0, 0, 0, 0, 0, 0, 0, 0, 0, 0, 0, 0, 0, 0, 0, 0, 0, 0, 0, 0, 0, 0, 0, 0, 0, 0, 0, 0, 0, 0, 0, 0, 0, 0, 0, 0, 0, 0, 0, 0, 0, 0, 0, 0, 0, 0, 0, 0, 0, 0, 0, 0, 0, 0, 0, 0, 0, 0, 0, 0, 0, 0, 0, 0, 0, 0, 0, 0, 0, 0, 0, 0, 0, 0, 0, 0, 0, 0, 0, 0, 0, 0, 0, 0, 0, 0, 0, 0, 0, 0, 0, 0, 0, 0, 0, 0, 0, 0, 0, 0, 0, 0, 0, 0, 0, 0, 0, 0, 0, 0, 0, 0, 0, 0, 0, 0, 0, 0, 0, 0, 0, 0, 0, 0, 0, 0, 0, 0, 0, 0, 0, 0, 0, 0, 0, 0, 0, 0, 0, 0, 0, 0, 0, 0, 0, 1, 0, 0, 0, 0, 0, 0, 0, 0, 0, 0, 0, 0, 0, 0, 0, 0, 0, 0, 0, 0, 0, 0, 0, 0, 0, 0, 0, 0, 0, 0, 0, 0, 0, 0, 0, 2, 0, 0, 0, 0, 0, 0, 0, 0, 0, 0, 0, 0, 0, 0, 0, 0, 0, 0, 0, 0, 0, 0, 0, 0, 0, 0, 0, 0, 0, 0, 0, 0, 0, 0, 0, 0, 0, 0, 0, 0, 1, 0, 0, 0, 0, 0, 0, 0, 0, 0, 0, 0, 0, 0, 0, 0, 0, 0, 0, 0, 0, 0, 0, 0, 0, 0, 0, 0, 0, 0, 0, 0, 0, 0, 0, 0, 0, 0, 0, 0, 0, 0, 0, 0, 0, 0, 0, 0, 0, 0, 0, 0, 0, 0, 0, 0, 0, 0, 0, 0, 0, 0, 0, 0, 0, 0, 0, 0, 0, 0, 0, 0, 0, 0, 0, 0, 0, 0, 0, 0, 0, 0, 0, 0, 0, 0, 0, 0, 0, 0, 0, 0, 0, 0, 0, 0, 0, 0, 0, 0, 0, 0, 0, 0, 0, 0, 0, 0, 0, 0, 0, 0, 0, 0, 0, 0, 0, 0, 0, 0, 0, 0, 0, 0, 0, 0, 0, 0, 0, 0, 0, 0, 0, 0, 0, 0, 0, 0, 0, 0, 0, 0, 0, 0, 0, 0, 0, 0, 0, 0, 0, 0, 0, 0, 0, 0, 0, 0, 0, 0, 0, 0, 0, 0, 0, 0, 0, 0, 0, 0, 0, 0, 0, 0, 0, 0, 0, 0, 0, 0, 0, 0, 0, 0, 0, 0, 0, 0, 0, 0, 0, 0, 0, 0, 0, 0, 0, 0, 0, 0, 0, 0, 0, 0, 0, 0, 0, 0, 0, 0, 0, 0, 0, 0, 0, 0, 0, 0, 0, 0, 0, 0, 0, 0, 0, 0, 0, 0, 0, 0, 0, 0, 0, 0, 0, 0, 0, 0, 0, 0, 0, 0, 0, 0, 0, 0, 0, 0, 0, 0, 0, 0, 0, 0, 0, 0, 0, 0, 0, 0, 0, 0, 0, 0, 0, 0, 0, 0, 0, 0, 0, 0, 0, 0, 0, 0, 0, 0, 0, 0, 0, 0, 0, 0, 0, 0, 0, 0, 0, 0, 0, 0, 0, 0, 0, 0, 0, 0, 0, 0, 0, 0, 0, 0, 0, 0, 0, 0, 0, 0, 0, 0, 0, 0, 0, 0, 0, 0, 0, 0, 0, 0, 0, 0, 0, 0, 0, 0, 0, 0, 0, 0, 0, 0, 0, 0, 0, 0, 0, 0, 0, 0, 0, 0, 0, 0, 0, 0, 0, 0, 0, 0, 0, 0, 0, 0, 0, 0, 0, 0, 0, 0, 0, 0, 0, 0, 0, 0, 0, 0, 0, 0, 0, 0, 0, 0, 0, 0, 0, 0, 0, 0, 0, 0, 0, 0, 0, 0, 0, 0, 0, 0, 0, 0, 0, 0, 0, 0, 0, 0, 0, 0, 0, 0, 0, 0, 0, 0, 0, 0, 0, 0, 0, 0, 0, 0, 0, 0, 0, 0, 0, 0, 0, 0, 0, 0, 0, 0, 0, 0, 0, 0, 0, 0, 0, 0, 0, 0, 0, 0, 0, 0, 0, 0, 0, 0, 0, 0, 0, 0, 0, 0, 0, 0, 0, 0, 0, 0, 0, 0, 0, 0, 0, 0, 0, 0, 0, 0, 0, 0, 0, 0, 0, 0, 0, 0, 0, 0, 0, 0, 0, 0, 0, 0, 0, 0, 0, 0, 0, 0, 0, 0, 0, 0, 0, 0, 0, 0, 1, 0, 0, 0, 0, 0, 0, 0, 0, 0, 0, 0, 0, 0, 0, 0, 0, 0, 0, 0, 0, 0, 0, 0, 0, 0, 0, 0, 0, 0, 0, 0, 0, 0, 0, 0, 0, 0, 0, 0, 0, 0, 0, 0, 0, 0, 0, 0, 0, 0, 0, 0, 0, 0, 0, 0, 0, 0, 0, 0, 0, 0, 0, 0, 0, 0, 0, 0, 0, 0, 0, 0, 0, 0, 0, 0, 0, 0, 0, 0, 0, 0, 0, 0, 0, 0, 0, 0, 0, 0, 0, 0, 0, 0, 0, 0, 0, 0, 0, 0, 0, 0, 0, 0, 0, 0, 0, 0, 0, 0, 0, 2, 0, 0, 0, 0, 0, 0, 0, 0, 0, 0, 0, 0, 0, 0, 0, 0, 0, 0, 0, 0, 0, 0, 0, 0, 0, 0, 0, 0, 0, 0, 0, 0, 0, 0, 0, 0, 0, 0, 0, 0, 0, 0, 0, 0, 0, 0, 0, 0, 0, 0, 0, 0, 0, 0, 0, 0, 0, 0, 0, 0, 0, 0, 0, 0, 0, 0, 0, 0, 0, 0, 0, 0, 0, 0, 0, 0, 0, 0, 0, 0, 0, 0, 0, 0, 0, 0, 0, 0, 0, 0, 0, 0, 0, 0, 0, 0, 0, 0, 0, 0, 0, 0, 0, 0, 0, 0, 0, 0, 0, 0, 0, 0, 0, 0, 0, 0, 0, 0, 0, 0, 0, 0, 0, 0, 0, 0, 0, 0, 0, 0, 0, 0, 0, 0, 0, 0, 0, 0, 0, 0, 0, 0, 0, 0, 0, 0, 0, 0, 0, 0, 0, 0, 0, 0, 0, 0, 0, 0, 0, 0, 0, 0, 0, 0, 0, 0, 0, 0, 0, 0, 0, 0, 0, 0, 0, 0, 0, 0, 0, 0, 0, 0, 0, 0, 0, 0, 0, 0, 0, 0, 0, 0, 0, 0, 0, 0, 0, 0, 0, 0, 0, 0, 0, 0, 0, 0, 0, 0, 0, 0, 0, 0, 0, 0, 0, 0, 0, 0, 0, 0, 0, 0, 0, 0, 0, 0, 0, 0, 0, 0, 0, 0, 0, 0, 0, 0, 0, 0, 0, 0, 0, 0, 0, 0, 0, 0, 0, 0, 0, 0, 0, 0, 0, 0, 0, 0, 0, 0, 0, 0, 0, 0, 0, 0, 0, 0, 0, 0, 0, 0, 0, 0, 0, 0, 0, 0, 0, 0, 0, 0, 0, 0, 0, 0, 0, 0, 0, 0, 0, 0, 0, 0, 0, 0, 0, 0, 0, 0, 0, 0, 0, 0, 0, 0, 0, 0, 0, 0, 0, 0, 0, 0, 0, 0, 0, 0, 0, 0, 0, 0, 0, 0, 0, 0, 0, 0, 0, 0, 0, 0, 0, 0, 0, 0, 0, 0, 0, 0, 0, 0, 0, 0, 0, 0, 0, 0, 0, 0, 0, 0, 0, 0, 0, 0, 0, 0, 0, 0, 0, 0, 0, 0, 0, 0, 0, 0, 0, 0, 0, 0, 0, 0, 0, 0, 0, 0, 0, 0, 0, 0, 0, 0, 0, 0, 0, 0, 0, 0, 0, 0, 0, 0, 0, 0, 0, 0, 0, 0, 0, 0, 0, 0, 0, 0, 0, 0, 0, 0, 0, 0, 0, 0, 0, 0, 0, 0, 0, 0, 0, 0, 0, 0, 0, 0, 0, 0, 0, 0, 0, 0, 0, 0, 0, 0, 0, 0, 0, 0, 0, 0, 0, 0, 0, 0, 0, 0, 0, 0, 0, 0, 0, 0, 0, 0, 0, 0, 0, 0, 0, 0, 0, 0, 0, 0, 0, 0, 0, 0, 0, 0, 0, 0, 0, 0, 0, 0, 0, 0, 0, 0, 0, 0, 0, 0, 0, 0, 0, 0, 0, 0, 0, 0, 0, 0, 0, 0, 0, 0, 0, 0, 0, 0, 0, 0, 0, 0, 0, 0, 0, 0, 0, 0, 0, 0, 0, 0, 0, 0, 0, 0, 0, 0, 0, 0, 0, 0, 0, 0, 0, 0, 0, 0, 0, 0, 0, 0, 0, 0, 0, 0, 0, 0, 0, 0, 0, 0, 0, 0, 0, 0, 0, 0, 0, 0, 0, 0, 0, 0, 0, 0, 0, 0, 0, 0, 0, 0, 0, 0, 0, 0, 0, 0, 0, 0, 0, 0, 0, 0, 0, 0, 0, 0, 0, 0, 0, 0, 0, 0, 0, 0, 0, 0, 0, 0, 0, 0, 0, 0, 0, 0, 0, 0, 0, 0, 0, 0, 0, 0, 0, 0, 0, 0, 0, 0, 0, 0, 0, 0, 0, 0, 0, 0, 0, 0, 0, 0, 0, 0, 0, 0, 0, 0, 0, 0, 0, 0, 0, 0, 0, 0, 0, 0, 0, 0, 0, 0, 0, 0, 0, 0, 0, 0, 0, 0, 0, 0, 0, 0, 0, 0, 0, 0, 0, 0, 0, 0, 0, 0, 0, 0, 0, 0, 0, 0, 0, 0, 0, 0, 0, 0, 0, 0, 0, 0, 0, 0, 0, 0, 0, 0, 1, 0, 0, 0, 0, 0, 0, 0, 0, 0, 0, 0, 0, 0, 0, 0, 0, 0, 0, 0, 0, 0, 0, 0, 0, 0, 0, 0, 0, 0, 0, 0, 0, 0, 0, 0, 0, 0, 0, 0, 0, 0, 0, 0, 0, 0, 0, 0, 0, 0, 0, 0, 0, 0, 0, 0, 0, 0, 0, 0, 0, 0, 0, 0, 0, 0, 0, 0, 0, 0, 0, 0, 0, 0, 0, 0, 0, 0, 0, 0, 0, 0, 0, 0, 0, 0, 0, 0, 0, 0, 0, 0, 0, 0, 0, 0, 0, 0, 0, 0, 0, 0, 0, 0, 0, 0, 0, 0, 1, 0, 0, 0, 0, 0, 0, 0, 0, 0, 0, 0, 0, 0, 0, 0, 0, 0, 0, 0, 0, 0, 0, 0, 0, 0, 0, 0, 0, 0, 0, 0, 0, 0, 0, 0, 0, 0, 0, 0, 0, 0, 0, 0, 0, 0, 0, 0, 0, 0, 0, 0, 0, 0, 0, 0, 0, 0, 0, 0, 0, 0, 0, 0, 0, 0, 0, 0, 0, 0, 0, 0, 0, 0, 0, 0, 0, 0, 0, 0, 0, 0, 0, 0, 0, 0, 0, 0, 0, 0, 0, 0, 0, 0, 0, 0, 0, 0, 0, 0, 0, 0, 0, 0, 0, 0, 0, 0, 0, 0, 0, 0, 0, 0, 0, 0, 0, 0, 0, 0, 0, 0, 0, 0, 0, 0, 0, 0, 0, 0, 0, 0, 0, 0, 0, 0, 0, 0, 0, 0, 0, 0, 0, 0, 0, 0, 0, 0, 0, 0, 0, 0, 0, 0, 0, 0, 0, 0, 0, 0, 0, 0, 0, 0, 0, 0, 0, 0, 0, 0, 0, 0, 0, 0, 0, 0, 0, 0, 0, 0, 0, 0, 0, 0, 0, 0, 0, 0, 0, 0, 0, 0, 0, 0, 0, 0, 0, 0, 0, 0, 0, 0, 0, 0, 0, 0, 0, 0, 0, 0, 0, 0, 0, 0, 0, 0, 0, 0, 0, 0, 0, 0, 0, 0, 0, 0, 0, 0, 0, 0, 0, 0, 0, 0, 0, 0, 0, 0, 0, 0, 0, 0, 0, 0, 0, 0, 0, 0, 0, 0, 0, 0, 0, 0, 0, 0, 0, 0, 0, 0, 0, 0, 0, 0, 0, 0, 0, 0, 0, 0, 0, 0, 0, 0, 0, 0, 0, 0, 0, 0, 0, 0, 0, 0, 0, 0, 0, 0, 0, 0, 0, 0, 0, 0, 0, 0, 0, 0, 0, 0, 0, 0, 0, 0, 0, 0, 0, 0, 0, 0, 0, 0, 0, 0, 0, 0, 0, 0, 0, 0, 0, 0, 0, 0, 0, 0, 0, 0, 0, 0, 0, 0, 0, 0, 0, 0, 0, 0, 0, 0, 0, 0, 0, 0, 0, 0, 0, 0, 0, 0, 0, 0, 0, 0, 0, 0, 0, 0, 0, 0, 0, 0, 0, 0, 0, 0, 0, 0, 0, 0, 0, 0, 0, 0, 0, 0, 0, 0, 0, 0, 0, 0, 0, 0, 0, 0, 0, 0, 0, 0, 0, 0, 0, 0, 0, 0, 0, 0, 0, 0, 0, 0, 0, 0, 0, 0, 0, 0, 0, 0, 0, 0, 0, 0, 0, 0, 0, 0, 0, 0, 0, 0, 0, 0, 0, 0, 0, 0, 0, 0, 0, 0, 0, 0, 0, 0, 0, 0, 0, 0, 0, 0, 0, 0, 0, 0, 0, 0, 0, 0, 0, 0, 0, 0, 0, 0, 0, 0, 0, 0, 0, 0, 0, 0, 2, 0, 1, 0]\n"
     ]
    }
   ],
   "source": [
    "test_bow = bow_encoding(test_words, vocabulary)\n",
    "print(test_bow)"
   ]
  },
  {
   "cell_type": "code",
   "execution_count": 39,
   "metadata": {},
   "outputs": [
    {
     "data": {
      "text/plain": [
       "5000"
      ]
     },
     "execution_count": 39,
     "metadata": {},
     "output_type": "execute_result"
    }
   ],
   "source": [
    "len(test_bow)"
   ]
  },
  {
   "cell_type": "markdown",
   "metadata": {},
   "source": [
    "So now we know how to construct a bag of words encoding of a user provided review, how to we send it to our endpoint? First, we need to start the endpoint back up."
   ]
  },
  {
   "cell_type": "code",
   "execution_count": 40,
   "metadata": {},
   "outputs": [
    {
     "name": "stderr",
     "output_type": "stream",
     "text": [
      "Using already existing model: sagemaker-xgboost-2020-05-09-04-31-55-048\n"
     ]
    },
    {
     "name": "stdout",
     "output_type": "stream",
     "text": [
      "---------------!"
     ]
    }
   ],
   "source": [
    "xgb_predictor = xgb.deploy(initial_instance_count = 1, instance_type = 'ml.m4.xlarge')"
   ]
  },
  {
   "cell_type": "markdown",
   "metadata": {},
   "source": [
    "At this point we could just do the same thing that we did earlier when we tested our deployed model and send `test_bow` to our endpoint using the `xgb_predictor` object. However, when we eventually construct our Lambda function we won't have access to this object, so how do we call a SageMaker endpoint?\n",
    "\n",
    "It turns out that Python functions that are used in Lambda have access to another Amazon library called `boto3`. This library provides an API for working with Amazon services, including SageMaker. To start with, we need to get a handle to the SageMaker runtime."
   ]
  },
  {
   "cell_type": "code",
   "execution_count": 41,
   "metadata": {},
   "outputs": [],
   "source": [
    "import boto3\n",
    "\n",
    "runtime = boto3.Session().client('sagemaker-runtime')"
   ]
  },
  {
   "cell_type": "markdown",
   "metadata": {},
   "source": [
    "And now that we have access to the SageMaker runtime, we can ask it to make use of (invoke) an endpoint that has already been created. However, we need to provide SageMaker with the name of the deployed endpoint. To find this out we can print it out using the `xgb_predictor` object."
   ]
  },
  {
   "cell_type": "code",
   "execution_count": 42,
   "metadata": {},
   "outputs": [
    {
     "data": {
      "text/plain": [
       "'sagemaker-xgboost-2020-05-09-04-31-55-048'"
      ]
     },
     "execution_count": 42,
     "metadata": {},
     "output_type": "execute_result"
    }
   ],
   "source": [
    "xgb_predictor.endpoint"
   ]
  },
  {
   "cell_type": "markdown",
   "metadata": {},
   "source": [
    "Using the SageMaker runtime and the name of our endpoint, we can invoke the endpoint and send it the `test_bow` data."
   ]
  },
  {
   "cell_type": "code",
   "execution_count": 44,
   "metadata": {},
   "outputs": [
    {
     "ename": "ParamValidationError",
     "evalue": "Parameter validation failed:\nInvalid type for parameter Body, value: [0, 0, 0, 0, 0, 0, 0, 0, 0, 0, 0, 0, 0, 0, 0, 0, 0, 0, 0, 0, 0, 0, 0, 0, 0, 0, 0, 0, 0, 0, 0, 0, 0, 0, 0, 0, 0, 0, 0, 0, 0, 0, 0, 0, 0, 0, 0, 0, 0, 0, 0, 0, 0, 0, 0, 0, 0, 0, 0, 0, 0, 0, 0, 0, 0, 0, 0, 0, 0, 0, 0, 0, 0, 0, 0, 0, 0, 0, 0, 0, 0, 0, 0, 0, 0, 0, 0, 0, 0, 0, 0, 0, 0, 0, 0, 0, 0, 0, 0, 0, 0, 0, 0, 0, 0, 0, 0, 0, 0, 0, 0, 0, 0, 0, 0, 0, 0, 0, 0, 0, 0, 0, 0, 0, 0, 0, 0, 0, 0, 0, 0, 0, 0, 0, 0, 0, 0, 0, 0, 0, 0, 0, 0, 0, 0, 0, 0, 0, 0, 0, 0, 0, 0, 0, 0, 0, 0, 0, 0, 0, 0, 0, 0, 0, 0, 0, 0, 0, 0, 0, 0, 0, 0, 0, 0, 0, 0, 0, 0, 0, 0, 0, 0, 0, 0, 0, 0, 0, 0, 0, 0, 0, 0, 0, 0, 0, 0, 0, 0, 0, 0, 0, 0, 0, 0, 0, 0, 0, 0, 0, 0, 0, 0, 0, 0, 0, 0, 0, 0, 0, 0, 0, 0, 0, 0, 0, 1, 0, 0, 0, 0, 0, 0, 0, 0, 0, 0, 0, 0, 0, 0, 0, 0, 0, 0, 0, 0, 0, 0, 0, 0, 0, 0, 0, 0, 0, 1, 0, 0, 0, 0, 0, 0, 0, 0, 0, 0, 0, 0, 0, 0, 0, 0, 0, 0, 0, 0, 0, 0, 0, 0, 0, 0, 0, 0, 0, 0, 0, 0, 0, 0, 0, 0, 0, 0, 0, 0, 0, 0, 0, 0, 0, 0, 0, 0, 0, 0, 0, 0, 0, 0, 0, 0, 0, 0, 0, 0, 0, 0, 0, 0, 0, 0, 0, 0, 0, 0, 0, 0, 0, 0, 0, 0, 0, 0, 0, 0, 0, 0, 0, 0, 0, 0, 0, 0, 0, 0, 0, 0, 0, 0, 0, 0, 0, 0, 0, 0, 0, 0, 0, 0, 0, 0, 0, 0, 0, 0, 0, 0, 0, 0, 0, 0, 0, 0, 0, 0, 0, 0, 0, 0, 0, 0, 0, 0, 0, 0, 0, 0, 0, 0, 0, 0, 0, 0, 0, 0, 0, 0, 0, 0, 0, 0, 0, 0, 0, 0, 0, 0, 0, 0, 0, 0, 0, 0, 0, 0, 0, 0, 0, 0, 0, 0, 0, 0, 0, 0, 0, 0, 0, 0, 0, 0, 0, 0, 0, 0, 0, 0, 0, 0, 0, 0, 0, 0, 0, 0, 0, 0, 0, 0, 0, 0, 0, 0, 0, 0, 0, 0, 0, 0, 0, 0, 0, 0, 0, 0, 0, 0, 0, 0, 0, 0, 0, 0, 0, 0, 0, 0, 0, 0, 0, 0, 0, 0, 0, 0, 0, 0, 0, 0, 0, 0, 0, 0, 0, 0, 0, 0, 0, 0, 0, 0, 0, 0, 0, 0, 0, 0, 0, 0, 0, 0, 0, 0, 0, 0, 0, 0, 0, 0, 0, 0, 0, 0, 0, 0, 0, 0, 0, 0, 0, 0, 0, 0, 0, 0, 0, 0, 0, 0, 0, 0, 0, 0, 0, 0, 0, 0, 0, 0, 0, 0, 0, 0, 0, 0, 0, 0, 0, 0, 0, 0, 0, 0, 0, 0, 0, 0, 0, 0, 0, 0, 0, 0, 0, 0, 0, 0, 0, 0, 0, 0, 0, 0, 0, 0, 0, 0, 0, 0, 0, 0, 0, 0, 0, 0, 0, 0, 0, 0, 0, 0, 0, 0, 0, 0, 0, 0, 0, 0, 0, 0, 0, 0, 0, 0, 0, 0, 0, 0, 0, 0, 0, 0, 0, 0, 0, 0, 0, 0, 0, 0, 0, 0, 0, 1, 0, 0, 0, 0, 0, 0, 0, 0, 0, 0, 0, 0, 0, 0, 0, 0, 0, 0, 0, 0, 0, 0, 0, 0, 0, 0, 0, 0, 0, 0, 0, 0, 0, 0, 0, 0, 0, 0, 0, 0, 0, 0, 0, 0, 0, 0, 0, 0, 0, 0, 0, 0, 0, 0, 0, 0, 0, 0, 0, 0, 0, 0, 0, 0, 0, 0, 0, 0, 0, 0, 0, 0, 0, 0, 0, 0, 0, 0, 0, 0, 0, 0, 0, 0, 0, 0, 0, 0, 0, 0, 0, 0, 0, 0, 0, 0, 0, 0, 0, 0, 0, 0, 0, 0, 0, 0, 0, 0, 0, 0, 0, 0, 0, 0, 0, 0, 0, 0, 0, 0, 0, 0, 0, 0, 0, 0, 0, 0, 0, 0, 0, 0, 0, 0, 0, 0, 0, 0, 0, 0, 0, 0, 0, 0, 0, 0, 0, 0, 0, 0, 0, 0, 0, 0, 0, 0, 0, 0, 0, 0, 0, 0, 0, 0, 0, 0, 0, 0, 0, 0, 0, 0, 0, 0, 0, 0, 0, 0, 0, 0, 0, 0, 0, 0, 0, 0, 0, 0, 0, 0, 0, 0, 0, 0, 0, 0, 0, 0, 0, 0, 0, 0, 0, 0, 0, 0, 0, 0, 0, 0, 0, 0, 0, 0, 0, 0, 0, 0, 0, 0, 0, 0, 0, 0, 0, 0, 0, 0, 0, 0, 0, 0, 0, 0, 0, 0, 0, 0, 0, 0, 0, 0, 0, 0, 0, 0, 0, 0, 0, 0, 0, 0, 0, 1, 0, 0, 0, 0, 0, 0, 0, 0, 0, 0, 0, 0, 0, 0, 0, 0, 0, 0, 0, 0, 0, 0, 0, 0, 0, 0, 0, 0, 0, 0, 0, 0, 0, 0, 0, 0, 0, 0, 0, 0, 0, 0, 0, 0, 0, 0, 0, 0, 0, 0, 0, 0, 0, 0, 0, 0, 0, 0, 0, 0, 0, 0, 0, 0, 0, 0, 0, 0, 0, 0, 0, 0, 0, 0, 0, 0, 0, 0, 0, 0, 0, 0, 0, 0, 0, 0, 1, 0, 0, 0, 0, 0, 0, 0, 0, 0, 0, 0, 0, 0, 0, 0, 0, 0, 0, 0, 0, 0, 0, 0, 0, 0, 0, 0, 0, 0, 0, 0, 0, 0, 0, 0, 0, 0, 0, 0, 0, 0, 0, 0, 0, 0, 0, 0, 0, 0, 0, 0, 0, 0, 0, 0, 0, 0, 0, 0, 0, 0, 0, 0, 0, 0, 0, 0, 0, 0, 0, 0, 0, 0, 0, 0, 0, 0, 0, 0, 0, 0, 0, 0, 0, 0, 0, 0, 0, 0, 0, 0, 0, 0, 0, 0, 0, 0, 0, 0, 0, 0, 0, 0, 0, 0, 0, 0, 0, 0, 0, 0, 0, 0, 0, 0, 0, 0, 0, 0, 0, 0, 0, 0, 0, 0, 0, 0, 0, 0, 0, 0, 0, 0, 0, 0, 0, 0, 0, 0, 0, 0, 0, 0, 0, 0, 0, 0, 0, 0, 0, 0, 0, 0, 0, 0, 0, 0, 0, 0, 0, 0, 0, 0, 0, 0, 0, 0, 0, 0, 0, 0, 0, 0, 0, 0, 0, 0, 0, 0, 0, 0, 0, 0, 0, 0, 0, 0, 0, 0, 0, 0, 0, 0, 0, 0, 0, 0, 0, 0, 0, 0, 0, 0, 0, 0, 0, 0, 0, 0, 0, 0, 0, 0, 0, 0, 0, 0, 0, 0, 0, 0, 0, 0, 0, 0, 0, 0, 0, 0, 0, 0, 0, 0, 0, 0, 0, 0, 0, 0, 0, 0, 0, 0, 0, 0, 0, 0, 0, 0, 0, 0, 0, 1, 0, 0, 0, 0, 0, 0, 0, 0, 0, 0, 0, 0, 0, 0, 0, 0, 0, 0, 0, 0, 0, 0, 0, 0, 0, 0, 0, 0, 0, 0, 0, 0, 0, 0, 0, 0, 0, 0, 0, 0, 0, 0, 0, 0, 0, 0, 0, 0, 0, 0, 0, 0, 0, 0, 0, 1, 0, 0, 0, 0, 0, 0, 0, 0, 0, 0, 0, 0, 0, 0, 0, 0, 0, 0, 0, 0, 0, 0, 0, 0, 0, 0, 0, 0, 0, 0, 0, 0, 0, 0, 0, 0, 0, 0, 0, 0, 0, 0, 0, 0, 0, 0, 0, 0, 0, 0, 0, 0, 0, 0, 0, 0, 0, 0, 0, 0, 0, 0, 0, 0, 0, 0, 0, 0, 0, 0, 0, 0, 0, 0, 0, 0, 0, 0, 0, 0, 0, 0, 0, 0, 0, 0, 0, 0, 0, 0, 0, 0, 0, 0, 0, 0, 0, 0, 0, 0, 0, 0, 0, 0, 0, 0, 0, 0, 0, 0, 0, 0, 0, 0, 0, 0, 0, 0, 0, 0, 0, 0, 0, 0, 0, 0, 0, 0, 0, 0, 0, 0, 0, 0, 0, 0, 0, 0, 0, 0, 0, 0, 0, 0, 0, 0, 0, 0, 0, 0, 0, 0, 0, 0, 0, 0, 0, 0, 0, 0, 0, 0, 0, 0, 0, 0, 0, 0, 0, 0, 0, 0, 0, 0, 0, 0, 0, 0, 0, 0, 0, 0, 0, 0, 0, 0, 0, 0, 0, 0, 0, 0, 0, 0, 0, 0, 0, 0, 0, 0, 0, 0, 0, 0, 0, 0, 0, 0, 0, 0, 0, 0, 0, 0, 0, 0, 0, 0, 0, 0, 0, 0, 0, 0, 0, 0, 0, 0, 0, 0, 0, 0, 0, 0, 0, 0, 0, 0, 0, 0, 0, 0, 0, 0, 0, 0, 0, 0, 0, 0, 0, 0, 0, 0, 0, 0, 0, 0, 0, 0, 0, 0, 0, 0, 0, 0, 0, 0, 0, 0, 0, 0, 0, 0, 0, 0, 0, 0, 0, 0, 0, 0, 0, 0, 0, 0, 0, 0, 0, 0, 0, 0, 0, 0, 0, 0, 0, 0, 0, 0, 0, 0, 0, 0, 0, 0, 0, 0, 0, 0, 0, 0, 0, 0, 0, 0, 0, 0, 0, 0, 0, 0, 0, 0, 0, 0, 0, 0, 0, 0, 0, 0, 0, 0, 0, 0, 0, 0, 0, 0, 0, 0, 0, 0, 0, 0, 0, 0, 0, 0, 0, 0, 0, 0, 0, 0, 0, 0, 0, 0, 0, 0, 0, 0, 0, 0, 0, 0, 0, 0, 0, 0, 0, 0, 0, 0, 0, 0, 0, 0, 0, 0, 0, 0, 0, 0, 0, 0, 0, 0, 0, 0, 0, 0, 0, 0, 0, 0, 0, 0, 0, 0, 0, 0, 0, 0, 0, 0, 0, 0, 0, 0, 0, 0, 0, 0, 0, 0, 0, 0, 0, 0, 0, 0, 0, 0, 0, 0, 0, 0, 0, 0, 0, 0, 0, 0, 0, 0, 0, 0, 0, 0, 0, 0, 0, 0, 0, 0, 0, 0, 0, 0, 0, 0, 0, 0, 0, 0, 0, 0, 0, 0, 0, 0, 0, 0, 0, 0, 0, 0, 0, 0, 0, 0, 0, 0, 0, 0, 0, 0, 0, 0, 0, 0, 0, 0, 0, 0, 0, 0, 0, 0, 0, 0, 0, 0, 0, 0, 0, 0, 0, 0, 0, 0, 0, 0, 0, 0, 0, 0, 0, 0, 0, 0, 0, 0, 0, 0, 0, 0, 0, 0, 0, 0, 0, 0, 0, 0, 0, 0, 0, 0, 0, 0, 0, 0, 0, 0, 0, 0, 0, 0, 0, 0, 0, 0, 0, 0, 0, 0, 0, 0, 0, 0, 0, 0, 0, 0, 0, 0, 0, 0, 0, 0, 0, 0, 0, 0, 0, 0, 0, 0, 0, 0, 0, 0, 0, 0, 0, 0, 0, 0, 0, 0, 0, 0, 0, 0, 0, 0, 0, 0, 0, 0, 0, 0, 0, 0, 0, 0, 0, 0, 0, 0, 0, 0, 0, 0, 0, 0, 0, 0, 0, 0, 0, 0, 0, 0, 0, 0, 0, 0, 0, 0, 0, 0, 0, 0, 0, 0, 0, 0, 0, 0, 0, 0, 0, 0, 0, 0, 0, 0, 0, 0, 0, 0, 0, 0, 0, 0, 0, 0, 0, 0, 0, 0, 0, 0, 0, 0, 0, 0, 0, 0, 0, 0, 0, 0, 0, 0, 0, 0, 0, 0, 0, 0, 0, 0, 0, 0, 0, 1, 0, 0, 0, 0, 0, 0, 0, 0, 0, 0, 0, 0, 0, 0, 0, 0, 0, 0, 0, 0, 0, 0, 0, 0, 0, 0, 0, 0, 0, 0, 0, 0, 0, 0, 0, 0, 0, 0, 0, 0, 0, 0, 0, 0, 0, 0, 0, 0, 0, 0, 0, 0, 0, 0, 0, 0, 0, 0, 0, 0, 0, 0, 0, 0, 0, 0, 0, 0, 0, 0, 0, 0, 0, 0, 1, 0, 0, 0, 0, 0, 0, 0, 0, 0, 0, 0, 0, 0, 0, 0, 0, 0, 0, 0, 0, 1, 0, 0, 1, 0, 0, 0, 0, 0, 0, 0, 0, 0, 0, 0, 0, 0, 0, 0, 0, 0, 0, 0, 0, 0, 0, 0, 0, 0, 0, 0, 0, 0, 0, 0, 0, 0, 0, 0, 0, 0, 0, 0, 0, 0, 0, 0, 0, 0, 0, 0, 0, 0, 0, 0, 0, 0, 0, 0, 0, 0, 0, 0, 0, 0, 0, 0, 0, 0, 0, 0, 0, 0, 0, 0, 0, 0, 0, 0, 0, 0, 0, 0, 0, 0, 0, 0, 0, 0, 0, 0, 0, 0, 0, 0, 0, 0, 0, 0, 0, 0, 0, 0, 0, 0, 0, 0, 0, 0, 0, 0, 0, 0, 0, 0, 0, 0, 0, 0, 0, 0, 0, 0, 0, 0, 0, 0, 0, 0, 0, 0, 0, 0, 0, 0, 0, 0, 0, 0, 0, 0, 0, 0, 0, 0, 0, 0, 0, 0, 0, 0, 0, 0, 0, 0, 0, 0, 0, 0, 0, 0, 0, 0, 0, 0, 0, 0, 0, 0, 0, 0, 0, 0, 0, 0, 0, 0, 0, 0, 0, 0, 0, 0, 0, 0, 0, 0, 0, 0, 0, 0, 0, 0, 0, 0, 0, 0, 0, 0, 0, 0, 0, 0, 0, 0, 0, 0, 0, 0, 0, 0, 0, 0, 0, 0, 0, 0, 0, 0, 0, 0, 0, 0, 0, 0, 0, 0, 0, 0, 0, 0, 0, 0, 0, 0, 0, 0, 0, 0, 0, 0, 0, 0, 0, 0, 0, 0, 0, 0, 0, 0, 0, 0, 0, 0, 0, 0, 0, 0, 0, 0, 0, 0, 0, 0, 0, 0, 0, 0, 0, 0, 0, 0, 0, 0, 0, 0, 0, 0, 0, 0, 0, 0, 0, 0, 0, 0, 0, 0, 0, 0, 0, 0, 0, 0, 0, 0, 0, 0, 0, 0, 0, 0, 0, 0, 0, 0, 0, 0, 0, 0, 0, 0, 0, 0, 0, 0, 0, 0, 0, 0, 0, 0, 0, 0, 0, 0, 0, 0, 0, 0, 0, 0, 0, 0, 0, 0, 0, 0, 0, 0, 0, 0, 0, 0, 0, 0, 0, 0, 0, 0, 0, 0, 0, 0, 0, 0, 0, 0, 0, 0, 0, 0, 0, 0, 0, 0, 0, 0, 0, 0, 0, 0, 0, 0, 0, 0, 0, 0, 0, 0, 0, 0, 0, 0, 0, 0, 0, 0, 0, 0, 0, 0, 0, 0, 0, 0, 0, 0, 0, 0, 0, 0, 0, 0, 0, 0, 0, 0, 0, 0, 0, 0, 0, 0, 0, 0, 0, 0, 0, 0, 0, 0, 0, 0, 0, 0, 0, 0, 0, 0, 0, 0, 0, 0, 0, 0, 0, 0, 0, 0, 0, 0, 0, 0, 0, 0, 0, 0, 0, 0, 0, 0, 0, 0, 0, 0, 0, 0, 0, 0, 0, 0, 0, 0, 0, 0, 0, 0, 0, 1, 0, 0, 0, 0, 0, 0, 0, 0, 0, 0, 0, 0, 0, 0, 0, 0, 0, 0, 0, 0, 0, 0, 0, 0, 0, 0, 0, 0, 0, 0, 0, 0, 0, 0, 0, 0, 0, 0, 0, 0, 0, 0, 0, 0, 0, 0, 0, 0, 0, 0, 0, 0, 0, 0, 0, 0, 0, 0, 0, 0, 0, 0, 0, 0, 0, 0, 0, 0, 0, 0, 0, 0, 0, 0, 0, 0, 0, 0, 0, 0, 0, 0, 0, 0, 0, 0, 0, 0, 0, 0, 0, 0, 0, 0, 0, 0, 0, 0, 0, 0, 0, 0, 0, 0, 0, 0, 0, 0, 0, 0, 0, 0, 0, 0, 0, 0, 0, 0, 0, 0, 0, 0, 0, 0, 0, 0, 0, 0, 0, 0, 0, 0, 0, 0, 0, 0, 0, 0, 0, 0, 0, 0, 0, 0, 0, 0, 0, 0, 0, 0, 0, 0, 0, 0, 0, 0, 0, 0, 0, 0, 0, 0, 0, 0, 0, 0, 0, 0, 0, 0, 0, 0, 0, 0, 0, 0, 0, 0, 0, 0, 0, 0, 0, 0, 0, 0, 0, 0, 0, 0, 0, 0, 0, 0, 0, 0, 0, 0, 0, 0, 0, 0, 0, 0, 0, 0, 0, 0, 0, 0, 0, 0, 0, 0, 0, 0, 0, 0, 0, 0, 0, 0, 0, 0, 0, 0, 0, 0, 0, 0, 0, 0, 0, 0, 0, 0, 0, 0, 0, 0, 0, 0, 0, 0, 0, 0, 0, 0, 0, 0, 0, 0, 0, 0, 0, 0, 0, 0, 0, 0, 0, 0, 0, 0, 0, 0, 0, 0, 0, 0, 0, 0, 0, 0, 0, 0, 0, 0, 0, 0, 0, 0, 0, 0, 0, 0, 0, 0, 0, 0, 0, 0, 0, 0, 0, 0, 0, 0, 0, 0, 0, 0, 0, 0, 0, 0, 0, 0, 0, 0, 0, 0, 0, 0, 0, 0, 0, 0, 0, 0, 0, 0, 0, 0, 0, 0, 0, 0, 0, 0, 0, 0, 0, 0, 0, 0, 0, 0, 0, 0, 0, 0, 0, 0, 0, 0, 0, 0, 0, 0, 0, 0, 0, 0, 0, 0, 0, 0, 0, 0, 0, 0, 0, 0, 0, 0, 0, 0, 0, 0, 0, 0, 0, 0, 0, 0, 0, 0, 0, 0, 0, 0, 0, 0, 0, 0, 0, 0, 0, 0, 0, 0, 0, 0, 0, 0, 0, 0, 0, 0, 0, 0, 0, 0, 0, 0, 0, 0, 0, 0, 0, 0, 0, 0, 0, 0, 0, 0, 0, 0, 0, 0, 0, 0, 0, 0, 0, 0, 0, 0, 0, 0, 0, 0, 0, 0, 0, 0, 0, 0, 0, 0, 0, 0, 0, 0, 0, 0, 0, 0, 0, 0, 0, 0, 0, 0, 0, 0, 0, 0, 0, 0, 0, 0, 0, 0, 0, 0, 0, 0, 0, 0, 0, 0, 0, 0, 0, 0, 0, 0, 0, 0, 0, 0, 0, 0, 0, 0, 0, 0, 0, 0, 0, 0, 0, 0, 0, 0, 0, 0, 0, 0, 0, 0, 0, 0, 0, 0, 0, 0, 0, 0, 1, 0, 0, 0, 0, 0, 0, 0, 0, 0, 0, 0, 0, 0, 0, 0, 0, 0, 0, 0, 0, 0, 0, 0, 0, 0, 0, 0, 0, 0, 0, 0, 0, 0, 0, 0, 2, 0, 0, 0, 0, 0, 0, 0, 0, 0, 0, 0, 0, 0, 0, 0, 0, 0, 0, 0, 0, 0, 0, 0, 0, 0, 0, 0, 0, 0, 0, 0, 0, 0, 0, 0, 0, 0, 0, 0, 0, 1, 0, 0, 0, 0, 0, 0, 0, 0, 0, 0, 0, 0, 0, 0, 0, 0, 0, 0, 0, 0, 0, 0, 0, 0, 0, 0, 0, 0, 0, 0, 0, 0, 0, 0, 0, 0, 0, 0, 0, 0, 0, 0, 0, 0, 0, 0, 0, 0, 0, 0, 0, 0, 0, 0, 0, 0, 0, 0, 0, 0, 0, 0, 0, 0, 0, 0, 0, 0, 0, 0, 0, 0, 0, 0, 0, 0, 0, 0, 0, 0, 0, 0, 0, 0, 0, 0, 0, 0, 0, 0, 0, 0, 0, 0, 0, 0, 0, 0, 0, 0, 0, 0, 0, 0, 0, 0, 0, 0, 0, 0, 0, 0, 0, 0, 0, 0, 0, 0, 0, 0, 0, 0, 0, 0, 0, 0, 0, 0, 0, 0, 0, 0, 0, 0, 0, 0, 0, 0, 0, 0, 0, 0, 0, 0, 0, 0, 0, 0, 0, 0, 0, 0, 0, 0, 0, 0, 0, 0, 0, 0, 0, 0, 0, 0, 0, 0, 0, 0, 0, 0, 0, 0, 0, 0, 0, 0, 0, 0, 0, 0, 0, 0, 0, 0, 0, 0, 0, 0, 0, 0, 0, 0, 0, 0, 0, 0, 0, 0, 0, 0, 0, 0, 0, 0, 0, 0, 0, 0, 0, 0, 0, 0, 0, 0, 0, 0, 0, 0, 0, 0, 0, 0, 0, 0, 0, 0, 0, 0, 0, 0, 0, 0, 0, 0, 0, 0, 0, 0, 0, 0, 0, 0, 0, 0, 0, 0, 0, 0, 0, 0, 0, 0, 0, 0, 0, 0, 0, 0, 0, 0, 0, 0, 0, 0, 0, 0, 0, 0, 0, 0, 0, 0, 0, 0, 0, 0, 0, 0, 0, 0, 0, 0, 0, 0, 0, 0, 0, 0, 0, 0, 0, 0, 0, 0, 0, 0, 0, 0, 0, 0, 0, 0, 0, 0, 0, 0, 0, 0, 0, 0, 0, 0, 0, 0, 0, 0, 0, 0, 0, 0, 0, 0, 0, 0, 0, 0, 0, 0, 0, 0, 0, 0, 0, 0, 0, 0, 0, 0, 0, 0, 0, 0, 0, 0, 0, 0, 0, 0, 0, 0, 0, 0, 0, 0, 0, 0, 0, 0, 0, 0, 0, 0, 0, 0, 0, 0, 0, 0, 0, 0, 0, 0, 0, 0, 0, 0, 0, 0, 0, 0, 0, 0, 0, 0, 0, 0, 0, 0, 0, 0, 0, 0, 0, 0, 0, 0, 0, 0, 0, 0, 0, 0, 0, 0, 0, 0, 0, 0, 0, 0, 0, 0, 0, 0, 0, 0, 0, 0, 0, 0, 0, 0, 0, 0, 0, 0, 0, 0, 0, 0, 0, 0, 0, 0, 0, 0, 0, 0, 0, 0, 0, 0, 0, 0, 0, 0, 0, 0, 0, 0, 0, 0, 0, 0, 0, 0, 0, 0, 0, 0, 0, 0, 0, 0, 0, 0, 0, 0, 0, 0, 0, 0, 0, 0, 0, 0, 0, 0, 0, 0, 0, 0, 0, 0, 0, 0, 0, 0, 0, 0, 0, 0, 0, 0, 0, 0, 0, 1, 0, 0, 0, 0, 0, 0, 0, 0, 0, 0, 0, 0, 0, 0, 0, 0, 0, 0, 0, 0, 0, 0, 0, 0, 0, 0, 0, 0, 0, 0, 0, 0, 0, 0, 0, 0, 0, 0, 0, 0, 0, 0, 0, 0, 0, 0, 0, 0, 0, 0, 0, 0, 0, 0, 0, 0, 0, 0, 0, 0, 0, 0, 0, 0, 0, 0, 0, 0, 0, 0, 0, 0, 0, 0, 0, 0, 0, 0, 0, 0, 0, 0, 0, 0, 0, 0, 0, 0, 0, 0, 0, 0, 0, 0, 0, 0, 0, 0, 0, 0, 0, 0, 0, 0, 0, 0, 0, 0, 0, 0, 2, 0, 0, 0, 0, 0, 0, 0, 0, 0, 0, 0, 0, 0, 0, 0, 0, 0, 0, 0, 0, 0, 0, 0, 0, 0, 0, 0, 0, 0, 0, 0, 0, 0, 0, 0, 0, 0, 0, 0, 0, 0, 0, 0, 0, 0, 0, 0, 0, 0, 0, 0, 0, 0, 0, 0, 0, 0, 0, 0, 0, 0, 0, 0, 0, 0, 0, 0, 0, 0, 0, 0, 0, 0, 0, 0, 0, 0, 0, 0, 0, 0, 0, 0, 0, 0, 0, 0, 0, 0, 0, 0, 0, 0, 0, 0, 0, 0, 0, 0, 0, 0, 0, 0, 0, 0, 0, 0, 0, 0, 0, 0, 0, 0, 0, 0, 0, 0, 0, 0, 0, 0, 0, 0, 0, 0, 0, 0, 0, 0, 0, 0, 0, 0, 0, 0, 0, 0, 0, 0, 0, 0, 0, 0, 0, 0, 0, 0, 0, 0, 0, 0, 0, 0, 0, 0, 0, 0, 0, 0, 0, 0, 0, 0, 0, 0, 0, 0, 0, 0, 0, 0, 0, 0, 0, 0, 0, 0, 0, 0, 0, 0, 0, 0, 0, 0, 0, 0, 0, 0, 0, 0, 0, 0, 0, 0, 0, 0, 0, 0, 0, 0, 0, 0, 0, 0, 0, 0, 0, 0, 0, 0, 0, 0, 0, 0, 0, 0, 0, 0, 0, 0, 0, 0, 0, 0, 0, 0, 0, 0, 0, 0, 0, 0, 0, 0, 0, 0, 0, 0, 0, 0, 0, 0, 0, 0, 0, 0, 0, 0, 0, 0, 0, 0, 0, 0, 0, 0, 0, 0, 0, 0, 0, 0, 0, 0, 0, 0, 0, 0, 0, 0, 0, 0, 0, 0, 0, 0, 0, 0, 0, 0, 0, 0, 0, 0, 0, 0, 0, 0, 0, 0, 0, 0, 0, 0, 0, 0, 0, 0, 0, 0, 0, 0, 0, 0, 0, 0, 0, 0, 0, 0, 0, 0, 0, 0, 0, 0, 0, 0, 0, 0, 0, 0, 0, 0, 0, 0, 0, 0, 0, 0, 0, 0, 0, 0, 0, 0, 0, 0, 0, 0, 0, 0, 0, 0, 0, 0, 0, 0, 0, 0, 0, 0, 0, 0, 0, 0, 0, 0, 0, 0, 0, 0, 0, 0, 0, 0, 0, 0, 0, 0, 0, 0, 0, 0, 0, 0, 0, 0, 0, 0, 0, 0, 0, 0, 0, 0, 0, 0, 0, 0, 0, 0, 0, 0, 0, 0, 0, 0, 0, 0, 0, 0, 0, 0, 0, 0, 0, 0, 0, 0, 0, 0, 0, 0, 0, 0, 0, 0, 0, 0, 0, 0, 0, 0, 0, 0, 0, 0, 0, 0, 0, 0, 0, 0, 0, 0, 0, 0, 0, 0, 0, 0, 0, 0, 0, 0, 0, 0, 0, 0, 0, 0, 0, 0, 0, 0, 0, 0, 0, 0, 0, 0, 0, 0, 0, 0, 0, 0, 0, 0, 0, 0, 0, 0, 0, 0, 0, 0, 0, 0, 0, 0, 0, 0, 0, 0, 0, 0, 0, 0, 0, 0, 0, 0, 0, 0, 0, 0, 0, 0, 0, 0, 0, 0, 0, 0, 0, 0, 0, 0, 0, 0, 0, 0, 0, 0, 0, 0, 0, 0, 0, 0, 0, 0, 0, 0, 0, 0, 0, 0, 0, 0, 0, 0, 0, 0, 0, 0, 0, 0, 0, 0, 0, 0, 0, 0, 0, 0, 0, 0, 0, 0, 0, 0, 0, 0, 0, 0, 0, 0, 0, 0, 0, 0, 0, 0, 0, 0, 0, 0, 0, 0, 0, 0, 0, 0, 0, 0, 0, 0, 0, 0, 0, 0, 0, 0, 0, 0, 0, 0, 0, 0, 0, 0, 0, 0, 0, 0, 0, 0, 0, 0, 0, 0, 0, 0, 0, 0, 0, 0, 0, 0, 0, 0, 0, 0, 0, 0, 0, 0, 0, 0, 0, 0, 0, 0, 0, 0, 0, 0, 0, 0, 0, 0, 0, 0, 0, 0, 0, 0, 0, 0, 0, 0, 0, 0, 0, 0, 0, 0, 0, 0, 0, 0, 0, 0, 0, 0, 0, 0, 0, 0, 0, 0, 0, 0, 0, 0, 0, 0, 0, 0, 0, 0, 0, 0, 0, 0, 0, 0, 0, 0, 0, 0, 0, 0, 0, 0, 0, 1, 0, 0, 0, 0, 0, 0, 0, 0, 0, 0, 0, 0, 0, 0, 0, 0, 0, 0, 0, 0, 0, 0, 0, 0, 0, 0, 0, 0, 0, 0, 0, 0, 0, 0, 0, 0, 0, 0, 0, 0, 0, 0, 0, 0, 0, 0, 0, 0, 0, 0, 0, 0, 0, 0, 0, 0, 0, 0, 0, 0, 0, 0, 0, 0, 0, 0, 0, 0, 0, 0, 0, 0, 0, 0, 0, 0, 0, 0, 0, 0, 0, 0, 0, 0, 0, 0, 0, 0, 0, 0, 0, 0, 0, 0, 0, 0, 0, 0, 0, 0, 0, 0, 0, 0, 0, 0, 0, 1, 0, 0, 0, 0, 0, 0, 0, 0, 0, 0, 0, 0, 0, 0, 0, 0, 0, 0, 0, 0, 0, 0, 0, 0, 0, 0, 0, 0, 0, 0, 0, 0, 0, 0, 0, 0, 0, 0, 0, 0, 0, 0, 0, 0, 0, 0, 0, 0, 0, 0, 0, 0, 0, 0, 0, 0, 0, 0, 0, 0, 0, 0, 0, 0, 0, 0, 0, 0, 0, 0, 0, 0, 0, 0, 0, 0, 0, 0, 0, 0, 0, 0, 0, 0, 0, 0, 0, 0, 0, 0, 0, 0, 0, 0, 0, 0, 0, 0, 0, 0, 0, 0, 0, 0, 0, 0, 0, 0, 0, 0, 0, 0, 0, 0, 0, 0, 0, 0, 0, 0, 0, 0, 0, 0, 0, 0, 0, 0, 0, 0, 0, 0, 0, 0, 0, 0, 0, 0, 0, 0, 0, 0, 0, 0, 0, 0, 0, 0, 0, 0, 0, 0, 0, 0, 0, 0, 0, 0, 0, 0, 0, 0, 0, 0, 0, 0, 0, 0, 0, 0, 0, 0, 0, 0, 0, 0, 0, 0, 0, 0, 0, 0, 0, 0, 0, 0, 0, 0, 0, 0, 0, 0, 0, 0, 0, 0, 0, 0, 0, 0, 0, 0, 0, 0, 0, 0, 0, 0, 0, 0, 0, 0, 0, 0, 0, 0, 0, 0, 0, 0, 0, 0, 0, 0, 0, 0, 0, 0, 0, 0, 0, 0, 0, 0, 0, 0, 0, 0, 0, 0, 0, 0, 0, 0, 0, 0, 0, 0, 0, 0, 0, 0, 0, 0, 0, 0, 0, 0, 0, 0, 0, 0, 0, 0, 0, 0, 0, 0, 0, 0, 0, 0, 0, 0, 0, 0, 0, 0, 0, 0, 0, 0, 0, 0, 0, 0, 0, 0, 0, 0, 0, 0, 0, 0, 0, 0, 0, 0, 0, 0, 0, 0, 0, 0, 0, 0, 0, 0, 0, 0, 0, 0, 0, 0, 0, 0, 0, 0, 0, 0, 0, 0, 0, 0, 0, 0, 0, 0, 0, 0, 0, 0, 0, 0, 0, 0, 0, 0, 0, 0, 0, 0, 0, 0, 0, 0, 0, 0, 0, 0, 0, 0, 0, 0, 0, 0, 0, 0, 0, 0, 0, 0, 0, 0, 0, 0, 0, 0, 0, 0, 0, 0, 0, 0, 0, 0, 0, 0, 0, 0, 0, 0, 0, 0, 0, 0, 0, 0, 0, 0, 0, 0, 0, 0, 0, 0, 0, 0, 0, 0, 0, 0, 0, 0, 0, 0, 0, 0, 0, 0, 0, 0, 0, 0, 0, 0, 0, 0, 0, 0, 0, 0, 0, 0, 0, 0, 0, 0, 0, 0, 0, 0, 0, 0, 0, 0, 0, 0, 0, 0, 0, 0, 0, 0, 0, 0, 0, 0, 0, 0, 0, 0, 0, 0, 0, 0, 0, 0, 0, 0, 0, 0, 0, 2, 0, 1, 0], type: <class 'list'>, valid types: <class 'bytes'>, <class 'bytearray'>, file-like object",
     "output_type": "error",
     "traceback": [
      "\u001b[0;31m---------------------------------------------------------------------------\u001b[0m",
      "\u001b[0;31mParamValidationError\u001b[0m                      Traceback (most recent call last)",
      "\u001b[0;32m<ipython-input-44-c9ab54ae3a48>\u001b[0m in \u001b[0;36m<module>\u001b[0;34m()\u001b[0m\n\u001b[1;32m      1\u001b[0m response = runtime.invoke_endpoint(EndpointName = xgb_predictor.endpoint, # The name of the endpoint we created\n\u001b[1;32m      2\u001b[0m                                        \u001b[0mContentType\u001b[0m \u001b[0;34m=\u001b[0m \u001b[0;34m'text/csv'\u001b[0m\u001b[0;34m,\u001b[0m                     \u001b[0;31m# The data format that is expected\u001b[0m\u001b[0;34m\u001b[0m\u001b[0m\n\u001b[0;32m----> 3\u001b[0;31m                                        Body = test_bow)\n\u001b[0m",
      "\u001b[0;32m~/anaconda3/envs/python3/lib/python3.6/site-packages/botocore/client.py\u001b[0m in \u001b[0;36m_api_call\u001b[0;34m(self, *args, **kwargs)\u001b[0m\n\u001b[1;32m    314\u001b[0m                     \"%s() only accepts keyword arguments.\" % py_operation_name)\n\u001b[1;32m    315\u001b[0m             \u001b[0;31m# The \"self\" in this scope is referring to the BaseClient.\u001b[0m\u001b[0;34m\u001b[0m\u001b[0;34m\u001b[0m\u001b[0m\n\u001b[0;32m--> 316\u001b[0;31m             \u001b[0;32mreturn\u001b[0m \u001b[0mself\u001b[0m\u001b[0;34m.\u001b[0m\u001b[0m_make_api_call\u001b[0m\u001b[0;34m(\u001b[0m\u001b[0moperation_name\u001b[0m\u001b[0;34m,\u001b[0m \u001b[0mkwargs\u001b[0m\u001b[0;34m)\u001b[0m\u001b[0;34m\u001b[0m\u001b[0m\n\u001b[0m\u001b[1;32m    317\u001b[0m \u001b[0;34m\u001b[0m\u001b[0m\n\u001b[1;32m    318\u001b[0m         \u001b[0m_api_call\u001b[0m\u001b[0;34m.\u001b[0m\u001b[0m__name__\u001b[0m \u001b[0;34m=\u001b[0m \u001b[0mstr\u001b[0m\u001b[0;34m(\u001b[0m\u001b[0mpy_operation_name\u001b[0m\u001b[0;34m)\u001b[0m\u001b[0;34m\u001b[0m\u001b[0m\n",
      "\u001b[0;32m~/anaconda3/envs/python3/lib/python3.6/site-packages/botocore/client.py\u001b[0m in \u001b[0;36m_make_api_call\u001b[0;34m(self, operation_name, api_params)\u001b[0m\n\u001b[1;32m    597\u001b[0m         }\n\u001b[1;32m    598\u001b[0m         request_dict = self._convert_to_request_dict(\n\u001b[0;32m--> 599\u001b[0;31m             api_params, operation_model, context=request_context)\n\u001b[0m\u001b[1;32m    600\u001b[0m \u001b[0;34m\u001b[0m\u001b[0m\n\u001b[1;32m    601\u001b[0m         \u001b[0mservice_id\u001b[0m \u001b[0;34m=\u001b[0m \u001b[0mself\u001b[0m\u001b[0;34m.\u001b[0m\u001b[0m_service_model\u001b[0m\u001b[0;34m.\u001b[0m\u001b[0mservice_id\u001b[0m\u001b[0;34m.\u001b[0m\u001b[0mhyphenize\u001b[0m\u001b[0;34m(\u001b[0m\u001b[0;34m)\u001b[0m\u001b[0;34m\u001b[0m\u001b[0m\n",
      "\u001b[0;32m~/anaconda3/envs/python3/lib/python3.6/site-packages/botocore/client.py\u001b[0m in \u001b[0;36m_convert_to_request_dict\u001b[0;34m(self, api_params, operation_model, context)\u001b[0m\n\u001b[1;32m    645\u001b[0m             api_params, operation_model, context)\n\u001b[1;32m    646\u001b[0m         request_dict = self._serializer.serialize_to_request(\n\u001b[0;32m--> 647\u001b[0;31m             api_params, operation_model)\n\u001b[0m\u001b[1;32m    648\u001b[0m         \u001b[0;32mif\u001b[0m \u001b[0;32mnot\u001b[0m \u001b[0mself\u001b[0m\u001b[0;34m.\u001b[0m\u001b[0m_client_config\u001b[0m\u001b[0;34m.\u001b[0m\u001b[0minject_host_prefix\u001b[0m\u001b[0;34m:\u001b[0m\u001b[0;34m\u001b[0m\u001b[0m\n\u001b[1;32m    649\u001b[0m             \u001b[0mrequest_dict\u001b[0m\u001b[0;34m.\u001b[0m\u001b[0mpop\u001b[0m\u001b[0;34m(\u001b[0m\u001b[0;34m'host_prefix'\u001b[0m\u001b[0;34m,\u001b[0m \u001b[0;32mNone\u001b[0m\u001b[0;34m)\u001b[0m\u001b[0;34m\u001b[0m\u001b[0m\n",
      "\u001b[0;32m~/anaconda3/envs/python3/lib/python3.6/site-packages/botocore/validate.py\u001b[0m in \u001b[0;36mserialize_to_request\u001b[0;34m(self, parameters, operation_model)\u001b[0m\n\u001b[1;32m    295\u001b[0m                                                     operation_model.input_shape)\n\u001b[1;32m    296\u001b[0m             \u001b[0;32mif\u001b[0m \u001b[0mreport\u001b[0m\u001b[0;34m.\u001b[0m\u001b[0mhas_errors\u001b[0m\u001b[0;34m(\u001b[0m\u001b[0;34m)\u001b[0m\u001b[0;34m:\u001b[0m\u001b[0;34m\u001b[0m\u001b[0m\n\u001b[0;32m--> 297\u001b[0;31m                 \u001b[0;32mraise\u001b[0m \u001b[0mParamValidationError\u001b[0m\u001b[0;34m(\u001b[0m\u001b[0mreport\u001b[0m\u001b[0;34m=\u001b[0m\u001b[0mreport\u001b[0m\u001b[0;34m.\u001b[0m\u001b[0mgenerate_report\u001b[0m\u001b[0;34m(\u001b[0m\u001b[0;34m)\u001b[0m\u001b[0;34m)\u001b[0m\u001b[0;34m\u001b[0m\u001b[0m\n\u001b[0m\u001b[1;32m    298\u001b[0m         return self._serializer.serialize_to_request(parameters,\n\u001b[1;32m    299\u001b[0m                                                      operation_model)\n",
      "\u001b[0;31mParamValidationError\u001b[0m: Parameter validation failed:\nInvalid type for parameter Body, value: [0, 0, 0, 0, 0, 0, 0, 0, 0, 0, 0, 0, 0, 0, 0, 0, 0, 0, 0, 0, 0, 0, 0, 0, 0, 0, 0, 0, 0, 0, 0, 0, 0, 0, 0, 0, 0, 0, 0, 0, 0, 0, 0, 0, 0, 0, 0, 0, 0, 0, 0, 0, 0, 0, 0, 0, 0, 0, 0, 0, 0, 0, 0, 0, 0, 0, 0, 0, 0, 0, 0, 0, 0, 0, 0, 0, 0, 0, 0, 0, 0, 0, 0, 0, 0, 0, 0, 0, 0, 0, 0, 0, 0, 0, 0, 0, 0, 0, 0, 0, 0, 0, 0, 0, 0, 0, 0, 0, 0, 0, 0, 0, 0, 0, 0, 0, 0, 0, 0, 0, 0, 0, 0, 0, 0, 0, 0, 0, 0, 0, 0, 0, 0, 0, 0, 0, 0, 0, 0, 0, 0, 0, 0, 0, 0, 0, 0, 0, 0, 0, 0, 0, 0, 0, 0, 0, 0, 0, 0, 0, 0, 0, 0, 0, 0, 0, 0, 0, 0, 0, 0, 0, 0, 0, 0, 0, 0, 0, 0, 0, 0, 0, 0, 0, 0, 0, 0, 0, 0, 0, 0, 0, 0, 0, 0, 0, 0, 0, 0, 0, 0, 0, 0, 0, 0, 0, 0, 0, 0, 0, 0, 0, 0, 0, 0, 0, 0, 0, 0, 0, 0, 0, 0, 0, 0, 0, 1, 0, 0, 0, 0, 0, 0, 0, 0, 0, 0, 0, 0, 0, 0, 0, 0, 0, 0, 0, 0, 0, 0, 0, 0, 0, 0, 0, 0, 0, 1, 0, 0, 0, 0, 0, 0, 0, 0, 0, 0, 0, 0, 0, 0, 0, 0, 0, 0, 0, 0, 0, 0, 0, 0, 0, 0, 0, 0, 0, 0, 0, 0, 0, 0, 0, 0, 0, 0, 0, 0, 0, 0, 0, 0, 0, 0, 0, 0, 0, 0, 0, 0, 0, 0, 0, 0, 0, 0, 0, 0, 0, 0, 0, 0, 0, 0, 0, 0, 0, 0, 0, 0, 0, 0, 0, 0, 0, 0, 0, 0, 0, 0, 0, 0, 0, 0, 0, 0, 0, 0, 0, 0, 0, 0, 0, 0, 0, 0, 0, 0, 0, 0, 0, 0, 0, 0, 0, 0, 0, 0, 0, 0, 0, 0, 0, 0, 0, 0, 0, 0, 0, 0, 0, 0, 0, 0, 0, 0, 0, 0, 0, 0, 0, 0, 0, 0, 0, 0, 0, 0, 0, 0, 0, 0, 0, 0, 0, 0, 0, 0, 0, 0, 0, 0, 0, 0, 0, 0, 0, 0, 0, 0, 0, 0, 0, 0, 0, 0, 0, 0, 0, 0, 0, 0, 0, 0, 0, 0, 0, 0, 0, 0, 0, 0, 0, 0, 0, 0, 0, 0, 0, 0, 0, 0, 0, 0, 0, 0, 0, 0, 0, 0, 0, 0, 0, 0, 0, 0, 0, 0, 0, 0, 0, 0, 0, 0, 0, 0, 0, 0, 0, 0, 0, 0, 0, 0, 0, 0, 0, 0, 0, 0, 0, 0, 0, 0, 0, 0, 0, 0, 0, 0, 0, 0, 0, 0, 0, 0, 0, 0, 0, 0, 0, 0, 0, 0, 0, 0, 0, 0, 0, 0, 0, 0, 0, 0, 0, 0, 0, 0, 0, 0, 0, 0, 0, 0, 0, 0, 0, 0, 0, 0, 0, 0, 0, 0, 0, 0, 0, 0, 0, 0, 0, 0, 0, 0, 0, 0, 0, 0, 0, 0, 0, 0, 0, 0, 0, 0, 0, 0, 0, 0, 0, 0, 0, 0, 0, 0, 0, 0, 0, 0, 0, 0, 0, 0, 0, 0, 0, 0, 0, 0, 0, 0, 0, 0, 0, 0, 0, 0, 0, 0, 0, 0, 0, 0, 0, 0, 0, 0, 0, 0, 0, 0, 0, 0, 0, 0, 0, 0, 0, 0, 0, 0, 0, 0, 0, 0, 0, 0, 0, 0, 0, 0, 0, 0, 0, 0, 0, 1, 0, 0, 0, 0, 0, 0, 0, 0, 0, 0, 0, 0, 0, 0, 0, 0, 0, 0, 0, 0, 0, 0, 0, 0, 0, 0, 0, 0, 0, 0, 0, 0, 0, 0, 0, 0, 0, 0, 0, 0, 0, 0, 0, 0, 0, 0, 0, 0, 0, 0, 0, 0, 0, 0, 0, 0, 0, 0, 0, 0, 0, 0, 0, 0, 0, 0, 0, 0, 0, 0, 0, 0, 0, 0, 0, 0, 0, 0, 0, 0, 0, 0, 0, 0, 0, 0, 0, 0, 0, 0, 0, 0, 0, 0, 0, 0, 0, 0, 0, 0, 0, 0, 0, 0, 0, 0, 0, 0, 0, 0, 0, 0, 0, 0, 0, 0, 0, 0, 0, 0, 0, 0, 0, 0, 0, 0, 0, 0, 0, 0, 0, 0, 0, 0, 0, 0, 0, 0, 0, 0, 0, 0, 0, 0, 0, 0, 0, 0, 0, 0, 0, 0, 0, 0, 0, 0, 0, 0, 0, 0, 0, 0, 0, 0, 0, 0, 0, 0, 0, 0, 0, 0, 0, 0, 0, 0, 0, 0, 0, 0, 0, 0, 0, 0, 0, 0, 0, 0, 0, 0, 0, 0, 0, 0, 0, 0, 0, 0, 0, 0, 0, 0, 0, 0, 0, 0, 0, 0, 0, 0, 0, 0, 0, 0, 0, 0, 0, 0, 0, 0, 0, 0, 0, 0, 0, 0, 0, 0, 0, 0, 0, 0, 0, 0, 0, 0, 0, 0, 0, 0, 0, 0, 0, 0, 0, 0, 0, 0, 0, 0, 0, 0, 0, 1, 0, 0, 0, 0, 0, 0, 0, 0, 0, 0, 0, 0, 0, 0, 0, 0, 0, 0, 0, 0, 0, 0, 0, 0, 0, 0, 0, 0, 0, 0, 0, 0, 0, 0, 0, 0, 0, 0, 0, 0, 0, 0, 0, 0, 0, 0, 0, 0, 0, 0, 0, 0, 0, 0, 0, 0, 0, 0, 0, 0, 0, 0, 0, 0, 0, 0, 0, 0, 0, 0, 0, 0, 0, 0, 0, 0, 0, 0, 0, 0, 0, 0, 0, 0, 0, 0, 1, 0, 0, 0, 0, 0, 0, 0, 0, 0, 0, 0, 0, 0, 0, 0, 0, 0, 0, 0, 0, 0, 0, 0, 0, 0, 0, 0, 0, 0, 0, 0, 0, 0, 0, 0, 0, 0, 0, 0, 0, 0, 0, 0, 0, 0, 0, 0, 0, 0, 0, 0, 0, 0, 0, 0, 0, 0, 0, 0, 0, 0, 0, 0, 0, 0, 0, 0, 0, 0, 0, 0, 0, 0, 0, 0, 0, 0, 0, 0, 0, 0, 0, 0, 0, 0, 0, 0, 0, 0, 0, 0, 0, 0, 0, 0, 0, 0, 0, 0, 0, 0, 0, 0, 0, 0, 0, 0, 0, 0, 0, 0, 0, 0, 0, 0, 0, 0, 0, 0, 0, 0, 0, 0, 0, 0, 0, 0, 0, 0, 0, 0, 0, 0, 0, 0, 0, 0, 0, 0, 0, 0, 0, 0, 0, 0, 0, 0, 0, 0, 0, 0, 0, 0, 0, 0, 0, 0, 0, 0, 0, 0, 0, 0, 0, 0, 0, 0, 0, 0, 0, 0, 0, 0, 0, 0, 0, 0, 0, 0, 0, 0, 0, 0, 0, 0, 0, 0, 0, 0, 0, 0, 0, 0, 0, 0, 0, 0, 0, 0, 0, 0, 0, 0, 0, 0, 0, 0, 0, 0, 0, 0, 0, 0, 0, 0, 0, 0, 0, 0, 0, 0, 0, 0, 0, 0, 0, 0, 0, 0, 0, 0, 0, 0, 0, 0, 0, 0, 0, 0, 0, 0, 0, 0, 0, 0, 0, 0, 0, 0, 0, 0, 0, 1, 0, 0, 0, 0, 0, 0, 0, 0, 0, 0, 0, 0, 0, 0, 0, 0, 0, 0, 0, 0, 0, 0, 0, 0, 0, 0, 0, 0, 0, 0, 0, 0, 0, 0, 0, 0, 0, 0, 0, 0, 0, 0, 0, 0, 0, 0, 0, 0, 0, 0, 0, 0, 0, 0, 0, 1, 0, 0, 0, 0, 0, 0, 0, 0, 0, 0, 0, 0, 0, 0, 0, 0, 0, 0, 0, 0, 0, 0, 0, 0, 0, 0, 0, 0, 0, 0, 0, 0, 0, 0, 0, 0, 0, 0, 0, 0, 0, 0, 0, 0, 0, 0, 0, 0, 0, 0, 0, 0, 0, 0, 0, 0, 0, 0, 0, 0, 0, 0, 0, 0, 0, 0, 0, 0, 0, 0, 0, 0, 0, 0, 0, 0, 0, 0, 0, 0, 0, 0, 0, 0, 0, 0, 0, 0, 0, 0, 0, 0, 0, 0, 0, 0, 0, 0, 0, 0, 0, 0, 0, 0, 0, 0, 0, 0, 0, 0, 0, 0, 0, 0, 0, 0, 0, 0, 0, 0, 0, 0, 0, 0, 0, 0, 0, 0, 0, 0, 0, 0, 0, 0, 0, 0, 0, 0, 0, 0, 0, 0, 0, 0, 0, 0, 0, 0, 0, 0, 0, 0, 0, 0, 0, 0, 0, 0, 0, 0, 0, 0, 0, 0, 0, 0, 0, 0, 0, 0, 0, 0, 0, 0, 0, 0, 0, 0, 0, 0, 0, 0, 0, 0, 0, 0, 0, 0, 0, 0, 0, 0, 0, 0, 0, 0, 0, 0, 0, 0, 0, 0, 0, 0, 0, 0, 0, 0, 0, 0, 0, 0, 0, 0, 0, 0, 0, 0, 0, 0, 0, 0, 0, 0, 0, 0, 0, 0, 0, 0, 0, 0, 0, 0, 0, 0, 0, 0, 0, 0, 0, 0, 0, 0, 0, 0, 0, 0, 0, 0, 0, 0, 0, 0, 0, 0, 0, 0, 0, 0, 0, 0, 0, 0, 0, 0, 0, 0, 0, 0, 0, 0, 0, 0, 0, 0, 0, 0, 0, 0, 0, 0, 0, 0, 0, 0, 0, 0, 0, 0, 0, 0, 0, 0, 0, 0, 0, 0, 0, 0, 0, 0, 0, 0, 0, 0, 0, 0, 0, 0, 0, 0, 0, 0, 0, 0, 0, 0, 0, 0, 0, 0, 0, 0, 0, 0, 0, 0, 0, 0, 0, 0, 0, 0, 0, 0, 0, 0, 0, 0, 0, 0, 0, 0, 0, 0, 0, 0, 0, 0, 0, 0, 0, 0, 0, 0, 0, 0, 0, 0, 0, 0, 0, 0, 0, 0, 0, 0, 0, 0, 0, 0, 0, 0, 0, 0, 0, 0, 0, 0, 0, 0, 0, 0, 0, 0, 0, 0, 0, 0, 0, 0, 0, 0, 0, 0, 0, 0, 0, 0, 0, 0, 0, 0, 0, 0, 0, 0, 0, 0, 0, 0, 0, 0, 0, 0, 0, 0, 0, 0, 0, 0, 0, 0, 0, 0, 0, 0, 0, 0, 0, 0, 0, 0, 0, 0, 0, 0, 0, 0, 0, 0, 0, 0, 0, 0, 0, 0, 0, 0, 0, 0, 0, 0, 0, 0, 0, 0, 0, 0, 0, 0, 0, 0, 0, 0, 0, 0, 0, 0, 0, 0, 0, 0, 0, 0, 0, 0, 0, 0, 0, 0, 0, 0, 0, 0, 0, 0, 0, 0, 0, 0, 0, 0, 0, 0, 0, 0, 0, 0, 0, 0, 0, 0, 0, 0, 0, 0, 0, 0, 0, 0, 0, 0, 0, 0, 0, 0, 0, 0, 0, 0, 0, 0, 0, 0, 0, 0, 0, 0, 0, 0, 0, 0, 0, 0, 0, 0, 0, 0, 0, 0, 0, 0, 0, 0, 0, 0, 0, 0, 0, 0, 0, 0, 0, 0, 0, 0, 0, 0, 0, 0, 0, 0, 0, 0, 0, 0, 0, 0, 0, 0, 0, 0, 0, 0, 0, 0, 0, 0, 0, 0, 0, 0, 0, 0, 0, 0, 0, 0, 0, 0, 0, 0, 0, 0, 0, 0, 0, 0, 0, 0, 0, 0, 0, 0, 0, 0, 0, 0, 0, 0, 0, 0, 0, 0, 0, 0, 0, 0, 0, 0, 0, 0, 0, 0, 0, 0, 0, 0, 0, 0, 0, 0, 0, 0, 0, 0, 0, 0, 0, 0, 0, 0, 0, 0, 0, 0, 0, 0, 0, 0, 0, 0, 0, 0, 0, 0, 0, 0, 0, 0, 0, 0, 0, 0, 0, 0, 0, 0, 0, 0, 0, 0, 0, 0, 0, 0, 0, 0, 0, 1, 0, 0, 0, 0, 0, 0, 0, 0, 0, 0, 0, 0, 0, 0, 0, 0, 0, 0, 0, 0, 0, 0, 0, 0, 0, 0, 0, 0, 0, 0, 0, 0, 0, 0, 0, 0, 0, 0, 0, 0, 0, 0, 0, 0, 0, 0, 0, 0, 0, 0, 0, 0, 0, 0, 0, 0, 0, 0, 0, 0, 0, 0, 0, 0, 0, 0, 0, 0, 0, 0, 0, 0, 0, 0, 1, 0, 0, 0, 0, 0, 0, 0, 0, 0, 0, 0, 0, 0, 0, 0, 0, 0, 0, 0, 0, 1, 0, 0, 1, 0, 0, 0, 0, 0, 0, 0, 0, 0, 0, 0, 0, 0, 0, 0, 0, 0, 0, 0, 0, 0, 0, 0, 0, 0, 0, 0, 0, 0, 0, 0, 0, 0, 0, 0, 0, 0, 0, 0, 0, 0, 0, 0, 0, 0, 0, 0, 0, 0, 0, 0, 0, 0, 0, 0, 0, 0, 0, 0, 0, 0, 0, 0, 0, 0, 0, 0, 0, 0, 0, 0, 0, 0, 0, 0, 0, 0, 0, 0, 0, 0, 0, 0, 0, 0, 0, 0, 0, 0, 0, 0, 0, 0, 0, 0, 0, 0, 0, 0, 0, 0, 0, 0, 0, 0, 0, 0, 0, 0, 0, 0, 0, 0, 0, 0, 0, 0, 0, 0, 0, 0, 0, 0, 0, 0, 0, 0, 0, 0, 0, 0, 0, 0, 0, 0, 0, 0, 0, 0, 0, 0, 0, 0, 0, 0, 0, 0, 0, 0, 0, 0, 0, 0, 0, 0, 0, 0, 0, 0, 0, 0, 0, 0, 0, 0, 0, 0, 0, 0, 0, 0, 0, 0, 0, 0, 0, 0, 0, 0, 0, 0, 0, 0, 0, 0, 0, 0, 0, 0, 0, 0, 0, 0, 0, 0, 0, 0, 0, 0, 0, 0, 0, 0, 0, 0, 0, 0, 0, 0, 0, 0, 0, 0, 0, 0, 0, 0, 0, 0, 0, 0, 0, 0, 0, 0, 0, 0, 0, 0, 0, 0, 0, 0, 0, 0, 0, 0, 0, 0, 0, 0, 0, 0, 0, 0, 0, 0, 0, 0, 0, 0, 0, 0, 0, 0, 0, 0, 0, 0, 0, 0, 0, 0, 0, 0, 0, 0, 0, 0, 0, 0, 0, 0, 0, 0, 0, 0, 0, 0, 0, 0, 0, 0, 0, 0, 0, 0, 0, 0, 0, 0, 0, 0, 0, 0, 0, 0, 0, 0, 0, 0, 0, 0, 0, 0, 0, 0, 0, 0, 0, 0, 0, 0, 0, 0, 0, 0, 0, 0, 0, 0, 0, 0, 0, 0, 0, 0, 0, 0, 0, 0, 0, 0, 0, 0, 0, 0, 0, 0, 0, 0, 0, 0, 0, 0, 0, 0, 0, 0, 0, 0, 0, 0, 0, 0, 0, 0, 0, 0, 0, 0, 0, 0, 0, 0, 0, 0, 0, 0, 0, 0, 0, 0, 0, 0, 0, 0, 0, 0, 0, 0, 0, 0, 0, 0, 0, 0, 0, 0, 0, 0, 0, 0, 0, 0, 0, 0, 0, 0, 0, 0, 0, 0, 0, 0, 0, 0, 0, 0, 0, 0, 0, 0, 0, 0, 0, 0, 0, 0, 0, 0, 0, 0, 0, 0, 0, 0, 0, 0, 0, 0, 0, 0, 0, 0, 0, 0, 0, 0, 0, 0, 0, 0, 0, 0, 0, 0, 0, 0, 0, 0, 0, 0, 0, 0, 0, 0, 0, 0, 0, 0, 0, 0, 0, 0, 0, 1, 0, 0, 0, 0, 0, 0, 0, 0, 0, 0, 0, 0, 0, 0, 0, 0, 0, 0, 0, 0, 0, 0, 0, 0, 0, 0, 0, 0, 0, 0, 0, 0, 0, 0, 0, 0, 0, 0, 0, 0, 0, 0, 0, 0, 0, 0, 0, 0, 0, 0, 0, 0, 0, 0, 0, 0, 0, 0, 0, 0, 0, 0, 0, 0, 0, 0, 0, 0, 0, 0, 0, 0, 0, 0, 0, 0, 0, 0, 0, 0, 0, 0, 0, 0, 0, 0, 0, 0, 0, 0, 0, 0, 0, 0, 0, 0, 0, 0, 0, 0, 0, 0, 0, 0, 0, 0, 0, 0, 0, 0, 0, 0, 0, 0, 0, 0, 0, 0, 0, 0, 0, 0, 0, 0, 0, 0, 0, 0, 0, 0, 0, 0, 0, 0, 0, 0, 0, 0, 0, 0, 0, 0, 0, 0, 0, 0, 0, 0, 0, 0, 0, 0, 0, 0, 0, 0, 0, 0, 0, 0, 0, 0, 0, 0, 0, 0, 0, 0, 0, 0, 0, 0, 0, 0, 0, 0, 0, 0, 0, 0, 0, 0, 0, 0, 0, 0, 0, 0, 0, 0, 0, 0, 0, 0, 0, 0, 0, 0, 0, 0, 0, 0, 0, 0, 0, 0, 0, 0, 0, 0, 0, 0, 0, 0, 0, 0, 0, 0, 0, 0, 0, 0, 0, 0, 0, 0, 0, 0, 0, 0, 0, 0, 0, 0, 0, 0, 0, 0, 0, 0, 0, 0, 0, 0, 0, 0, 0, 0, 0, 0, 0, 0, 0, 0, 0, 0, 0, 0, 0, 0, 0, 0, 0, 0, 0, 0, 0, 0, 0, 0, 0, 0, 0, 0, 0, 0, 0, 0, 0, 0, 0, 0, 0, 0, 0, 0, 0, 0, 0, 0, 0, 0, 0, 0, 0, 0, 0, 0, 0, 0, 0, 0, 0, 0, 0, 0, 0, 0, 0, 0, 0, 0, 0, 0, 0, 0, 0, 0, 0, 0, 0, 0, 0, 0, 0, 0, 0, 0, 0, 0, 0, 0, 0, 0, 0, 0, 0, 0, 0, 0, 0, 0, 0, 0, 0, 0, 0, 0, 0, 0, 0, 0, 0, 0, 0, 0, 0, 0, 0, 0, 0, 0, 0, 0, 0, 0, 0, 0, 0, 0, 0, 0, 0, 0, 0, 0, 0, 0, 0, 0, 0, 0, 0, 0, 0, 0, 0, 0, 0, 0, 0, 0, 0, 0, 0, 0, 0, 0, 0, 0, 0, 0, 0, 0, 0, 0, 0, 0, 0, 0, 0, 0, 0, 0, 0, 0, 0, 0, 0, 0, 0, 0, 0, 0, 0, 0, 0, 0, 0, 0, 0, 0, 0, 0, 0, 0, 0, 0, 0, 0, 0, 0, 0, 0, 0, 0, 0, 0, 0, 0, 0, 0, 0, 0, 0, 0, 0, 0, 0, 0, 0, 0, 0, 0, 0, 0, 0, 0, 0, 0, 0, 0, 0, 0, 0, 0, 0, 0, 0, 0, 0, 0, 0, 0, 0, 0, 0, 0, 0, 0, 0, 0, 0, 0, 0, 0, 0, 0, 0, 0, 0, 0, 0, 0, 0, 0, 0, 0, 0, 0, 0, 0, 1, 0, 0, 0, 0, 0, 0, 0, 0, 0, 0, 0, 0, 0, 0, 0, 0, 0, 0, 0, 0, 0, 0, 0, 0, 0, 0, 0, 0, 0, 0, 0, 0, 0, 0, 0, 2, 0, 0, 0, 0, 0, 0, 0, 0, 0, 0, 0, 0, 0, 0, 0, 0, 0, 0, 0, 0, 0, 0, 0, 0, 0, 0, 0, 0, 0, 0, 0, 0, 0, 0, 0, 0, 0, 0, 0, 0, 1, 0, 0, 0, 0, 0, 0, 0, 0, 0, 0, 0, 0, 0, 0, 0, 0, 0, 0, 0, 0, 0, 0, 0, 0, 0, 0, 0, 0, 0, 0, 0, 0, 0, 0, 0, 0, 0, 0, 0, 0, 0, 0, 0, 0, 0, 0, 0, 0, 0, 0, 0, 0, 0, 0, 0, 0, 0, 0, 0, 0, 0, 0, 0, 0, 0, 0, 0, 0, 0, 0, 0, 0, 0, 0, 0, 0, 0, 0, 0, 0, 0, 0, 0, 0, 0, 0, 0, 0, 0, 0, 0, 0, 0, 0, 0, 0, 0, 0, 0, 0, 0, 0, 0, 0, 0, 0, 0, 0, 0, 0, 0, 0, 0, 0, 0, 0, 0, 0, 0, 0, 0, 0, 0, 0, 0, 0, 0, 0, 0, 0, 0, 0, 0, 0, 0, 0, 0, 0, 0, 0, 0, 0, 0, 0, 0, 0, 0, 0, 0, 0, 0, 0, 0, 0, 0, 0, 0, 0, 0, 0, 0, 0, 0, 0, 0, 0, 0, 0, 0, 0, 0, 0, 0, 0, 0, 0, 0, 0, 0, 0, 0, 0, 0, 0, 0, 0, 0, 0, 0, 0, 0, 0, 0, 0, 0, 0, 0, 0, 0, 0, 0, 0, 0, 0, 0, 0, 0, 0, 0, 0, 0, 0, 0, 0, 0, 0, 0, 0, 0, 0, 0, 0, 0, 0, 0, 0, 0, 0, 0, 0, 0, 0, 0, 0, 0, 0, 0, 0, 0, 0, 0, 0, 0, 0, 0, 0, 0, 0, 0, 0, 0, 0, 0, 0, 0, 0, 0, 0, 0, 0, 0, 0, 0, 0, 0, 0, 0, 0, 0, 0, 0, 0, 0, 0, 0, 0, 0, 0, 0, 0, 0, 0, 0, 0, 0, 0, 0, 0, 0, 0, 0, 0, 0, 0, 0, 0, 0, 0, 0, 0, 0, 0, 0, 0, 0, 0, 0, 0, 0, 0, 0, 0, 0, 0, 0, 0, 0, 0, 0, 0, 0, 0, 0, 0, 0, 0, 0, 0, 0, 0, 0, 0, 0, 0, 0, 0, 0, 0, 0, 0, 0, 0, 0, 0, 0, 0, 0, 0, 0, 0, 0, 0, 0, 0, 0, 0, 0, 0, 0, 0, 0, 0, 0, 0, 0, 0, 0, 0, 0, 0, 0, 0, 0, 0, 0, 0, 0, 0, 0, 0, 0, 0, 0, 0, 0, 0, 0, 0, 0, 0, 0, 0, 0, 0, 0, 0, 0, 0, 0, 0, 0, 0, 0, 0, 0, 0, 0, 0, 0, 0, 0, 0, 0, 0, 0, 0, 0, 0, 0, 0, 0, 0, 0, 0, 0, 0, 0, 0, 0, 0, 0, 0, 0, 0, 0, 0, 0, 0, 0, 0, 0, 0, 0, 0, 0, 0, 0, 0, 0, 0, 0, 0, 0, 0, 0, 0, 0, 0, 0, 0, 0, 0, 0, 0, 0, 0, 0, 0, 0, 0, 0, 0, 0, 0, 0, 0, 0, 0, 0, 0, 0, 0, 0, 0, 0, 0, 0, 0, 0, 0, 0, 0, 0, 0, 0, 0, 0, 1, 0, 0, 0, 0, 0, 0, 0, 0, 0, 0, 0, 0, 0, 0, 0, 0, 0, 0, 0, 0, 0, 0, 0, 0, 0, 0, 0, 0, 0, 0, 0, 0, 0, 0, 0, 0, 0, 0, 0, 0, 0, 0, 0, 0, 0, 0, 0, 0, 0, 0, 0, 0, 0, 0, 0, 0, 0, 0, 0, 0, 0, 0, 0, 0, 0, 0, 0, 0, 0, 0, 0, 0, 0, 0, 0, 0, 0, 0, 0, 0, 0, 0, 0, 0, 0, 0, 0, 0, 0, 0, 0, 0, 0, 0, 0, 0, 0, 0, 0, 0, 0, 0, 0, 0, 0, 0, 0, 0, 0, 0, 2, 0, 0, 0, 0, 0, 0, 0, 0, 0, 0, 0, 0, 0, 0, 0, 0, 0, 0, 0, 0, 0, 0, 0, 0, 0, 0, 0, 0, 0, 0, 0, 0, 0, 0, 0, 0, 0, 0, 0, 0, 0, 0, 0, 0, 0, 0, 0, 0, 0, 0, 0, 0, 0, 0, 0, 0, 0, 0, 0, 0, 0, 0, 0, 0, 0, 0, 0, 0, 0, 0, 0, 0, 0, 0, 0, 0, 0, 0, 0, 0, 0, 0, 0, 0, 0, 0, 0, 0, 0, 0, 0, 0, 0, 0, 0, 0, 0, 0, 0, 0, 0, 0, 0, 0, 0, 0, 0, 0, 0, 0, 0, 0, 0, 0, 0, 0, 0, 0, 0, 0, 0, 0, 0, 0, 0, 0, 0, 0, 0, 0, 0, 0, 0, 0, 0, 0, 0, 0, 0, 0, 0, 0, 0, 0, 0, 0, 0, 0, 0, 0, 0, 0, 0, 0, 0, 0, 0, 0, 0, 0, 0, 0, 0, 0, 0, 0, 0, 0, 0, 0, 0, 0, 0, 0, 0, 0, 0, 0, 0, 0, 0, 0, 0, 0, 0, 0, 0, 0, 0, 0, 0, 0, 0, 0, 0, 0, 0, 0, 0, 0, 0, 0, 0, 0, 0, 0, 0, 0, 0, 0, 0, 0, 0, 0, 0, 0, 0, 0, 0, 0, 0, 0, 0, 0, 0, 0, 0, 0, 0, 0, 0, 0, 0, 0, 0, 0, 0, 0, 0, 0, 0, 0, 0, 0, 0, 0, 0, 0, 0, 0, 0, 0, 0, 0, 0, 0, 0, 0, 0, 0, 0, 0, 0, 0, 0, 0, 0, 0, 0, 0, 0, 0, 0, 0, 0, 0, 0, 0, 0, 0, 0, 0, 0, 0, 0, 0, 0, 0, 0, 0, 0, 0, 0, 0, 0, 0, 0, 0, 0, 0, 0, 0, 0, 0, 0, 0, 0, 0, 0, 0, 0, 0, 0, 0, 0, 0, 0, 0, 0, 0, 0, 0, 0, 0, 0, 0, 0, 0, 0, 0, 0, 0, 0, 0, 0, 0, 0, 0, 0, 0, 0, 0, 0, 0, 0, 0, 0, 0, 0, 0, 0, 0, 0, 0, 0, 0, 0, 0, 0, 0, 0, 0, 0, 0, 0, 0, 0, 0, 0, 0, 0, 0, 0, 0, 0, 0, 0, 0, 0, 0, 0, 0, 0, 0, 0, 0, 0, 0, 0, 0, 0, 0, 0, 0, 0, 0, 0, 0, 0, 0, 0, 0, 0, 0, 0, 0, 0, 0, 0, 0, 0, 0, 0, 0, 0, 0, 0, 0, 0, 0, 0, 0, 0, 0, 0, 0, 0, 0, 0, 0, 0, 0, 0, 0, 0, 0, 0, 0, 0, 0, 0, 0, 0, 0, 0, 0, 0, 0, 0, 0, 0, 0, 0, 0, 0, 0, 0, 0, 0, 0, 0, 0, 0, 0, 0, 0, 0, 0, 0, 0, 0, 0, 0, 0, 0, 0, 0, 0, 0, 0, 0, 0, 0, 0, 0, 0, 0, 0, 0, 0, 0, 0, 0, 0, 0, 0, 0, 0, 0, 0, 0, 0, 0, 0, 0, 0, 0, 0, 0, 0, 0, 0, 0, 0, 0, 0, 0, 0, 0, 0, 0, 0, 0, 0, 0, 0, 0, 0, 0, 0, 0, 0, 0, 0, 0, 0, 0, 0, 0, 0, 0, 0, 0, 0, 0, 0, 0, 0, 0, 0, 0, 0, 0, 0, 0, 0, 0, 0, 0, 0, 0, 0, 0, 0, 0, 0, 0, 0, 0, 0, 0, 0, 0, 0, 0, 0, 0, 0, 0, 0, 0, 0, 0, 0, 0, 0, 0, 0, 0, 0, 0, 0, 0, 0, 0, 0, 0, 0, 0, 0, 0, 0, 0, 0, 0, 0, 0, 0, 0, 0, 0, 0, 0, 0, 0, 0, 0, 0, 0, 0, 0, 0, 0, 0, 0, 0, 0, 0, 0, 0, 0, 0, 0, 0, 0, 0, 0, 0, 0, 0, 0, 0, 0, 0, 0, 0, 0, 0, 0, 0, 0, 0, 0, 0, 0, 0, 0, 0, 0, 0, 0, 0, 0, 0, 0, 0, 0, 0, 0, 0, 0, 0, 0, 0, 0, 0, 0, 0, 0, 0, 0, 0, 0, 0, 0, 0, 0, 0, 0, 0, 1, 0, 0, 0, 0, 0, 0, 0, 0, 0, 0, 0, 0, 0, 0, 0, 0, 0, 0, 0, 0, 0, 0, 0, 0, 0, 0, 0, 0, 0, 0, 0, 0, 0, 0, 0, 0, 0, 0, 0, 0, 0, 0, 0, 0, 0, 0, 0, 0, 0, 0, 0, 0, 0, 0, 0, 0, 0, 0, 0, 0, 0, 0, 0, 0, 0, 0, 0, 0, 0, 0, 0, 0, 0, 0, 0, 0, 0, 0, 0, 0, 0, 0, 0, 0, 0, 0, 0, 0, 0, 0, 0, 0, 0, 0, 0, 0, 0, 0, 0, 0, 0, 0, 0, 0, 0, 0, 0, 1, 0, 0, 0, 0, 0, 0, 0, 0, 0, 0, 0, 0, 0, 0, 0, 0, 0, 0, 0, 0, 0, 0, 0, 0, 0, 0, 0, 0, 0, 0, 0, 0, 0, 0, 0, 0, 0, 0, 0, 0, 0, 0, 0, 0, 0, 0, 0, 0, 0, 0, 0, 0, 0, 0, 0, 0, 0, 0, 0, 0, 0, 0, 0, 0, 0, 0, 0, 0, 0, 0, 0, 0, 0, 0, 0, 0, 0, 0, 0, 0, 0, 0, 0, 0, 0, 0, 0, 0, 0, 0, 0, 0, 0, 0, 0, 0, 0, 0, 0, 0, 0, 0, 0, 0, 0, 0, 0, 0, 0, 0, 0, 0, 0, 0, 0, 0, 0, 0, 0, 0, 0, 0, 0, 0, 0, 0, 0, 0, 0, 0, 0, 0, 0, 0, 0, 0, 0, 0, 0, 0, 0, 0, 0, 0, 0, 0, 0, 0, 0, 0, 0, 0, 0, 0, 0, 0, 0, 0, 0, 0, 0, 0, 0, 0, 0, 0, 0, 0, 0, 0, 0, 0, 0, 0, 0, 0, 0, 0, 0, 0, 0, 0, 0, 0, 0, 0, 0, 0, 0, 0, 0, 0, 0, 0, 0, 0, 0, 0, 0, 0, 0, 0, 0, 0, 0, 0, 0, 0, 0, 0, 0, 0, 0, 0, 0, 0, 0, 0, 0, 0, 0, 0, 0, 0, 0, 0, 0, 0, 0, 0, 0, 0, 0, 0, 0, 0, 0, 0, 0, 0, 0, 0, 0, 0, 0, 0, 0, 0, 0, 0, 0, 0, 0, 0, 0, 0, 0, 0, 0, 0, 0, 0, 0, 0, 0, 0, 0, 0, 0, 0, 0, 0, 0, 0, 0, 0, 0, 0, 0, 0, 0, 0, 0, 0, 0, 0, 0, 0, 0, 0, 0, 0, 0, 0, 0, 0, 0, 0, 0, 0, 0, 0, 0, 0, 0, 0, 0, 0, 0, 0, 0, 0, 0, 0, 0, 0, 0, 0, 0, 0, 0, 0, 0, 0, 0, 0, 0, 0, 0, 0, 0, 0, 0, 0, 0, 0, 0, 0, 0, 0, 0, 0, 0, 0, 0, 0, 0, 0, 0, 0, 0, 0, 0, 0, 0, 0, 0, 0, 0, 0, 0, 0, 0, 0, 0, 0, 0, 0, 0, 0, 0, 0, 0, 0, 0, 0, 0, 0, 0, 0, 0, 0, 0, 0, 0, 0, 0, 0, 0, 0, 0, 0, 0, 0, 0, 0, 0, 0, 0, 0, 0, 0, 0, 0, 0, 0, 0, 0, 0, 0, 0, 0, 0, 0, 0, 0, 0, 0, 0, 0, 0, 0, 0, 0, 0, 0, 0, 0, 0, 0, 0, 0, 0, 0, 0, 0, 0, 0, 0, 0, 0, 0, 0, 0, 0, 0, 0, 0, 0, 0, 0, 0, 0, 0, 0, 0, 0, 0, 0, 0, 0, 0, 0, 2, 0, 1, 0], type: <class 'list'>, valid types: <class 'bytes'>, <class 'bytearray'>, file-like object"
     ]
    }
   ],
   "source": [
    "response = runtime.invoke_endpoint(EndpointName = xgb_predictor.endpoint, # The name of the endpoint we created\n",
    "                                       ContentType = 'text/csv',                     # The data format that is expected\n",
    "                                       Body = test_bow)"
   ]
  },
  {
   "cell_type": "markdown",
   "metadata": {},
   "source": [
    "So why did we get an error?\n",
    "\n",
    "Because we tried to send the endpoint a list of integers but it expected us to send data of type `text/csv`. So, we need to convert it."
   ]
  },
  {
   "cell_type": "code",
   "execution_count": 45,
   "metadata": {},
   "outputs": [],
   "source": [
    "response = runtime.invoke_endpoint(EndpointName = xgb_predictor.endpoint, # The name of the endpoint we created\n",
    "                                       ContentType = 'text/csv',                     # The data format that is expected\n",
    "                                       Body = ','.join([str(val) for val in test_bow]).encode('utf-8'))"
   ]
  },
  {
   "cell_type": "code",
   "execution_count": 46,
   "metadata": {},
   "outputs": [
    {
     "name": "stdout",
     "output_type": "stream",
     "text": [
      "{'ResponseMetadata': {'RequestId': '0c5747d4-fc57-4e3f-88e0-bd0f16b23069', 'HTTPStatusCode': 200, 'HTTPHeaders': {'x-amzn-requestid': '0c5747d4-fc57-4e3f-88e0-bd0f16b23069', 'x-amzn-invoked-production-variant': 'AllTraffic', 'date': 'Sat, 9 May 2020 05:30:28 GMT', 'content-type': 'text/csv; charset=utf-8', 'content-length': '18'}, 'RetryAttempts': 0}, 'ContentType': 'text/csv; charset=utf-8', 'InvokedProductionVariant': 'AllTraffic', 'Body': <botocore.response.StreamingBody object at 0x7fb122586588>}\n"
     ]
    }
   ],
   "source": [
    "print(response)"
   ]
  },
  {
   "cell_type": "markdown",
   "metadata": {},
   "source": [
    "As we can see, the response from our model is a somewhat complicated looking dict that contains a bunch of information. The bit that we are most interested in is `'Body'` object which is a streaming object that we need to `read` in order to make use of."
   ]
  },
  {
   "cell_type": "code",
   "execution_count": 47,
   "metadata": {},
   "outputs": [
    {
     "name": "stdout",
     "output_type": "stream",
     "text": [
      "0.3437865674495697\n"
     ]
    }
   ],
   "source": [
    "response = response['Body'].read().decode('utf-8')\n",
    "print(response)"
   ]
  },
  {
   "cell_type": "markdown",
   "metadata": {},
   "source": [
    "Now that we know how to process the incoming user data we can start setting up the infrastructure to make our simple web app work. To do this we will make use of two different services. Amazon's Lambda and API Gateway services.\n",
    "\n",
    "Lambda is a service which allows someone to write some relatively simple code and have it executed whenever a chosen trigger occurs. For example, you may want to update a database whenever new data is uploaded to a folder stored on S3.\n",
    "\n",
    "API Gateway is a service that allows you to create HTTP endpoints (url addresses) which are connected to other AWS services. One of the benefits to this is that you get to decide what credentials, if any, are required to access these endpoints.\n",
    "\n",
    "In our case we are going to set up an HTTP endpoint through API Gateway which is open to the public. Then, whenever anyone sends data to our public endpoint we will trigger a Lambda function which will send the input (in our case a review) to our model's endpoint and then return the result."
   ]
  },
  {
   "cell_type": "markdown",
   "metadata": {},
   "source": [
    "### Setting up a Lambda function\n",
    "\n",
    "The first thing we are going to do is set up a Lambda function. This Lambda function will be executed whenever our public API has data sent to it. When it is executed it will receive the data, perform any sort of processing that is required, send the data (the review) to the SageMaker endpoint we've created and then return the result.\n",
    "\n",
    "#### Part A: Create an IAM Role for the Lambda function\n",
    "\n",
    "Since we want the Lambda function to call a SageMaker endpoint, we need to make sure that it has permission to do so. To do this, we will construct a role that we can later give the Lambda function.\n",
    "\n",
    "Using the AWS Console, navigate to the **IAM** page and click on **Roles**. Then, click on **Create role**. Make sure that the **AWS service** is the type of trusted entity selected and choose **Lambda** as the service that will use this role, then click **Next: Permissions**.\n",
    "\n",
    "In the search box type `sagemaker` and select the check box next to the **AmazonSageMakerFullAccess** policy. Then, click on **Next: Review**.\n",
    "\n",
    "Lastly, give this role a name. Make sure you use a name that you will remember later on, for example `LambdaSageMakerRole`. Then, click on **Create role**."
   ]
  },
  {
   "cell_type": "markdown",
   "metadata": {},
   "source": [
    "#### Part B: Create a Lambda function\n",
    "\n",
    "Now it is time to actually create the Lambda function. Remember from earlier that in order to process the user provided input and send it to our endpoint we need to gather two pieces of information:\n",
    "\n",
    " - The name of the endpoint, and\n",
    " - the vocabulary object.\n",
    "\n",
    "We will copy these pieces of information to our Lambda function after we create it.\n",
    "\n",
    "To start, using the AWS Console, navigate to the AWS Lambda page and click on **Create a function**. When you get to the next page, make sure that **Author from scratch** is selected. Now, name your Lambda function, using a name that you will remember later on, for example `sentiment_analysis_xgboost_func`. Make sure that the **Python 3.6** runtime is selected and then choose the role that you created in the previous part. Then, click on **Create Function**.\n",
    "\n",
    "On the next page you will see some information about the Lambda function you've just created. If you scroll down you should see an editor in which you can write the code that will be executed when your Lambda function is triggered. Collecting the code we wrote above to process a single review and adding it to the provided example `lambda_handler` we arrive at the following.\n",
    "\n",
    "```python\n",
    "# We need to use the low-level library to interact with SageMaker since the SageMaker API\n",
    "# is not available natively through Lambda.\n",
    "import boto3\n",
    "\n",
    "# And we need the regular expression library to do some of the data processing\n",
    "import re\n",
    "\n",
    "REPLACE_NO_SPACE = re.compile(\"(\\.)|(\\;)|(\\:)|(\\!)|(\\')|(\\?)|(\\,)|(\\\")|(\\()|(\\))|(\\[)|(\\])\")\n",
    "REPLACE_WITH_SPACE = re.compile(\"(<br\\s*/><br\\s*/>)|(\\-)|(\\/)\")\n",
    "\n",
    "def review_to_words(review):\n",
    "    words = REPLACE_NO_SPACE.sub(\"\", review.lower())\n",
    "    words = REPLACE_WITH_SPACE.sub(\" \", words)\n",
    "    return words\n",
    "    \n",
    "def bow_encoding(words, vocabulary):\n",
    "    bow = [0] * len(vocabulary) # Start by setting the count for each word in the vocabulary to zero.\n",
    "    for word in words.split():  # For each word in the string\n",
    "        if word in vocabulary:  # If the word is one that occurs in the vocabulary, increase its count.\n",
    "            bow[vocabulary[word]] += 1\n",
    "    return bow\n",
    "\n",
    "\n",
    "def lambda_handler(event, context):\n",
    "    \n",
    "    vocab = \"*** ACTUAL VOCABULARY GOES HERE ***\"\n",
    "    \n",
    "    words = review_to_words(event['body'])\n",
    "    bow = bow_encoding(words, vocab)\n",
    "\n",
    "    # The SageMaker runtime is what allows us to invoke the endpoint that we've created.\n",
    "    runtime = boto3.Session().client('sagemaker-runtime')\n",
    "\n",
    "    # Now we use the SageMaker runtime to invoke our endpoint, sending the review we were given\n",
    "    response = runtime.invoke_endpoint(EndpointName = '***ENDPOINT NAME HERE***',# The name of the endpoint we created\n",
    "                                       ContentType = 'text/csv',                 # The data format that is expected\n",
    "                                       Body = ','.join([str(val) for val in bow]).encode('utf-8')) # The actual review\n",
    "\n",
    "    # The response is an HTTP response whose body contains the result of our inference\n",
    "    result = response['Body'].read().decode('utf-8')\n",
    "    \n",
    "    # Round the result so that our web app only gets '1' or '0' as a response.\n",
    "    result = round(float(result))\n",
    "\n",
    "    return {\n",
    "        'statusCode' : 200,\n",
    "        'headers' : { 'Content-Type' : 'text/plain', 'Access-Control-Allow-Origin' : '*' },\n",
    "        'body' : str(result)\n",
    "    }\n",
    "```"
   ]
  },
  {
   "cell_type": "markdown",
   "metadata": {},
   "source": [
    "Once you have copy and pasted the code above into the Lambda code editor, replace the `**ENDPOINT NAME HERE**` portion with the name of the endpoint that we deployed earlier. You can determine the name of the endpoint using the code cell below."
   ]
  },
  {
   "cell_type": "code",
   "execution_count": 48,
   "metadata": {},
   "outputs": [
    {
     "data": {
      "text/plain": [
       "'sagemaker-xgboost-2020-05-09-04-31-55-048'"
      ]
     },
     "execution_count": 48,
     "metadata": {},
     "output_type": "execute_result"
    }
   ],
   "source": [
    "xgb_predictor.endpoint"
   ]
  },
  {
   "cell_type": "markdown",
   "metadata": {},
   "source": [
    "In addition, you will need to copy the vocabulary dict to the appropriate place in the code at the beginning of the `lambda_handler` method. The cell below prints out the vocabulary dict in a way that is easy to copy and paste."
   ]
  },
  {
   "cell_type": "code",
   "execution_count": 49,
   "metadata": {},
   "outputs": [
    {
     "name": "stdout",
     "output_type": "stream",
     "text": [
      "{'my': 2951, '10': 0, 'like': 2599, 'lot': 2661, 'this': 4457, 'movie': 2926, 'compare': 911, 'to': 4507, 'today': 4508, 'just': 2437, 'action': 100, 'and': 226, 'special': 4097, 'nothing': 3047, 'new': 3003, 'about': 67, 'ideas': 2215, 'green': 1971, 'ask': 316, 'something': 4066, 'that': 4424, 'doesnt': 1309, 'exist': 1569, 'anymore': 258, 'think': 4452, 'well': 4843, 'it': 2366, 'would': 4957, 'not': 3040, 'big': 478, 'surprise': 4312, 'day': 1129, 'human': 2188, 'eat': 1411, 'which': 4867, 'are': 285, 'create': 1036, 'with': 4911, 'body': 527, 'of': 3083, 'all': 187, 'what': 4858, 'happen': 2026, 'on': 3105, 'planet': 3289, 'see': 3855, 'how': 2181, 'people': 3221, 'so': 4046, 'kind': 2476, 'future': 1856, 'is': 2360, 'possible': 3350, 'sure': 4308, 'take': 4349, 'some': 4061, 'age': 148, 'but': 636, 'the': 4426, 'idea': 2213, 'behind': 447, 'actual': 108, 'again': 146, 'rich': 3685, 'at': 331, 'other': 3135, 'in': 2257, 'hell': 2077, 'luck': 2681, 'they': 4442, 'tv': 4610, 'reality': 3551, 'show': 3953, 'good': 1937, 'brain': 562, 'its': 2370, 'pity': 3281, 'intelligence': 2313, 'have': 2052, 'progress': 3425, 'since': 3990, 'writing': 4971, 'stop': 4201, 'if': 2222, 'you': 4986, 'for': 1784, 'believe': 454, 'same': 3778, 'too': 4522, 'dont': 1324, 'yourself': 4993, 'question': 3487, 'now': 3054, 'never': 3001, 'look': 2646, 'full': 1846, 'house': 2178, 'opinion': 3118, 'an': 223, 'absolute': 71, 'abc': 63, 'classic': 835, 'im': 2232, 'ive': 2372, 'seen': 3865, 'every': 1539, 'episode': 1507, 'still': 4188, 'enjoyed': 1486, 'one': 3107, 'favorite': 1671, 'episodes': 1508, 'where': 4864, 'jesse': 2397, 'john': 2409, 'get': 1899, 'married': 2744, 'want': 4788, 'know': 2489, 'made': 2697, 'funny': 1852, 'youd': 4987, 'was': 4805, 'two': 4620, 'both': 547, 'parts': 3199, 'another': 250, 'michelle': 2830, 'mary': 2751, 'kate': 2446, 'ashley': 313, 'locked': 2637, 'gas': 1874, 'station': 4164, 'birthday': 487, 'also': 199, 'why': 4878, 'happened': 2027, 'many': 2732, 'ones': 3108, 'everyone': 1542, 'always': 203, 'gave': 1875, 'performance': 3228, 'production': 3419, 'design': 1202, 'spectacular': 4101, 'costumes': 1006, 'were': 4848, 'designed': 1203, 'very': 4723, 'strong': 4229, 'conclusion': 936, 'even': 1533, 'though': 4461, 'can': 665, 'be': 418, 'strongly': 4231, 'recommend': 3571, 'catch': 714, 'case': 707, 'goes': 1930, 'off': 3084, 'air': 164, 'stars': 4155, 'as': 311, 'jack': 2373, 'kelly': 2452, 'ex': 1549, 'vietnam': 4735, 'cop': 991, 'who': 4871, 'search': 3841, 'destroy': 1213, 'mission': 2870, 'save': 3794, 'his': 2118, 'sister': 4001, 'from': 1840, 'atrocious': 335, 'bad': 382, 'ron': 3734, 'third': 4455, 'yet': 4984, 'has': 2043, 'minutes': 2859, 'screen': 3829, 'time': 4495, 'those': 4460, 'arent': 288, 'any': 256, 'overall': 3150, 'terrible': 4407, 'scenes': 3811, 'bell': 458, 'hanging': 2023, 'tree': 4576, 'worth': 4953, 'few': 1700, 'unintentional': 4658, 'laughs': 2534, 'followed': 1773, 'by': 642, 'improved': 2255, 'sequel': 3885, 'revenge': 3675, 'unusual': 4681, 'short': 3946, 'because': 432, 'subject': 4253, 'matter': 2769, 'or': 3124, 'animated': 241, 'had': 2003, 'introduced': 2337, 'little': 2624, 'film': 1716, 'depicts': 1186, 'bugs': 613, 'tell': 4395, 'story': 4207, 'originally': 3131, 'wanted': 4789, 'fighting': 1709, 'couldnt': 1008, 'them': 4432, 'do': 1302, 'camera': 659, 'hot': 2174, 'lights': 2597, 'suffered': 4276, 'through': 4477, 'he': 2056, 'took': 4523, 'dead': 1132, 'started': 4157, 'using': 4698, 'motion': 2913, 'techniques': 4384, 'movements': 2924, 'does': 1308, 'job': 2405, 'putting': 3482, 'creatures': 1046, 'such': 4268, 'riding': 3695, 'painting': 3175, 'filming': 1718, 'kissing': 2484, 'dancing': 1107, 'make': 2713, '1933': 12, 'first': 1736, 'notable': 3041, 'work': 4940, 'youre': 4992, 'interested': 2324, 'shorts': 3948, 'mentioned': 2811, 'check': 777, 'your': 4991, 'local': 2634, 'library': 2589, 'dvd': 1391, 'fantastic': 1651, 'tales': 4357, 'image': 2233, 'entertainment': 1500, 'giving': 1915, 'credit': 1049, 'due': 1382, 'only': 3110, 'sets': 3899, 'deserve': 1199, 'mention': 2810, 'undoubtedly': 4648, 'lowest': 2678, 'point': 3316, 'long': 2644, 'career': 686, 'script': 3834, 'clumsy': 866, 'could': 1007, 'possibly': 3351, 'imagine': 2238, 'neither': 2996, 'nor': 3032, 'william': 4887, 'sir': 4000, 'thing': 4450, 'looks': 2649, 'extremely': 1610, 'page': 3167, 'boy': 557, 'poor': 3328, 'stock': 4193, 'costume': 1005, 'heroine': 2091, 'role': 3726, 'her': 2085, 'else': 1448, 'except': 1556, 'couple': 1016, 'uninspired': 4657, 'voice': 4761, 'probably': 3407, 'dubbed': 1379, 'occasion': 3073, 'plain': 3286, 'awful': 372, 'mark': 2739, 'wit': 4908, 'evident': 1547, 'screenplay': 3831, 'die': 1243, 'hard': 2033, 'fans': 1650, 'appreciate': 279, 'mess': 2818, 'given': 1913, 'direction': 1261, 'extras': 1608, 'theyre': 4445, 'supposed': 4306, 'doing': 1312, 'up': 4683, 'dull': 1384, 'recommended': 3572, 'children': 792, 'south': 4087, 'african': 142, 'insult': 2309, 'someone': 4064, 'actually': 109, 'paid': 3169, 'produce': 3413, 'nonsense': 3030, 'despite': 1211, 'fact': 1621, 'director': 1264, 'writers': 4969, 'original': 3129, 'mini': 2854, 'addition': 118, 'series': 3890, 'appalling': 268, 'based': 404, 'historical': 2119, 'facts': 1624, 'man': 2721, 'great': 1964, 'leader': 2546, 'warrior': 4802, 'played': 3297, 'large': 2517, 'history': 2121, 'africa': 141, 'plot': 3309, 'however': 2183, 'bottom': 551, 'writer': 4968, 'failed': 1626, 'impress': 2250, 'mid': 2832, 'while': 4868, 'henry': 2084, 'actors': 104, 'david': 1124, 'here': 2086, 'red': 3576, 'smile': 4036, 'kept': 2456, 'expecting': 1578, 'blond': 510, 'women': 4923, 'appear': 273, 'out': 3141, 'nowhere': 3056, 'run': 3755, 'across': 96, 'their': 4431, 'tiny': 4500, 'suits': 4287, 'no': 3020, 'apparent': 269, 'reason': 3557, 'wouldve': 4959, 'been': 438, 'more': 2904, 'bizarre': 492, 'than': 4420, 'line': 2610, 'after': 143, 'beer': 439, 'fancy': 1649, 'dress': 1357, 'party': 3200, 'someones': 4065, 'inspired': 2301, 'return': 3665, 'theme': 4433, 'next': 3007, 'blockbuster': 509, 'stands': 4147, 'floating': 1758, 'building': 615, 'middle': 2833, 'ocean': 3079, 'used': 4693, 'plane': 3288, 'contemporary': 965, 'novel': 3052, 'filmed': 1717, 'german': 1896, 'french': 1830, 'plus': 3311, 'english': 1483, 'soon': 4074, 'technology': 4385, 'non': 3027, 'travel': 4567, 'much': 2934, 'leslie': 2574, 'claire': 831, 'find': 1726, 'love': 2669, 'directed': 1259, 'mr': 2929, 'most': 2909, 'fun': 1848, 'watch': 4811, 'convincing': 985, 'ms': 2931, 'younger': 4990, 'co': 867, 'olivier': 3103, 'ann': 244, 'concept': 930, 'aged': 149, 'moment': 2886, 'knew': 2486, 'really': 3556, 'together': 4511, 'life': 2592, 'pilot': 3276, 'being': 448, 'six': 4010, 'weeks': 4839, 'me': 2778, 'feel': 1684, 'men': 2805, 'back': 378, '1940s': 13, 'must': 2950, 'lived': 2626, 'decent': 1147, 'wasnt': 4807, 'focusing': 1769, 'sex': 3907, 'mean': 2779, 'hes': 2093, 'theres': 4440, 'outside': 3146, 'having': 2054, 'constant': 957, 'basis': 408, 'michael': 2829, 'did': 1241, 'considering': 952, 'laugh': 2529, 'him': 2110, 'character': 758, 'alright': 198, 'concerned': 932, 'she': 3923, 'couldve': 1009, 'done': 1322, 'person': 3238, 'stood': 4199, 'loving': 2675, 'wife': 4884, 'beautiful': 428, 'inside': 2297, 'watched': 4813, 'start': 4156, 'oscar': 3133, 'material': 2766, 'modern': 2882, 'standards': 4145, 'quite': 3495, 'fair': 1630, 'showing': 3958, 'personal': 3240, 'demons': 1178, 'over': 3148, 'ruin': 3750, 'things': 4451, 'highly': 2105, 'paulie': 3215, 'fantasy': 1652, 'girl': 1909, 'perhaps': 3235, 'youth': 4994, 'growing': 1983, 'tony': 4521, 'flawless': 1751, 'russian': 3762, 'scientist': 3818, 'cannot': 670, 'america': 212, 'isolated': 2363, 'performing': 3233, 'science': 3816, 'lab': 2501, 'chief': 788, 'doctor': 1304, 'bitter': 491, 'speak': 4094, 'fully': 1847, 'language': 2516, 'learn': 2550, 'later': 2525, 'lower': 2677, 'levels': 2585, 'finds': 1728, 'marie': 2737, 'lost': 2660, 'each': 1395, 'quest': 3486, 'begins': 444, '20': 29, 'years': 4979, 'passed': 3202, 'ends': 1474, 'will': 4886, 'say': 3799, 'three': 4469, 'home': 2142, 'final': 1722, 'own': 3158, 'choice': 797, 'family': 1645, 'said': 3774, 'book': 535, 'pretty': 3384, 'might': 2835, 'hadnt': 2004, 'horrible': 2163, 'unbelievable': 4634, 'lead': 2545, 'roll': 3728, 'accent': 78, 'suppose': 4305, 'anyway': 261, 'sounded': 4082, 'opened': 3113, 'mouth': 2920, 'tries': 4585, 'before': 440, 'able': 66, 'entire': 1502, 'brad': 560, 'johnson': 2411, 'liked': 2600, 'beach': 419, 'location': 2635, 'added': 116, 'needed': 2988, 'mind': 2849, 'depressing': 1188, 'portrayal': 3341, 'san': 3780, 'francisco': 1819, 'views': 4742, 'advantage': 129, 'looked': 2647, 'night': 3013, 'wrong': 4973, 'recall': 3562, 'please': 3304, 'keep': 2449, 'movies': 2927, 'wonderful': 4928, 'experience': 1580, 'cinema': 816, 'small': 4033, 'hall': 2009, 'uncomfortable': 4637, 'public': 3460, 'wait': 4770, 'changed': 750, 'perfect': 3224, 'match': 2762, 'there': 4438, 'presented': 3376, 'cleverly': 842, 'found': 1811, 'amusing': 221, 'sound': 4081, 'brilliant': 583, 'sometimes': 4067, 'dialogue': 1234, 'everything': 1544, 'seemed': 3862, 'right': 3696, 'place': 3282, 'loved': 2670, 'way': 4820, 'war': 4792, 'real': 3547, 'national': 2970, 'absolutely': 72, 'worst': 4952, 'ever': 1538, 'plan': 3287, 'outer': 3143, 'space': 4090, 'separate': 3883, 'featuring': 1681, 'different': 1248, 'performers': 3232, 'common': 906, 'total': 4531, 'lack': 2502, 'redeeming': 3577, 'qualities': 3483, 'maybe': 2776, 'reviewer': 3677, 'site': 4005, 'nude': 3058, 'shots': 3950, 'nice': 3008, 'misses': 2868, 'flash': 1745, 'part': 3193, 'displays': 1293, 'alas': 172, 'wasted': 4809, 'directors': 1266, 'seem': 3861, 'forgotten': 1797, 'needs': 2990, 'credible': 1048, 'none': 3028, 'sight': 3969, 'segment': 3867, 'starring': 4154, 'richard': 3686, 'widmark': 4882, 'disgusting': 1286, 'unfortunate': 4653, 'plays': 3301, 'eager': 1396, 'young': 4989, 'duty': 1390, 'ready': 3546, 'rid': 3690, 'streets': 4217, 'evil': 1548, 'old': 3100, 'cynical': 1093, 'when': 4862, 'these': 4441, 'oil': 3097, 'water': 4816, 'set': 3898, 'we': 4823, 'sense': 3877, 'redemption': 3578, 'films': 1721, 'earlier': 1399, 'end': 1468, 'happily': 2030, 'heads': 2059, 'straight': 4210, 'toilet': 4512, 'happy': 2032, 'ending': 1471, 'coherent': 871, 'thought': 4462, 'already': 197, 'hollywood': 2137, 'turn': 4605, 'unfortunately': 4654, 'half': 2007, 'exciting': 1563, 'romantic': 3733, 'several': 3905, 'times': 4497, 'bored': 541, 'realistic': 3550, 'excellent': 1555, 'jessica': 2398, 'tim': 4494, 'brian': 576, 'cox': 1026, 'prefer': 3368, 'contain': 962, 'bridge': 578, 'last': 2521, 'scene': 3809, 'surprising': 4315, 'music': 2946, 'setting': 3900, 'amazing': 209, 'okay': 3099, 'greatest': 1966, 'psycho': 3457, 'others': 3136, 'pass': 3201, 'shining': 3933, 'far': 1653, 'best': 469, 'stephen': 4176, 'king': 2479, 'into': 2332, 'better': 472, 'stand': 4143, 'pet': 3246, 'scary': 3807, 'mile': 2842, 'barely': 399, 'yes': 4982, 'shut': 3961, 'care': 684, 'imdb': 2240, 'top': 4525, 'says': 3801, 'read': 3543, 'decades': 1145, 'ago': 154, 'stanley': 4148, 'kubrick': 2496, 'novels': 3053, 'trying': 4601, 'room': 3735, 'hear': 2061, 'noise': 3024, 'hour': 2176, 'threw': 4470, 'books': 536, 'against': 147, 'wall': 4781, 'frustration': 1843, 'finally': 1724, 'didnt': 1242, 'almost': 193, 'hours': 2177, 'went': 4847, 'died': 1244, 'chair': 742, 'respect': 3652, 'course': 1019, 'hand': 2015, 'thank': 4421, 'god': 1926, 'horror': 2168, 'complexity': 924, 'takes': 4351, 'son': 4070, 'remote': 3622, 'hotel': 2175, 'during': 1387, 'winter': 4900, 'works': 4945, 'nicholson': 3011, 'named': 2961, 'delivery': 1173, 'famous': 1647, 'lines': 2612, 'johnny': 2410, 'shelley': 3928, 'allows': 192, 'audience': 352, 'relate': 3593, 'kill': 2468, 'touch': 4533, 'whoever': 4872, 'casting': 711, 'twins': 4616, 'play': 3296, 'murdered': 2940, 'girls': 1911, 'significant': 3972, 'aspects': 322, 'necessary': 2984, 'whole': 4873, 'effect': 1428, 'presents': 3377, 'starts': 4159, 'lengthy': 2570, 'following': 1774, 'drives': 1367, 'interview': 2329, 'drive': 1363, 'mountain': 2917, 'road': 3709, 'wendy': 4846, 'danny': 1112, 'talking': 4360, 'car': 680, 'managed': 2723, 'sneak': 4043, 'quick': 3490, 'voices': 4763, 'concern': 931, 'front': 1841, 'saw': 3798, 'television': 4394, 'itself': 2371, 'bloody': 513, 'past': 3207, 'frightening': 1839, 'huge': 2185, 'rooms': 3736, 'constantly': 958, 'created': 1037, 'traditional': 4550, 'give': 1912, 'creepy': 1052, 'dimensional': 1253, 'early': 1400, 'shot': 3949, 'follows': 1775, 'circle': 821, 'around': 297, 'called': 652, 'relative': 3599, 'speed': 4103, 'forth': 1804, 'throw': 4479, 'gives': 1914, 'feeling': 1685, 'knowing': 2490, 'corner': 996, 'expect': 1575, 'jump': 2429, 'playing': 3300, 'floor': 1759, 'ball': 388, 'slowly': 4032, 'sees': 3866, 'empty': 1465, 'toy': 4542, 'rolled': 3729, 'damn': 1100, 'besides': 468, 'rare': 3523, 'quality': 3484, 'suck': 4269, 'depth': 1190, 'keeps': 2451, 'guessing': 1991, 'leaves': 2556, 'missed': 2867, 'told': 4513, 'exactly': 1551, 'crazy': 1035, 'killed': 2469, 'twin': 4615, 'daughters': 1122, 'leave': 2555, 'loose': 2650, 'should': 3951, 'tied': 4489, 'thats': 4425, 'mediocre': 2791, 'example': 1553, 'obviously': 3072, 'entirely': 1503, 'makes': 2716, 'mostly': 2910, 'throwing': 4480, 'cinematic': 818, 'tragedy': 4551, 'previous': 3387, 'viewer': 4738, 'accident': 84, 'twice': 4613, 'thoroughly': 4459, 'silly': 3976, 'provoking': 3452, 'messages': 2820, 'songs': 4072, 'characters': 760, 'us': 4690, 'enjoy': 1484, 'realise': 3548, 'williams': 4888, 'kiss': 2483, 'enjoyable': 1485, 'listen': 2619, 'tap': 4364, 'feet': 1688, 'jason': 2383, 'alexander': 180, 'complete': 921, 'contrast': 975, 'woman': 4921, 'sticks': 4186, 'cagney': 646, 'looking': 2648, 'purchase': 3469, 'available': 361, 'ben': 463, 'stiller': 4189, 'acting': 99, 'write': 4967, 'studios': 4241, 'gotten': 1947, 'going': 1931, 'funeral': 1849, 'then': 4436, 'watching': 4815, 'flick': 1754, 'black': 493, 'comedy': 890, 'dog': 1310, 'crap': 1031, 'christopher': 811, 'walken': 4777, 'generation': 1883, 'simply': 3986, 'embarrassed': 1453, 'unfunny': 4655, 'proves': 3447, 'overrated': 3156, 'comic': 893, 'wonder': 4926, 'badly': 383, 'dollar': 1314, 'theaters': 4428, 'handful': 2017, 'warn': 4797, 'friends': 1837, 'personally': 3243, 'id': 2212, 'golden': 1934, 'child': 789, 'quit': 3494, 'allowing': 191, 'actor': 103, 'bringing': 586, 'down': 1335, 'negative': 2991, 'scores': 3823, 'allowed': 190, 'board': 522, 'ill': 2228, 'zero': 4996, 'cant': 671, 'anything': 260, 'ii': 2226, 'sea': 3838, 'lets': 2580, 'copy': 994, 'situations': 4009, 'live': 2625, 'land': 2511, 'daughter': 1121, 'creative': 1041, 'name': 2960, 'wants': 4791, 'came': 656, 'strange': 4211, 'tired': 4501, 'uninteresting': 4660, 'compared': 912, 'longer': 2645, 'teenager': 4390, 'grown': 1984, 'personality': 3242, 'singing': 3995, 'either': 1438, 'older': 3101, 'talent': 4354, 'prince': 3396, 'eric': 1514, 'disney': 1289, 'somehow': 4063, 'defend': 1158, 'himself': 2111, 'becomes': 434, 'tough': 4537, 'lovable': 2668, 'forget': 1793, 'glory': 1922, 'earned': 1401, 'incredible': 2269, 'under': 4639, 'sad': 3767, 'destroyed': 1214, 'cute': 1090, 'kids': 2467, 'whos': 4876, 'mother': 2911, 'appears': 278, 'picked': 3266, 'plans': 3292, 'become': 433, 'familiar': 1643, 'shes': 3930, 'cliché': 844, 'villain': 4744, 'falls': 1640, 'fails': 1628, 'threatening': 4468, 'ironic': 2355, 'unlike': 4670, 'sing': 3992, 'annoying': 249, 'likable': 2598, 'skip': 4016, 'lion': 2614, 'lives': 2628, 'our': 3139, 'pleasant': 3302, 'memories': 2803, 'audiences': 353, 'consider': 949, 'structure': 4233, 'major': 2711, 'theatrical': 4430, 'elements': 1443, 'relies': 3606, 'upon': 4684, 'depicting': 1184, 'grim': 1974, 'light': 2595, 'nature': 2975, 'neo': 2998, 'reflect': 3584, 'darkness': 1117, 'felt': 1692, 'post': 3352, 'world': 4946, 'fairly': 1631, 'issues': 2365, 'unseen': 4678, 'prior': 3400, 'including': 2264, 'conspiracy': 956, 'murder': 2939, 'etc': 1527, 'aside': 315, 'certain': 737, 'musical': 2947, 'moments': 2887, 'raw': 3532, 'gritty': 1977, 'uses': 4697, 'natural': 2973, 'lighting': 2596, 'likely': 2601, 'popular': 3333, 'helped': 2080, 'convey': 982, 'explored': 1595, 'deliberately': 1166, 'act': 97, 'leads': 2548, 'carry': 700, 'entertained': 1498, 'lone': 2642, 'husband': 2204, 'rather': 3528, 'remain': 3609, 'lifestyle': 2593, 'represents': 3639, 'ideal': 2214, 'difference': 1246, 'afraid': 140, 'herself': 2092, 'courage': 1018, 'free': 1827, 'living': 2629, 'ticket': 4487, 'affair': 135, 'ensues': 1493, 'between': 475, 'left': 2561, '40s': 49, 'somewhat': 4068, 'showed': 3956, 'behavior': 446, 'least': 2554, 'bit': 488, 'style': 4249, 'helps': 2082, 'put': 3480, 'shown': 3959, 'ultimately': 4628, 'comes': 891, 'plague': 3285, 'atmosphere': 333, 'dark': 1115, 'expected': 1577, 'depressed': 1187, 'theyd': 4443, 'death': 1141, 'husbands': 2205, 'satisfying': 3791, 'reasons': 3560, 'heres': 2087, 'talk': 4358, 'whether': 4866, 'depicted': 1183, 'extent': 1605, 'shows': 3960, 'consequences': 947, 'actions': 101, 'asks': 319, 'reveals': 3673, 'unhappy': 4656, 'ironically': 2356, 'towards': 4540, 'depression': 1189, 'arms': 294, 'author': 359, 'happiness': 2031, 'cliff': 847, 'river': 3707, 'killing': 2472, 'police': 3322, 'intention': 2319, 'try': 4600, 'justify': 2439, 'come': 886, 'agree': 155, 'got': 1944, 'coming': 896, 'incredibly': 2270, 'selfish': 3870, 'wanting': 4790, 'instant': 2305, 'willing': 4889, 'endure': 1475, 'especially': 1520, 'clear': 839, 'sign': 3970, 'relationship': 3597, 'handle': 2018, 'shadow': 3912, 'typical': 4623, 'prepared': 3371, 'brought': 600, 'pre': 3365, 'go': 1924, 'lucky': 2683, 'believed': 455, 'difficult': 1249, 'complex': 923, 'whose': 4877, 'sin': 3988, 'reflection': 3585, 'problems': 3409, 'acts': 107, 'pieces': 3273, 'influenced': 2287, 'movement': 2923, 'heard': 2062, 'slasher': 4020, '80s': 59, 'rented': 3628, 'although': 201, 'attention': 345, 'suspense': 4330, 'april': 284, 'friday': 1834, '13th': 5, 'prom': 3429, 'above': 68, 'lacked': 2503, 'true': 4596, 'enthusiasm': 1501, 'potential': 3355, 'guy': 2000, 'hair': 2005, 'leading': 2547, 'faces': 1618, 'killer': 2470, 'dirty': 1268, 'jean': 2389, 'roles': 3727, 'interesting': 2325, 'instead': 2307, 'loser': 2655, 'making': 2718, 'unknown': 4668, 'calls': 654, 'girlfriend': 1910, 'drops': 1372, 'cuts': 1091, 'until': 4680, 'waste': 4808, 'disappointed': 1273, 'identity': 2217, 'released': 3603, 'laughed': 2532, 'obvious': 3071, 'jerk': 2395, 'intentions': 2321, 'revealed': 3671, 'once': 3106, 'spend': 4105, 'money': 2888, 'theater': 4427, 'year': 4978, 'need': 2987, 'miss': 2866, 'minute': 2858, 'completely': 922, 'follow': 1772, 'understand': 4643, 'producer': 3415, 'gangster': 1868, 'drama': 1346, 'emotional': 1459, 'guilt': 1994, 'despair': 1207, 'tale': 4353, 'greed': 1968, 'corruption': 1002, 'power': 3359, 'darker': 1116, 'side': 3965, 'american': 213, 'dream': 1354, 'anybody': 257, 'missing': 2869, 'superficial': 4298, 'cheesy': 781, 'dated': 1119, 'further': 1853, 'criticism': 1063, 'level': 2584, 'practically': 3362, 'satire': 3788, 'montana': 2895, 'isnt': 2362, 'directorial': 1265, 'effort': 1432, 'occasionally': 3075, 'handled': 2019, 'particularly': 3195, 'memorable': 2802, 'finale': 1723, 'frequently': 1832, 'sloppy': 4030, 'thankfully': 4422, 'oliver': 3102, 'stone': 4197, 'themes': 4434, 'consistent': 953, 'focus': 1766, 'primarily': 3393, 'humour': 2194, 'culture': 1079, 'form': 1798, 'cast': 710, 'help': 2079, 'less': 2575, 'subtle': 4260, 'performances': 3229, 'nowadays': 3055, 'frank': 1821, 'watchable': 4812, 'entertaining': 1499, 'intentionally': 2320, 'seeing': 3857, 'viewing': 4740, 'realize': 3552, 'exceptional': 1558, 'supporting': 4304, 'players': 3299, 'paul': 3214, 'powerful': 3360, 'humorous': 2193, 'shocking': 3940, 'controversial': 978, 'eighties': 1437, 'whatever': 4859, 'essential': 1522, 'pop': 3330, 'lips': 2615, 'freedom': 1828, 'food': 1778, 'quickly': 3491, 'became': 431, 'superb': 4296, 'thriller': 4472, 'secretary': 3850, 'develops': 1226, 'projects': 3428, 'often': 3095, 'fall': 1637, 'capable': 672, 'ambitious': 211, 'male': 2719, 'faster': 1662, 'hire': 2116, 'enter': 1494, 'con': 928, 'general': 1880, 'vincent': 4746, 'lies': 2591, 'skills': 4014, 'enterprise': 1495, 'initial': 2290, 'serious': 3891, 'interest': 2323, 'quirky': 3493, 'friendship': 1838, 'stunt': 4245, 'rival': 3706, 'virtually': 4751, 'deaf': 1134, 'without': 4913, 'hearing': 2063, 'aid': 160, 'normally': 3034, 'turns': 4609, 'unpleasant': 4674, 'sounds': 4084, 'lonely': 2643, 'heroic': 2090, 'makeup': 2717, 'truly': 4597, 'hasnt': 2044, 'boyfriend': 558, 'friend': 1835, 'worse': 4951, 'hang': 2022, 'somewhere': 4069, 'bed': 436, 'former': 1800, 'officer': 3092, 'main': 2707, 'ability': 65, 'considerable': 950, 'distance': 1294, 'trick': 4582, 'seems': 3864, 'enough': 1491, 'criminal': 1057, 'accept': 80, 'sort': 4077, 'business': 633, 'erotic': 1515, 'carrying': 701, 'crime': 1055, 'convincingly': 986, 'rent': 3626, 'buy': 640, 'youll': 4988, 'may': 2775, 'remember': 3616, 'disaster': 1276, 'strikes': 4225, 'september': 3884, '11': 2, '2001': 31, 'date': 1118, 'global': 1920, 'landscape': 2513, 'fight': 1707, 'documentary': 1307, 'events': 1536, 'filmmakers': 1720, 'brothers': 599, 'york': 4985, 'gone': 1935, 'academy': 77, 'shoots': 3944, 'training': 4558, 'join': 2412, 'develop': 1222, 'center': 732, 'traveling': 4568, 'train': 4556, 'received': 3564, 'call': 651, 'dad': 1095, 'attack': 337, 'arrived': 301, 'upper': 4685, 'smoke': 4039, 'cameras': 660, 'running': 3756, 'team': 4378, 'routine': 3743, 'immediately': 2242, 'crash': 1033, 'sequence': 3887, 'held': 2074, 'brother': 598, 'along': 195, 'journey': 2421, 'captured': 677, 'expressions': 1603, 'chaos': 755, 'throughout': 4478, 'numerous': 3062, 'interviews': 2330, 'suffer': 4275, 'survivors': 4325, 'psychological': 3458, 'struggle': 4234, 'terms': 4406, 'event': 1535, 'amongst': 218, 'risk': 3704, 'jobs': 2406, 'began': 441, 'totally': 4532, 'rescue': 3643, 'hopes': 2159, 'finding': 1727, 'alive': 186, 'round': 3742, 'steel': 4173, 'close': 853, 'safety': 3772, 'code': 869, 'contains': 964, 'extra': 1606, 'average': 362, 'cable': 644, 'melodrama': 2797, 'effects': 1431, 'classics': 837, 'christmas': 810, 'rush': 3759, 'target': 4366, 'fortune': 1806, 'band': 391, 'producers': 3416, 'chance': 747, 'am': 204, 'fx': 1858, '50': 51, 'adaptation': 113, 'critical': 1062, 'reactions': 3542, 'pseudo': 3454, 'tom': 4514, 'reaction': 3541, 'intellectual': 2312, 'exploration': 1593, 'surrounding': 4319, 'joan': 2404, 'faithful': 1634, 'spirit': 4113, 'within': 4912, 'various': 4715, 'identify': 2216, 'subsequent': 4257, 'offers': 3090, 'eerie': 1427, 'parallel': 3185, 'innocent': 2294, 'figure': 1711, 'presence': 3373, 'actress': 105, 'spots': 4132, 'revealing': 3672, 'la': 2500, 'humble': 2191, 'protect': 3443, 'village': 4743, 'means': 2783, 'harsh': 2040, 'release': 3602, 'beyond': 476, 'ken': 2453, 'view': 4736, 'era': 1513, 'feminist': 1695, 'content': 966, 'fate': 1665, 'away': 369, 'soldiers': 4054, 'faith': 1633, 'words': 4938, 'imagination': 2236, 'wear': 4830, 'fellow': 1691, 'battle': 414, 'chase': 769, 'france': 1816, 'court': 1020, 'office': 3091, 'led': 2558, 'earl': 1398, 'ensemble': 1492, 'portray': 3340, 'figures': 1713, 'treat': 4572, 'religion': 3607, 'childish': 791, 'sharp': 3922, 'let': 2579, 'accompanied': 86, 'manner': 2729, 'gets': 1900, 'brings': 587, 'portrait': 3339, 'intelligent': 2314, 'trial': 4580, 'certainly': 738, 'guilty': 1995, 'revelation': 3674, 'type': 4621, 'portrays': 3344, 'weak': 4824, 'relief': 3605, 'feels': 1687, 'imitation': 2241, 'jerry': 2396, 'lewis': 2586, 'white': 4870, 'cinematographer': 819, 'georges': 1894, 'worked': 4941, 'colonel': 876, 'colour': 880, 'perfectly': 3226, 'key': 2458, 'anywhere': 263, 'marks': 2742, 'period': 3236, 'conflict': 939, 'individuals': 2278, 'individual': 2277, 'per': 3223, 'direct': 1258, 'treatment': 4574, 'unpredictable': 4675, 'answers': 252, 'effective': 1429, 'sue': 4274, 'smith': 4038, 'clearly': 840, 'explanation': 1590, 'inspiring': 2302, 'deals': 1137, 'dare': 1113, 'face': 1616, 'fear': 1676, 'overcome': 3151, 'possibilities': 3348, 'australian': 357, 'recently': 3567, 'delivers': 1172, 'glad': 1916, 'oh': 3096, 'explain': 1586, 'porn': 3336, 'drugs': 1374, 'resolution': 3649, 'actresses': 106, 'topless': 4527, 'plenty': 3307, 'gore': 1941, 'caused': 724, 'panic': 3181, 'stuff': 4243, 'pulled': 3462, 'ass': 323, 'woods': 4935, 'trees': 4577, 'cartoons': 705, 'market': 2740, 'whats': 4860, 'mere': 2814, 'therefore': 4439, 'summary': 4290, 'dialog': 1232, 'button': 639, 'fast': 1661, 'forward': 1808, 'reminded': 3619, 'school': 3813, 'class': 833, 'aspect': 321, 'format': 1799, 'brown': 601, 'country': 1014, 'morris': 2908, 'spirited': 4114, 'sexual': 3908, 'vampires': 4712, 'lust': 2689, 'blood': 512, 'taking': 4352, 'lesbian': 2573, 'vampire': 4711, 'success': 4265, 'uk': 4626, 'daring': 1114, 'pushed': 3478, 'adult': 125, 'british': 589, 'cut': 1089, 'gothic': 1945, 'nudity': 3059, 'allow': 189, 'wrote': 4974, 'commercial': 902, 'backdrop': 379, 'otherwise': 3137, 'condition': 937, '1973': 19, 'harry': 2039, 'haunting': 2051, 'cinematography': 820, 'countryside': 1015, 'bleak': 503, 'equal': 1509, 'measure': 2786, 'similar': 3978, 'low': 2676, 'violence': 4747, 'reel': 3581, 'thin': 4449, 'rough': 3741, 'values': 4710, 'female': 1693, 'protagonists': 3442, 'charismatic': 763, 'appealing': 272, 'wished': 4905, 'prime': 3395, 'miscast': 2862, 'cult': 1077, 'taste': 4369, 'silent': 3975, 'brief': 579, 'cameo': 657, 'britain': 588, 'teenage': 4389, 'gratuitous': 1961, 'unrealistic': 4677, 'miserably': 2864, 'attempts': 343, 'george': 1893, 'holmes': 2139, 'lame': 2510, 'late': 2523, 'onto': 3111, 'utter': 4701, 'rubbish': 3748, 'filled': 1715, 'gene': 1879, 'star': 4150, 'bruce': 602, 'delivered': 1170, 'suspect': 4327, 'second': 3846, 'rate': 3526, 'competent': 917, 'established': 1524, 'east': 1407, 'wwii': 4975, 'americans': 214, 'control': 977, 'nazi': 2977, 'trouble': 4592, 'among': 217, 'double': 1331, 'working': 4944, 'destruction': 1216, 'empire': 1464, 'lovely': 2671, 'makers': 2715, '1930s': 11, 'pro': 3406, 'notion': 3050, 'dying': 1393, 'queen': 3485, 'ridiculous': 3693, 'root': 3737, 'propaganda': 3435, 'piece': 3272, 'support': 4303, 'suffers': 4278, 'bright': 581, 'showdown': 3955, 'enemy': 1477, 'agent': 150, 'losing': 2658, 'punch': 3466, 'hidden': 2096, 'fan': 1648, 'trek': 4578, 'returned': 3666, 'official': 3094, 'base': 402, 'deep': 1154, '12': 3, 'ships': 3935, 'opportunities': 3120, 'opportunity': 3121, 'rising': 3703, 'ship': 3934, 'computer': 927, 'animation': 242, 'equally': 1510, 'fine': 1729, 'driven': 1365, 'favorites': 1672, 'college': 875, '90s': 61, 'notch': 3043, 'spoke': 4125, 'indian': 2274, 'summer': 4291, 'stick': 4185, 'born': 544, 'killers': 2471, '17': 9, 'picture': 3269, 'mad': 2696, 'psychotic': 3459, 'artistic': 308, 'pictures': 3270, 'basically': 407, 'mass': 2753, 'media': 2789, 'questions': 3489, 'teenagers': 4391, 'mickey': 2831, 'murderer': 2941, 'describes': 1196, 'situation': 4008, 'frankenstein': 1822, 'monster': 2892, 'dr': 1340, 'turned': 4606, 'flaws': 1752, 'loves': 2674, 'guess': 1989, 'nation': 2969, 'woody': 4936, 'executed': 1565, 'step': 4175, 'brutal': 603, 'worthy': 4956, 'cruel': 1070, 'theory': 4437, 'social': 4049, 'survival': 4320, 'prison': 3401, 'species': 4098, 'commit': 904, 'humans': 2190, 'environment': 1505, 'questionable': 3488, 'amounts': 220, 'society': 4050, 'intensity': 2317, 'security': 3854, 'attitudes': 347, 'path': 3209, 'reporter': 3636, 'runs': 3757, 'americas': 215, 'obsessed': 3069, 'ratings': 3530, 'length': 2569, 'capture': 676, 'insane': 2296, 'sadistic': 3768, 'weird': 4841, 'obsession': 3070, 'massacre': 2754, 'texas': 4418, 'charles': 764, 'shadows': 3913, 'styles': 4250, 'use': 4692, 'existence': 1571, 'review': 3676, 'positive': 3346, 'dislike': 1288, 'pleased': 3305, 'asked': 317, 'removed': 3624, 'mildly': 2840, 'lie': 2590, 'dramatic': 1348, 'workers': 4943, 'political': 3324, 'days': 1130, 'private': 3404, 'lucas': 2680, 'inspector': 2299, 'army': 295, 'forces': 1788, 'de': 1131, 'charge': 761, 'del': 1165, 'defense': 1159, 'orders': 3127, 'shooting': 3943, 'military': 2844, 'present': 3374, 'order': 3126, 'solve': 4060, 'crisis': 1060, 'avoid': 363, 'surprises': 4314, 'twists': 4619, 'edge': 1418, 'seat': 3845, 'hold': 2129, 'spoil': 4121, 'meet': 2793, 'beginning': 443, 'whom': 4875, 'disappointment': 1275, 'features': 1680, 'magnificent': 2705, 'sean': 3840, 'usual': 4699, 'standard': 4144, 'walking': 4779, 'aint': 163, 'comment': 898, 'nearly': 2981, 'cry': 1073, 'shame': 3918, 'suit': 4284, 'sidney': 3968, 'size': 4012, 'united': 4664, 'kingdom': 2480, 'fits': 1741, 'frame': 1815, 'government': 1948, 'build': 614, 'capital': 673, 'clothing': 861, 'kinds': 2478, 'foreign': 1790, 'touches': 4535, 'succeed': 4262, 'havent': 2053, 'impact': 2244, 'chasing': 772, 'peter': 3247, 'orson': 3132, 'welles': 4844, 'stranger': 4213, 'robert': 3713, 'twist': 4617, 'potentially': 3356, 'described': 1195, 'parker': 3191, 'biggest': 480, 'saturday': 3792, 'fever': 1699, 'myself': 2953, 'beneath': 464, 'random': 3514, 'group': 1980, 'drunken': 1376, 'high': 2100, 'students': 4239, 'street': 4216, 'forced': 1787, 'shock': 3938, 'disbelief': 1277, 'hit': 2122, 'pleasure': 3306, 'wore': 4939, 'video': 4733, 'getting': 1901, 'timeless': 4496, 'cultural': 1078, 'references': 3583, 'obscure': 3068, 'western': 4853, 'core': 995, 'universal': 4665, 'steal': 4170, 'expert': 1585, 'answer': 251, 'timing': 4498, 'burns': 628, 'remains': 3611, 'favourite': 1673, 'hilarious': 2106, 'pacing': 3163, 'window': 4894, 'delight': 1167, 'exists': 1573, 'slow': 4031, 'landscapes': 2514, 'breathtaking': 574, 'recent': 3566, 'open': 3112, 'range': 3516, 'starred': 4153, 'emotionally': 1460, 'sleep': 4024, 'sunday': 4293, 'afternoon': 144, 'mood': 2898, 'treated': 4573, 'detailed': 1218, 'intimate': 2331, 'accidentally': 85, 'kills': 2474, 'hunting': 2201, 'glenn': 1918, 'pitch': 3279, 'note': 3044, 'guns': 1998, 'quiet': 3492, 'everyones': 1543, 'parents': 3188, 'confused': 941, 'uncle': 4636, 'essentially': 1523, 'rural': 3758, 'ordinary': 3128, 'west': 4852, 'morality': 2903, 'folks': 1771, 'tear': 4379, 'hunters': 2200, 'bound': 553, 'jane': 2380, 'branagh': 564, 'artist': 307, 'flight': 1757, 'builds': 617, 'airplane': 166, 'fly': 1763, 'troubled': 4593, 'independent': 2272, 'disease': 1285, 'wish': 4904, 'wont': 4932, 'directly': 1263, 'rob': 3710, 'bank': 394, 'pay': 3216, 'carter': 703, 'charisma': 762, 'written': 4972, 'grade': 1951, 'reading': 3544, 'research': 3644, 'understanding': 4645, 'politics': 3326, 'manage': 2722, 'methods': 2825, 'invasion': 2340, 'tone': 4517, 'bring': 585, 'occasional': 3074, 'bits': 490, 'hardly': 2036, 'unexpected': 4650, 'starting': 4158, 'poorly': 3329, 'drawn': 1351, 'rushed': 3760, 'flesh': 1753, 'incoherent': 2265, 'opening': 3114, 'successfully': 4267, 'fitting': 1742, 'reminds': 3620, 'sitcom': 4004, 'remind': 3618, 'mtv': 2933, 'soundtrack': 4085, 'belong': 459, 'points': 3319, 'involving': 2349, 'compelling': 916, 'message': 2819, 'disappointing': 1274, 'christians': 809, 'hope': 2155, 'unnecessary': 4672, 'christian': 808, 'reach': 3536, 'christ': 807, 'trilogy': 4586, 'james': 2378, 'finest': 1730, 'countries': 1013, 'apart': 264, 'project': 3427, 'topic': 4526, 'information': 2288, 'improve': 2254, 'footage': 1782, 'lots': 2662, 'produced': 3414, 'version': 4720, 'welcome': 4842, 'channel': 753, 'dealing': 1136, 'attempted': 341, 'required': 3641, 'engaging': 1481, 'superbly': 4297, 'outstanding': 3147, 'stays': 4169, 'timothy': 4499, 'dalton': 1098, 'rochester': 3719, 'combination': 883, 'eyre': 1614, 'teacher': 4375, 'offered': 3088, 'mansion': 2731, 'ward': 4793, 'mysterious': 2955, 'respected': 3653, 'owner': 3159, 'months': 2897, 'puts': 3481, 'secret': 3849, 'waiting': 4772, 'discovered': 1280, 'moving': 2928, 'acted': 98, 'locations': 2636, 'gorgeous': 1942, 'somebody': 4062, 'howard': 2182, 'fond': 1776, 'notes': 3046, 'decided': 1149, 'thoughts': 4464, 'inspiration': 2300, 'express': 1600, 'differences': 1247, 'decides': 1150, 'vast': 4716, 'sisters': 4002, 'themselves': 4435, 'nose': 3037, 'refuses': 3587, 'regret': 3591, 'decision': 1151, 'honest': 2146, 'winds': 4895, 'naked': 2959, 'kid': 2464, 'instance': 2304, 'raising': 3509, 'becoming': 435, 'lawyer': 2541, 'everybody': 1540, 'dies': 1245, 'jumps': 2432, 'saves': 3796, 'genuine': 1891, 'unless': 4669, 'cats': 721, 'title': 4504, 'le': 2544, 'beating': 425, 'element': 1442, 'adventures': 131, 'multi': 2935, 'guys': 2001, 'alike': 185, 'urban': 4688, 'cars': 702, 'subtitles': 4259, 'seven': 3903, '13': 4, 'forever': 1792, 'sacrifice': 3766, 'realized': 3553, 'circumstances': 822, 'relation': 3595, 'raised': 3508, 'share': 3920, 'daily': 1097, 'knows': 2493, 'names': 2963, 'worlds': 4947, 'loyal': 2679, 'problem': 3408, 'emotion': 1458, 'grows': 1985, 'unique': 4662, 'childhood': 790, 'visit': 4755, 'morning': 2906, 'string': 4227, 'elegant': 1441, 'universe': 4666, 'university': 4667, 'mix': 2876, 'ingredients': 2289, 'spread': 4133, 'celluloid': 731, 'substance': 4258, 'serving': 3897, 'storyline': 4208, 'screenwriter': 3833, 'al': 170, 'pacino': 3164, 'installment': 2303, 'presumably': 3380, 'marry': 2745, 'cuba': 1075, 'bigger': 479, 'racial': 3501, 'mob': 2879, 'bunch': 623, 'wasting': 4810, 'spoilers': 4124, 'gray': 1963, 'matters': 2770, 'centers': 734, 'sam': 3777, 'eyes': 1613, 'absurd': 73, 'guessed': 1990, 'park': 3190, 'borrowed': 545, 'push': 3477, 'charlie': 765, 'dreams': 1355, 'hits': 2125, 'head': 2057, 'marriage': 2743, 'week': 4837, 'vegas': 4717, 'wedding': 4836, 'apparently': 270, 'suggests': 4282, 'picks': 3268, 'continues': 971, 'swear': 4334, 'feed': 1683, 'bag': 384, 'explained': 1587, 'resident': 3647, 'kicks': 2463, 'single': 3996, 'drink': 1361, 'whatsoever': 4861, 'union': 4661, 'repeat': 3630, 'dating': 1120, 'meets': 2795, 'literally': 2622, 'gay': 1876, 'taxi': 4371, 'driver': 1366, 'alan': 171, 'feelings': 1686, 'clean': 838, 'blows': 517, 'apartment': 265, 'ad': 110, 'twilight': 4614, 'zone': 4999, 'broadcast': 591, 'conversation': 980, 'doubt': 1332, 'crew': 1053, 'bar': 396, 'sorry': 4076, 'drag': 1342, 'church': 813, 'hat': 2045, 'mans': 2730, 'models': 2881, 'happens': 2029, 'womans': 4922, 'account': 89, 'tells': 4397, 'spoiler': 4123, 'overly': 3155, 'scientific': 3817, 'philosophy': 3254, 'hide': 2097, 'oz': 3160, 'walk': 4775, 'precious': 3366, 'resources': 3651, 'tragic': 4552, 'logical': 2639, 'deserves': 1201, 'value': 4709, 'creating': 1039, 'calling': 653, 'mistake': 2871, 'editing': 1421, 'fell': 1690, 'kudos': 2497, 'repetitive': 3633, 'impossible': 2249, 'track': 4544, 'related': 3594, 'conversations': 981, 'jungle': 2434, 'unaware': 4632, 'near': 2979, 'sympathy': 4343, 'lyrics': 2692, 'fit': 1740, 'saving': 3797, 'grace': 1950, 'whenever': 4863, 'dialogues': 1235, 'illogical': 2231, 'provide': 3448, 'tribute': 4581, 'brave': 567, 'surely': 4309, 'morgan': 2905, 'gary': 1873, 'louise': 2666, 'gold': 1932, 'cooper': 990, 'hands': 2020, 'treasure': 4571, 'legend': 2564, 'appreciated': 280, 'usually': 4700, 'heart': 2064, 'warming': 4795, 'promising': 3433, 'downhill': 1336, 'burning': 627, 'laws': 2540, 'butler': 637, 'smoking': 4040, 'household': 2179, 'continue': 969, 'nobody': 3022, 'holding': 2130, 'lit': 2621, 'asking': 318, 'conceived': 929, 'laughter': 2535, 'medical': 2790, 'contrived': 976, 'purpose': 3474, 'stealing': 4171, 'legal': 2563, 'weight': 4840, 'struck': 4232, 'experienced': 1581, 'tedious': 4387, 'humor': 2192, 'energy': 1478, 'fathers': 1667, 'mine': 2853, 'hurt': 2202, 'patrick': 3213, 'hoping': 2160, 'word': 4937, 'context': 968, 'witty': 4917, 'slightly': 4029, 'anyone': 259, 'ran': 3513, 'believable': 453, 'bob': 524, 'drunk': 1375, 'law': 2538, 'joey': 2408, 'dave': 1123, 'raise': 3507, 'cameron': 661, 'eight': 1436, 'number': 3060, 'description': 1197, 'rock': 3720, 'break': 569, 'portraying': 3343, 'elvis': 1451, 'parent': 3187, 'describe': 1194, 'comedian': 887, 'tremendous': 4579, 'donna': 1323, 'simple': 3983, 'stories': 4205, 'blew': 505, 'creators': 1044, 'according': 88, 'five': 1743, 'aired': 165, 'members': 2801, 'recognized': 3570, 'focused': 1767, 'teach': 4374, 'member': 2800, 'occurs': 3078, 'admit': 122, 'disturbing': 1300, 'attached': 336, 'involved': 2346, 'remembered': 3617, 'minor': 2857, 'intense': 2316, 'web': 4833, 'tag': 4348, 'opens': 3115, 'li': 2587, 'telling': 4396, 'song': 4071, 'foot': 1781, 'hurts': 2203, 'thinking': 4453, 'yeah': 4977, 'crappy': 1032, 'gun': 1996, 'ah': 158, 'trust': 4598, 'rest': 3657, 'shines': 3932, 'revolves': 3682, 'stage': 4139, 'winters': 4901, 'press': 3379, 'mitchell': 2875, 'angle': 236, 'joe': 2407, 'drew': 1360, 'noir': 3023, 'realism': 3549, 'proved': 3446, 'genre': 1888, 'budget': 610, 'box': 555, 'shakespeare': 3915, 'lady': 2507, 'covers': 1024, 'studio': 4240, 'ahead': 159, 'integrity': 2311, 'sinister': 3998, 'cutting': 1092, 'europe': 1529, 'citizen': 824, 'kane': 2442, 'faults': 1669, 'irish': 2353, 'serve': 3893, 'heavily': 2069, 'versions': 4721, 'surreal': 4317, 'ten': 4399, 'deliver': 1169, 'vehicle': 4718, 'hollywoods': 2138, 'ought': 3138, 'ended': 1470, 'discover': 1279, 'count': 1010, 'streisand': 4218, 'curiosity': 1082, 'industry': 2280, 'signed': 3971, 'million': 2847, 'deal': 1135, 'important': 2247, 'manager': 2724, 'vision': 4754, 'clever': 841, 'specifically': 4100, 'alice': 182, 'ears': 1402, 'charming': 768, 'lily': 2605, 'sweet': 4336, 'crocodile': 1065, 'cool': 989, 'surrounded': 4318, 'stunning': 4244, 'fashion': 1659, 'ups': 4686, 'tape': 4365, 'iii': 2227, 'club': 863, 'sun': 4292, 'breath': 573, 'choose': 799, 'lover': 2672, 'company': 910, 'gem': 1877, 'moves': 2925, 'terrific': 4409, 'em': 1452, 'critics': 1064, 'similarities': 3979, 'pushing': 3479, 'charm': 767, 'honestly': 2147, 'involve': 2345, 'stopped': 4202, 'odd': 3080, 'consistently': 954, 'moral': 2902, 'ned': 2986, 'causing': 726, 'father': 1666, 'definition': 1163, 'spite': 4117, 'nevertheless': 3002, 'dozen': 1338, 'chuck': 812, 'gift': 1906, 'persons': 3244, 'taken': 4350, 'forgive': 1795, 'network': 3000, 'dramas': 1347, 'blue': 518, 'caught': 722, 'viewers': 4739, 'assume': 328, 'regular': 3592, 'century': 736, 'figured': 1712, 'soul': 4079, 'satan': 3787, 'minds': 2852, 'aware': 368, '25': 40, 'involves': 2348, 'kurt': 2499, 'thomas': 4458, 'happening': 2028, 'horse': 2170, 'square': 4136, 'farce': 1654, 'breasts': 572, 'ladies': 2506, 'gerard': 1895, 'reads': 3545, 'jumping': 2431, 'heavy': 2070, 'handed': 2016, 'superior': 4300, 'bother': 548, 'attempting': 342, 'stunts': 4246, 'belongs': 460, 'dear': 1140, 'bothered': 549, 'surprised': 4313, 'sat': 3786, 'stuck': 4237, 'user': 4696, 'comments': 901, 'impressed': 2251, 'ring': 3698, 'diana': 1237, 'fighter': 1708, 'amazed': 208, 'coach': 868, 'slightest': 4028, 'indie': 2276, 'boring': 543, 'pace': 3161, 'villains': 4745, 'menacing': 2807, 'laughable': 2530, 'cheap': 774, 'amateurish': 207, 'urge': 4689, 'torture': 4529, 'bland': 500, 'keeping': 2450, 'awesome': 371, 'chemistry': 782, 'rules': 3754, 'scream': 3826, 'scared': 3805, 'scott': 3824, 'confusing': 942, 'twisted': 4618, 'masses': 2755, 'zombie': 4997, 'dollars': 1315, 'plots': 3310, 'zombies': 4998, 'sake': 3775, 'originality': 3130, 'island': 2361, 'supposedly': 4307, 'normal': 3033, 'remaining': 3610, 'commercials': 903, 'fallen': 1638, 'asleep': 320, 'sequels': 3886, 'martin': 2748, 'fame': 1642, 'indeed': 2271, 'screaming': 3827, 'gonna': 1936, 'gory': 1943, 'nasty': 2968, 'guest': 1992, 'appearance': 274, 'matrix': 2767, 'jet': 2400, 'weapon': 4828, 'fake': 1635, 'enjoyment': 1488, 'flying': 1764, 'impressive': 2253, 'flies': 1756, 'seconds': 3848, 'aka': 168, 'includes': 2263, 'miller': 2846, 'matt': 2768, 'susan': 4326, 'thrills': 4475, 'thrilling': 4474, 'monsters': 2893, 'giant': 1905, 'animal': 239, 'thrillers': 4473, 'mystery': 2956, 'bought': 552, 'rated': 3527, 'sexuality': 3909, 'state': 4160, 'meaning': 2780, 'existent': 1572, 'impression': 2252, 'rating': 3529, 'vivid': 4760, 'cheated': 775, 'wise': 4903, 'cares': 690, 'joseph': 2419, 'kings': 2481, 'game': 1864, 'object': 3066, 'survive': 4321, 'city': 825, 'escape': 1517, 'bear': 420, 'premise': 3370, 'built': 618, 'tension': 4404, 'greatly': 1967, 'climax': 849, 'garbage': 1870, 'arnold': 296, 'messed': 2821, 'majority': 2712, 'seriously': 3892, 'loss': 2659, 'drawing': 1350, 'changes': 751, 'eventually': 1537, 'nightmare': 3014, 'fatal': 1664, 'stale': 4141, 'central': 735, 'result': 3660, 'flaw': 1749, 'thanks': 4423, 'rose': 3739, 'romance': 3732, 'cringe': 1059, 'painful': 3171, 'sum': 4289, 'travesty': 4570, 'laughably': 2531, 'corny': 997, 'pain': 3170, 'neighborhood': 2993, '30s': 44, 'grew': 1972, 'italian': 2367, 'families': 1644, 'move': 2921, 'add': 115, 'artificial': 306, 'editor': 1423, 'reasonable': 3558, 'sophisticated': 4075, 'turning': 4608, 'hero': 2088, 'silence': 3974, 'speaking': 4095, 'brooks': 596, 'italy': 2368, 'print': 3399, 'festival': 1697, 'safe': 3771, 'dubbing': 1380, 'matched': 2763, 'titles': 4506, 'visually': 4758, 'imaginative': 2237, 'instantly': 2306, 'emphasis': 1463, 'visual': 4757, 'detail': 1217, 'images': 2235, 'bird': 484, 'torn': 4528, 'diamond': 1236, 'technique': 4383, 'responsible': 3656, 'known': 2492, 'secretly': 3851, 'enters': 1496, 'beauty': 430, 'contest': 967, 'excitement': 1562, 'lose': 2654, 'merely': 2815, 'limited': 2606, 'warning': 4800, 'below': 462, 'triumph': 4590, 'wind': 4893, 'misery': 2865, 'trip': 4588, 'antics': 255, 'test': 4416, 'watches': 4814, 'corpse': 999, 'poignant': 3315, 'driving': 1368, 'trash': 4565, 'joke': 2414, 'clue': 864, 'westerns': 4854, 'scenery': 3810, 'horses': 2171, 'mentally': 2809, 'easier': 1405, 'ford': 1789, 'sit': 4003, 'cage': 645, 'deadly': 1133, 'adventure': 130, 'wild': 4885, '1990s': 25, 'pulls': 3464, 'mixture': 2878, 'ease': 1404, 'dennis': 1179, 'hopper': 2161, 'yesterday': 4983, 'constructed': 959, 'saved': 3795, 'sleazy': 4023, 'cops': 993, 'truck': 4595, 'hbo': 2055, 'channels': 754, 'fascinating': 1658, 'teens': 4392, 'blown': 516, 're': 3535, 'affected': 137, 'dynamic': 1394, 'strength': 4219, 'magic': 2703, 'clown': 862, 'displayed': 1292, 'pure': 3471, 'anyways': 262, 'hiding': 2099, 'lying': 2690, 'fire': 1734, 'pull': 3461, 'hip': 2114, 'parties': 3196, 'expensive': 1579, 'conventional': 979, 'system': 4345, 'colors': 879, 'motives': 2916, 'sincere': 3991, 'duo': 1386, 'invisible': 2344, 'tall': 4362, 'soft': 4051, 'attitude': 346, 'artists': 309, 'defined': 1160, 'learning': 2552, 'witness': 4914, 'ways': 4822, 'desire': 1205, 'nights': 3016, 'tried': 4584, 'bonus': 534, 'amount': 219, 'anthony': 253, 'ok': 3098, 'dragon': 1344, 'wow': 4962, 'martial': 2747, 'arts': 310, 'settle': 3902, 'art': 304, 'narrative': 2966, 'skill': 4013, 'thus': 4486, 'smooth': 4041, 'wave': 4818, 'da': 1094, 'particular': 3194, 'accents': 79, 'european': 1530, 'van': 4713, 'alex': 179, 'headed': 2058, 'ruthless': 3764, 'neighbors': 2994, 'notorious': 3051, 'field': 1704, 'paced': 3162, 'surprisingly': 4316, 'debut': 1143, 'lesson': 2577, 'japanese': 2382, 'shortly': 3947, 'rule': 3753, 'japan': 2381, 'background': 380, 'four': 1812, 'samurai': 3779, 'wealth': 4826, 'sword': 4340, 'doom': 1326, 'ultra': 4629, 'achieve': 92, 'killings': 2473, 'proud': 3444, 'reputation': 3640, 'splendid': 4119, 'naive': 2958, 'tortured': 4530, 'talks': 4361, 'change': 749, 'staff': 4138, 'reaches': 3538, 'fights': 1710, 'steve': 4181, 'saying': 3800, 'wouldnt': 4958, 'hate': 2046, 'stupid': 4247, 'intrigued': 2334, 'cannibal': 669, 'appeal': 271, 'jewish': 2401, 'provides': 3450, 'glimpse': 1919, 'civilization': 827, 'claims': 830, 'cover': 1022, 'bath': 411, 'scottish': 3825, 'portrayed': 3342, 'sexually': 3910, '1980s': 21, 'tends': 4402, 'briefly': 580, 'witch': 4909, '15': 7, 'camp': 662, 'junk': 2436, 'definite': 1161, 'predictable': 3367, 'doors': 1329, 'deserved': 1200, 'hype': 2207, 'stylish': 4251, 'heroes': 2089, 'denzel': 1181, 'washington': 4806, 'comfortable': 892, 'easily': 1406, 'emotions': 1461, 'super': 4295, 'mexico': 2827, 'convinced': 984, 'swimming': 4338, 'pool': 3327, 'checking': 778, 'phony': 3256, 'modesty': 2883, 'graphic': 1958, 'acceptable': 81, 'commented': 900, 'weakest': 4825, 'trained': 4557, 'spanish': 4092, 'civil': 826, 'boys': 559, 'games': 1865, 'suffering': 4277, 'health': 2060, 'roger': 3724, 'vulnerable': 4768, 'angela': 232, 'simon': 3982, 'talents': 4356, 'alternate': 200, 'fury': 1855, 'reveal': 3670, 'pointless': 3318, 'unwatchable': 4682, 'definitely': 1162, 'flashback': 1746, 'chased': 770, 'neck': 2985, 'steps': 4177, 'minded': 2850, 'boat': 523, 'mixed': 2877, 'inept': 2281, 'advice': 133, 'seek': 3858, 'worthwhile': 4955, 'beast': 422, 'damage': 1099, 'providing': 3451, 'upset': 4687, 'youve': 4995, 'psychiatrist': 3455, 'receives': 3565, 'patient': 3211, 'attempt': 340, 'underground': 4640, 'solid': 4057, 'alongside': 196, 'multiple': 2936, 'manages': 2725, 'thick': 4447, 'useful': 4694, 'twenty': 4612, 'bucks': 606, 'thrill': 4471, 'ride': 3692, 'vacation': 4704, 'begin': 442, 'castle': 712, 'stay': 4166, 'plausible': 3295, 'appropriate': 283, 'attorney': 348, 'mental': 2808, 'slap': 4018, 'utterly': 4702, 'product': 3418, 'unconvincing': 4638, 'holes': 2133, 'aimed': 162, 'sci': 3815, 'fi': 1701, 'weve': 4856, 'report': 3635, 'lesser': 2576, '100': 1, 'list': 2617, 'tooth': 4524, 'fairy': 1632, 'ghost': 1902, 'prize': 3405, 'introduce': 2336, 'worn': 4948, 'eye': 1611, 'candy': 668, 'bare': 398, 'searching': 3842, 'ruined': 3751, 'excessive': 1560, 'sub': 4252, 'leg': 2562, 'cameos': 658, 'roberts': 3714, 'mainly': 2708, 'fresh': 1833, 'won': 4925, 'award': 366, 'confidence': 938, 'dumb': 1385, 'hoped': 2156, 'relationships': 3598, 'stilted': 4190, 'ridiculously': 3694, 'edward': 1426, 'wanna': 4786, 'winning': 4898, 'masterpieces': 2760, 'mail': 2706, 'shop': 3945, 'store': 4204, 'godfather': 1927, 'thirty': 4456, 'revolution': 3680, 'news': 3005, 'prisoners': 3403, 'force': 1786, 'education': 1424, 'frankly': 1823, 'donald': 1321, 'speaks': 4096, 'hey': 2095, 'miles': 2843, 'score': 3822, 'ted': 4386, 'arthur': 305, 'creation': 1040, 'bbc': 417, 'pair': 3176, 'scripts': 3836, 'alone': 194, 'london': 2641, 'ray': 3533, 'magazine': 2701, 'flat': 1748, 'mate': 2765, 'laid': 2508, 'beat': 423, 'failing': 1627, 'march': 2734, '1999': 27, 'repeated': 3631, 'memory': 2804, 'sadly': 3769, 'drug': 1373, 'canadian': 667, 'considered': 951, 'racist': 3503, 'banned': 395, 'theatre': 4429, 'vhs': 4725, 'spike': 4111, 'lee': 2559, 'rap': 3520, 'cat': 713, 'sold': 4052, 'decide': 1148, 'rabbit': 3498, 'player': 3298, 'mafia': 2700, 'sons': 4073, 'homosexual': 2145, 'purple': 3473, '70s': 56, 'jimmy': 2403, 'nail': 2957, 'bill': 481, 'forgot': 1796, 'opposite': 3123, 'shine': 3931, 'persona': 3239, 'evening': 1534, 'slaughter': 4021, 'victim': 4729, 'jokes': 2415, 'sucked': 4270, 'properly': 3437, 'warned': 4798, 'kennedy': 2454, 'barry': 401, 'turkey': 4604, 'spoof': 4127, 'namely': 2962, 'carried': 698, 'parody': 3192, 'gags': 1862, 'unforgettable': 4652, 'quotes': 3497, 'gross': 1978, 'walked': 4776, 'murders': 2943, 'bodies': 526, 'laura': 2536, 'display': 1291, 'handsome': 2021, 'suddenly': 4273, 'developed': 1223, 'block': 508, 'process': 3412, 'needless': 2989, 'murderous': 2942, 'ages': 152, 'reviewers': 3678, 'included': 2262, 'connected': 945, 'jeff': 2390, 'whereas': 4865, 'underrated': 4642, 'giallo': 1904, 'phantom': 3251, 'protagonist': 3441, 'physical': 3262, 'scares': 3806, 'loads': 2633, 'lousy': 2667, 'retarded': 3663, 'boot': 538, 'failure': 1629, 'walks': 4780, 'likes': 2602, 'boss': 546, 'sleeping': 4025, 'suicide': 4283, 'causes': 725, 'louis': 2665, 'rick': 3689, 'baker': 385, 'et': 1526, 'worried': 4949, 'hong': 2149, 'kong': 2494, 'kung': 2498, 'fu': 1844, 'irritating': 2359, 'meaningless': 2782, 'pathetic': 3210, 'covered': 1023, 'fifteen': 1706, 'credits': 1050, 'countless': 1012, 'un': 4630, 'boredom': 542, 'grow': 1982, 'baby': 376, 'boom': 537, 'norman': 3035, 'captures': 678, 'trio': 4587, 'cary': 706, 'grant': 1956, 'douglas': 1334, 'proceedings': 3410, 'odds': 3082, 'thinks': 4454, 'hanks': 2025, 'pit': 3278, 'ice': 2210, 'jim': 2402, 'bedroom': 437, 'manhattan': 2726, 'photo': 3257, 'realizes': 3554, 'estate': 1525, 'cole': 873, 'favor': 1670, 'costs': 1004, 'rise': 3702, 'imagined': 2239, 'slapstick': 4019, 'meant': 2784, 'funnier': 1850, 'blend': 504, 'color': 877, 'easy': 1410, 'smaller': 4034, 'assistant': 326, '2004': 34, 'intriguing': 2335, 'radio': 3504, 'cartoon': 704, 'comical': 894, 'tour': 4538, 'futuristic': 1857, 'trailers': 4555, 'loud': 2664, '50s': 52, 'careful': 688, 'planning': 3291, 'succeeds': 4264, 'embarrassing': 1454, 'laughing': 2533, 'shouldnt': 3952, 'reached': 3537, 'wide': 4880, 'stomach': 4196, 'throat': 4476, 'remarkable': 3613, 'troubles': 4594, 'offer': 3087, 'typically': 4624, 'drop': 1369, 'mainstream': 2709, 'rain': 3506, 'praise': 3364, 'area': 286, 'purely': 3472, 'concert': 935, 'horrendous': 2162, 'rarely': 3524, 'hed': 2072, 'terribly': 4408, 'complicated': 925, 'seemingly': 3863, 'perspective': 3245, 'gripping': 1976, 'intended': 2315, 'passion': 3205, 'australia': 356, 'represent': 3637, 'necessarily': 2983, 'learned': 2551, 'irony': 2357, 'loosely': 2651, 'asian': 314, 'guarantee': 1987, 'notice': 3048, 'metal': 2823, 'gruesome': 1986, 'helicopter': 2076, 'student': 4238, 'anderson': 227, '1983': 22, 'picking': 3267, 'gods': 1928, 'places': 3284, 'passes': 3203, 'noted': 3045, 'touching': 4536, 'town': 4541, 'tracy': 4546, 'careers': 687, 'poverty': 3357, 'spiritual': 4116, 'desperate': 1208, 'masterpiece': 2759, 'widely': 4881, 'corporate': 998, 'concerning': 933, 'stones': 4198, 'bone': 533, 'meanwhile': 2785, 'groups': 1981, 'closer': 856, 'chris': 806, 'horrors': 2169, 'overwhelming': 3157, 'truth': 4599, 'occur': 3076, 'collection': 874, 'dreadful': 1353, 'bacall': 377, 'pick': 3265, '2003': 33, 'alfred': 181, 'deeply': 1156, 'disturbed': 1299, 'birds': 485, 'blair': 497, 'halloween': 2010, 'alien': 183, 'cell': 730, 'omen': 3104, 'link': 2613, 'internet': 2327, 'anna': 245, 'draws': 1352, 'genuinely': 1892, 'eg': 1434, 'draw': 1349, 'outcome': 3142, 'unsettling': 4679, 'quote': 3496, 'loses': 2657, 'self': 3869, 'elm': 1447, 'shocked': 3939, 'fears': 1677, 'moon': 2900, 'larry': 2520, 'adam': 111, 'ed': 1415, 'wicked': 4879, 'doomed': 1327, 'werewolf': 4850, 'talked': 4359, 'fest': 1696, 'generations': 1884, 'don': 1320, 'brenda': 575, 'adults': 126, 'cg': 739, 'logic': 2638, 'creature': 1045, 'wholly': 4874, 'wars': 4804, 'unreal': 4676, 'jumped': 2430, 'falling': 1639, 'clothes': 860, 'downright': 1337, 'crude': 1069, 'inappropriate': 2259, 'mild': 2839, 'heat': 2067, 'gang': 1867, '90': 60, 'mask': 2752, 'foster': 1809, 'tight': 4492, 'financial': 1725, 'hunter': 2199, 'unbelievably': 4635, 'embarrassment': 1455, 'firstly': 1737, 'hardy': 2037, 'storm': 4206, 'rental': 3627, 'provided': 3449, 'convince': 983, 'ralph': 3510, 'guts': 1999, 'gandhi': 1866, 'india': 2273, 'chose': 804, 'nomination': 3026, 'creates': 1038, 'ho': 2127, 'remake': 3612, '1st': 28, 'reviews': 3679, 'noticed': 3049, 'comedies': 889, 'cabin': 643, 'dude': 1381, 'ground': 1979, 'tongue': 4518, 'blonde': 511, 'bite': 489, 'pack': 3165, 'forest': 1791, 'record': 3573, 'freak': 1824, 'awfully': 373, 'shoot': 3942, 'fool': 1779, 'dogs': 1311, 'brains': 563, 'forgettable': 1794, 'smart': 4035, 'armed': 293, 'knife': 2487, 'baseball': 403, 'bat': 410, 'huh': 2187, 'combat': 882, 'sick': 3963, 'knock': 2488, 'arm': 292, 'wisdom': 4902, 'idiotic': 2219, 'stayed': 4167, 'karen': 2444, 'abandoned': 62, 'pops': 3332, 'swim': 4337, '35': 45, 'santa': 3783, 'eating': 1413, 'jaw': 2384, 'wondering': 4930, 'robot': 3717, 'suggest': 4280, 'renting': 3629, 'widow': 4883, 'dance': 1103, 'fonda': 1777, 'nicely': 3009, 'carefully': 689, 'chosen': 805, '30': 42, 'holiday': 2134, 'terror': 4412, 'greedy': 1969, 'ellen': 1446, 'dressed': 1358, 'chess': 783, 'brilliance': 582, 'emily': 1456, 'resort': 3650, 'scope': 3821, 'toward': 4539, 'fascinated': 1657, 'met': 2822, 'meeting': 2794, 'matches': 2764, 'win': 4892, 'perfection': 3225, 'shy': 3962, 'awkward': 374, 'variety': 4714, 'flashbacks': 1747, 'split': 4120, '70': 55, 'synopsis': 4344, 'nyc': 3065, 'cardboard': 682, 'scripted': 3835, 'gag': 1861, 'basic': 406, 'shallow': 3917, 'solely': 4056, 'feature': 1678, 'attracted': 349, 'broad': 590, 'ethan': 1528, 'hitting': 2126, 'wed': 4835, 'unfolds': 4651, 'brooklyn': 595, 'stereotypes': 4179, 'race': 3499, 'gender': 1878, 'paying': 3217, 'mistaken': 2872, 'construction': 960, 'dancer': 1104, 'mexican': 2826, 'worker': 4942, 'screams': 3828, 'status': 4165, 'fail': 1625, 'trite': 4589, 'homage': 2141, 'opera': 3116, 'singer': 3993, 'issue': 2364, 'seasons': 3844, 'extraordinary': 1607, 'season': 3843, 'bears': 421, 'mysteries': 2954, 'accurate': 90, 'pamela': 3179, 'photographer': 3259, 'sorts': 4078, 'surface': 4310, 'mentioning': 2812, 'holds': 2131, 'higher': 2101, 'regard': 3588, 'committed': 905, 'explosion': 1596, 'program': 3424, 'cold': 872, 'finished': 1733, 'sends': 3876, 'elaborate': 1439, 'scheme': 3812, 'wood': 4933, 'afterwards': 145, 'send': 3875, 'pulling': 3463, 'ashamed': 312, 'wing': 4896, 'replaced': 3634, 'inner': 2292, 'teeth': 4393, 'halfway': 2008, 'gotta': 1946, 'sheriff': 3929, 'eaten': 1412, 'sitting': 4007, 'crying': 1074, 'tears': 4380, 'descent': 1193, '75': 57, 'dawson': 1128, 'photography': 3260, 'dreary': 1356, 'basement': 405, 'proceeds': 3411, 'rape': 3521, 'introduces': 2338, 'photographed': 3258, 'extreme': 1609, 'confusion': 943, 'priceless': 3390, 'strip': 4228, 'everywhere': 1545, 'excited': 1561, 'dignity': 1252, 'believes': 456, 'cheek': 779, 'fabulous': 1615, 'discussion': 1284, 'directing': 1260, 'simmons': 3981, 'dangerous': 1110, 'aunt': 355, 'jones': 2418, 'requires': 3642, 'contact': 961, 'reed': 3580, 'fired': 1735, 'service': 3896, 'catching': 716, 'closing': 859, 'wonderfully': 4929, 'spooky': 4128, 'furthermore': 1854, 'cube': 1076, 'trademark': 4548, 'paris': 3189, 'transfer': 4559, 'stiff': 4187, 'featured': 1679, 'finish': 1732, 'angels': 234, 'fields': 1705, 'evidence': 1546, 'technical': 4381, 'suspicious': 4332, 'beliefs': 452, 'dedicated': 1153, 'investigate': 2342, 'counter': 1011, 'jail': 2376, 'receive': 3563, 'buff': 611, 'exception': 1557, 'davies': 1125, 'craft': 1028, 'cards': 683, 'introduction': 2339, 'buffs': 612, 'england': 1482, 'southern': 4088, 'semi': 3874, 'fashioned': 1660, 'peoples': 3222, 'community': 908, 'generally': 1881, 'dry': 1377, 'remarks': 3615, 'settings': 3901, 'reference': 3582, 'cities': 823, 'ludicrous': 2685, 'partner': 3198, 'existed': 1570, 'cgi': 740, 'crimes': 1056, 'victims': 4730, 'imagery': 2234, 'horrifying': 2167, 'engage': 1479, 'chilling': 794, 'study': 4242, 'madness': 2698, 'edited': 1420, '2007': 37, 'granted': 1957, 'cure': 1081, 'liberal': 2588, 'represented': 3638, 'border': 539, 'executive': 1567, 'president': 3378, 'cd': 728, 'phone': 3255, 'states': 4163, 'international': 2326, 'shake': 3914, 'cost': 1003, 'danger': 1109, 'shark': 3921, 'attacks': 339, 'eyed': 1612, 'sidekick': 3966, 'priest': 3392, 'cousin': 1021, 'desperately': 1209, 'treats': 4575, 'stronger': 4230, 'accused': 91, 'transformation': 4560, 'fault': 1668, 'master': 2757, 'communist': 907, 'highest': 2102, 'pot': 3354, 'plant': 3293, 'sudden': 4272, 'door': 1328, 'escaped': 1518, 'expression': 1602, 'amazingly': 210, 'admire': 121, 'relevant': 3604, 'bang': 393, 'knowledge': 2491, 'iran': 2350, 'heck': 2071, 'attend': 344, 'soccer': 4048, 'cup': 1080, 'nations': 2971, 'teen': 4388, 'dressing': 1359, 'punishment': 3467, 'soldier': 4053, 'football': 1783, 'bathroom': 412, 'demands': 1175, 'fortunately': 1805, 'screens': 3832, 'drivel': 1364, 'cheese': 780, 'factor': 1622, 'paint': 3173, 'sport': 4129, 'idiots': 2220, 'hooked': 2153, 'shower': 3957, 'escapes': 1519, 'closet': 858, '1970s': 17, 'explicit': 1591, 'admittedly': 123, 'tons': 4520, '1960s': 15, 'exploitation': 1592, 'stereotype': 4178, 'jay': 2386, '2002': 32, 'letter': 2581, 'gangsters': 1869, 'partly': 3197, 'max': 2774, 'theyve': 4446, 'jaws': 2385, 'copies': 992, 'tad': 4347, 'captain': 674, 'expectations': 1576, 'werent': 4849, 'fourth': 1813, 'efforts': 1433, 'rights': 3697, 'sings': 3997, 'dances': 1106, 'deeper': 1155, 'advance': 127, 'dust': 1388, 'trap': 4563, 'enjoys': 1489, 'kidding': 2465, 'flicks': 1755, 'believing': 457, 'andrew': 228, 'capturing': 679, 'forbidden': 1785, 'honor': 2150, 'exposure': 1599, 'portion': 3338, 'exposed': 1598, 'womens': 4924, 'successful': 4266, 'tonight': 4519, 'awe': 370, 'bud': 607, 'cowboy': 1025, 'disappoint': 1272, 'dracula': 1341, 'productions': 3420, 'focuses': 1768, 'hearted': 2065, 'earth': 1403, 'discovery': 1282, 'karloff': 2445, 'bela': 450, 'lugosi': 2686, 'meat': 2787, 'largely': 2518, 'symbolism': 4341, 'explore': 1594, 'comparison': 914, 'struggles': 4235, 'hamlet': 2013, 'hills': 2109, 'veteran': 4724, 'buddies': 608, 'blues': 519, 'blank': 501, 'winner': 4897, 'victoria': 4732, 'principal': 3398, 'linda': 2609, 'peters': 3248, 'mayor': 2777, 'stevens': 4183, 'carpenter': 694, 'dick': 1239, 'piano': 3264, 'slick': 4026, 'lively': 2627, 'trashy': 4566, 'spot': 4131, 'sexy': 3911, 'elvira': 1450, 'amateur': 206, 'host': 2173, 'generated': 1882, 'perform': 3227, 'usa': 4691, 'photos': 3261, 'albeit': 173, 'strangely': 4212, 'tomatoes': 4515, 'jeffrey': 2391, 'terrifying': 4410, 'calm': 655, 'serial': 3889, 'sutherland': 4333, 'von': 4765, 'breaks': 571, 'involvement': 2347, 'brilliantly': 584, 'horribly': 2164, 'lincoln': 2608, 'wizard': 4919, 'category': 718, 'nominated': 3025, 'continued': 970, 'gradually': 1952, '1950s': 14, 'legendary': 2565, 'till': 4493, 'abraham': 69, 'mgm': 2828, 'broadway': 592, 'iron': 2354, 'prisoner': 3402, 'previously': 3388, 'practice': 3363, 'letting': 2583, 'characterization': 759, 'genius': 1887, 'funniest': 1851, 'mel': 2796, 'cause': 723, 'pulp': 3465, 'fiction': 1702, 'anti': 254, 'entertain': 1497, 'grasp': 1960, 'moved': 2922, 'rex': 3683, 'julia': 2427, 'specific': 4099, 'appeared': 276, 'extended': 1604, 'shed': 3924, 'stewart': 4184, 'mann': 2728, 'walter': 4784, 'delightful': 1168, 'authority': 360, 'beautifully': 429, 'crafted': 1029, 'mature': 2773, 'kim': 2475, 'demon': 1177, 'lovers': 2673, 'lane': 2515, 'areas': 287, 'wrapped': 4964, 'faced': 1617, 'assumed': 329, 'rip': 3700, 'mistakes': 2873, 'sell': 3871, 'forms': 1801, 'psychic': 3456, 'ancient': 225, 'poem': 3312, 'current': 1084, 'irrelevant': 2358, 'rendition': 3625, 'poetry': 3314, 'rings': 3699, 'agreed': 156, 'fictional': 1703, 'remotely': 3623, 'passionate': 3206, 'challenge': 743, 'refreshing': 3586, 'sentimental': 3882, 'details': 1219, 'bomb': 531, 'bond': 532, 'helping': 2081, 'curious': 1083, 'suspects': 4328, 'wearing': 4831, 'robbery': 3711, 'wondered': 4927, 'opinions': 3119, 'atmospheric': 334, 'cross': 1066, 'franco': 1820, 'infamous': 2284, 'filmmaker': 1719, 'lazy': 2543, 'icon': 2211, 'subplot': 4255, 'connection': 946, 'unintentionally': 4659, 'pretentious': 3383, 'approach': 282, 'endearing': 1469, 'professional': 3421, 'population': 3335, 'maker': 2714, 'disappear': 1270, 'achieved': 93, 'digital': 1251, 'tend': 4400, 'thief': 4448, 'cash': 709, 'harris': 2038, 'francis': 1818, 'jr': 2423, 'trail': 4553, 'rage': 3505, 'rubber': 3747, 'fbi': 1675, 'florida': 1761, 'outfit': 3144, 'spring': 4134, 'sunshine': 4294, 'allen': 188, 'scare': 3803, 'vicious': 4728, 'glass': 1917, 'arrested': 298, 'slight': 4027, 'hank': 2024, 'lawrence': 2539, 'insight': 2298, 'obnoxious': 3067, 'simpson': 3987, 'duke': 1383, 'pie': 3271, 'reunion': 3669, 'development': 1225, 'taylor': 4372, 'holy': 2140, 'hired': 2117, 'nervous': 2999, 'whale': 4857, 'overacting': 3149, 'month': 2896, 'clichés': 846, 'term': 4405, 'lake': 2509, 'struggling': 4236, 'everyday': 1541, 'subjects': 4254, 'awards': 367, 'effectively': 1430, 'authentic': 358, 'interaction': 2322, 'notably': 3042, 'engaged': 1480, 'leaving': 2557, 'chaplin': 756, 'paper': 3183, 'grinch': 1975, 'stole': 4194, 'carrey': 696, 'cave': 727, 'pig': 3274, 'tie': 4488, 'polished': 3323, 'fill': 1714, 'mom': 2885, 'liking': 2604, 'nancy': 2964, 'lol': 2640, 'bet': 470, 'naturally': 2974, 'arrogant': 303, 'vote': 4766, 'mighty': 2836, 'nelson': 2997, 'ignored': 2225, 'angel': 231, 'sent': 3880, 'pile': 3275, 'soap': 4047, 'singers': 3994, 'innocence': 2293, 'pleasantly': 3303, 'battles': 415, 'chases': 771, 'thoughtful': 4463, 'analysis': 224, 'spent': 4108, 'pretend': 3381, 'adds': 119, 'shape': 3919, 'graphics': 1959, 'drinking': 1362, 'grey': 1973, 'nostalgic': 3039, 'chinese': 796, 'china': 795, 'similarly': 3980, 'entry': 1504, 'che': 773, 'mountains': 2918, 'satisfy': 3790, 'revolutionary': 3681, 'flawed': 1750, 'depiction': 1185, 'storytelling': 4209, 'toys': 4543, 'inevitable': 2282, 'lacking': 2504, 'noble': 3021, 'sides': 3967, 'achievement': 94, 'religious': 3608, 'illegal': 2229, 'inevitably': 2283, 'dean': 1139, 'carradine': 695, 'regarding': 3589, 'chorus': 803, 'grand': 1953, 'yelling': 4980, 'device': 1227, 'dancers': 1105, 'breaking': 570, 'joy': 2422, 'glorious': 1921, 'hearts': 2066, 'accepted': 82, 'exact': 1550, 'harvey': 2042, 'kevin': 2457, 'robin': 3715, 'suggested': 4281, 'viewed': 4737, 'altogether': 202, 'concerns': 934, 'experiences': 1582, 'glover': 1923, 'violent': 4748, 'producing': 3417, 'cried': 1054, 'results': 3662, 'homeless': 2143, 'fetched': 1698, 'sixties': 4011, 'forty': 1807, 'initially': 2291, 'critic': 1061, 'cruise': 1071, 'property': 3438, 'witches': 4910, 'sequences': 3888, 'contrary': 974, 'dutch': 1389, 'waves': 4819, 'laurel': 2537, 'fox': 1814, 'hates': 2048, 'stan': 4142, 'desert': 1198, 'billy': 482, 'worthless': 4954, 'spoiled': 4122, 'vague': 4705, 'exotic': 1574, 'prostitute': 3440, 'mindless': 2851, 'formula': 1802, 'plight': 3308, 'numbers': 3061, 'kick': 2460, 'blame': 499, 'connect': 944, 'occurred': 3077, 'chances': 748, 'transition': 4561, 'clichéd': 845, 'developing': 1224, 'heaven': 2068, 'instinct': 2308, '14': 6, 'wears': 4832, 'detective': 1220, 'sympathetic': 4342, 'argue': 290, 'excuse': 1564, 'jon': 2416, 'model': 2880, 'smiling': 4037, 'wet': 4855, 'sucks': 4271, 'ripped': 3701, 'walls': 4783, 'reaching': 3539, 'hello': 2078, 'angry': 238, 'unable': 4631, 'alcohol': 176, '18': 10, 'returns': 3668, 'hospital': 2172, 'warm': 4794, 'whilst': 4869, 'stretched': 4222, 'touched': 4534, 'poster': 3353, 'superman': 4301, 'desired': 1206, 'kicked': 2461, 'valley': 4707, 'recognize': 3569, 'rolling': 3730, 'dorothy': 1330, 'curtis': 1087, 'clint': 850, 'eastwood': 1409, 'luckily': 2682, 'titled': 4505, 'clark': 832, 'gifted': 1907, 'amy': 222, 'keaton': 2448, 'wives': 4918, 'adapted': 114, 'caine': 647, 'reminiscent': 3621, 'cusack': 1088, 'staring': 4152, 'position': 3345, 'ego': 1435, 'tense': 4403, 'commentary': 899, 'dig': 1250, 'cases': 708, 'matthew': 2772, 'relations': 3596, 'attractive': 351, 'eddie': 1416, '3rd': 47, 'sarah': 3785, 'horrific': 2166, 'offended': 3085, 'rotten': 3740, 'marvelous': 2750, 'corrupt': 1001, 'shell': 3927, 'steals': 4172, 'burn': 625, 'freddy': 1826, '80': 58, 'sullivan': 4288, 'elderly': 1440, 'directs': 1267, 'responsibility': 3655, 'daniel': 1111, 'craig': 1030, 'jennifer': 2392, 'oscars': 3134, 'delivering': 1171, 'vengeance': 4719, 'raymond': 3534, 'card': 681, 'trailer': 4554, 'sole': 4055, 'wrestling': 4966, 'stinks': 4192, 'generous': 1886, 'hal': 2006, 'combine': 884, 'inane': 2258, 'command': 897, 'suited': 4286, 'threat': 4467, '24': 39, 'carl': 692, 'mummy': 2937, 'pursuit': 3476, 'yellow': 4981, 'humanity': 2189, 'thru': 4483, 'include': 2261, 'understated': 4646, 'painfully': 3172, 'blacks': 494, 'bumbling': 622, 'latest': 2526, 'marketing': 2741, 'hatred': 2049, 'section': 3853, 'fooled': 1780, 'distant': 1295, 'genres': 1889, 'campbell': 663, 'caliber': 649, 'technically': 4382, 'medium': 2792, 'broke': 593, 'dinner': 1254, 'types': 4622, 'attraction': 350, 'gabriel': 1859, 'cia': 814, 'mouse': 2919, 'aging': 153, 'moore': 2901, 'perry': 3237, 'buried': 624, 'eve': 1532, 'warner': 4799, 'lessons': 2578, '1972': 18, 'facing': 1620, 'showcase': 3954, 'ourselves': 3140, 'devoted': 1231, 'lord': 2652, 'nearby': 2980, 'newspaper': 3006, 'judge': 2424, 'desperation': 1210, 'junior': 2435, 'secrets': 3852, 'narration': 2965, 'wooden': 4934, 'lacks': 2505, 'merit': 2816, 'ireland': 2352, 'folk': 1770, 'daddy': 1096, 'catholic': 720, 'peace': 3219, 'lay': 2542, 'dealt': 1138, 'mundane': 2938, 'blow': 514, 'melodramatic': 2798, 'encounter': 1466, 'drags': 1345, 'returning': 3667, '60s': 54, 'epic': 1506, '2nd': 41, 'unit': 4663, 'heston': 2094, 'jackson': 2375, 'mechanical': 2788, 'bull': 619, '1980': 20, 'hopefully': 2157, 'goofy': 1939, 'tame': 4363, 'beats': 426, 'wolf': 4920, 'wishes': 4906, 'placed': 3283, 'tommy': 4516, 'affect': 136, 'wake': 4774, 'wonders': 4931, 'sports': 4130, 'fare': 1655, 'beloved': 461, 'crush': 1072, 'swedish': 4335, 'seventies': 3904, 'recorded': 3574, 'errors': 1516, 'carries': 699, 'anime': 243, 'useless': 4695, 'animals': 240, 'st': 4137, 'essence': 1521, 'weekend': 4838, 'waited': 4771, 'wells': 4845, 'innovative': 2295, 'latter': 2528, 'factory': 1623, 'witnessed': 4915, 'legs': 2566, 'eccentric': 1414, 'endless': 1473, 'outrageous': 3145, 'demented': 1176, 'wannabe': 4787, 'miserable': 2863, 'amitabh': 216, 'akshay': 169, 'avoided': 364, 'jamie': 2379, 'caring': 691, 'voiced': 4762, 'talented': 4355, 'sally': 3776, 'inferior': 2285, 'ridden': 3691, 'shelf': 3926, 'bin': 483, 'monkeys': 2891, 'monkey': 2890, 'preview': 3386, 'barbara': 397, 'stanwyck': 4149, 'davis': 1126, 'physically': 3263, 'goodness': 1938, 'carrie': 697, 'fisher': 1739, 'chick': 786, 'strike': 4224, 'attacked': 338, 'rocket': 3721, 'bettie': 473, 'victor': 4731, 'pages': 3168, 'abuse': 74, 'ugly': 4625, 'enjoying': 1487, 'campy': 664, 'idiot': 2218, 'ignorant': 2223, 'stereotypical': 4180, 'wreck': 4965, 'angles': 237, 'blind': 506, 'wins': 4899, 'california': 650, 'companion': 909, 'sellers': 3872, 'simplistic': 3985, 'helen': 2075, 'sid': 3964, 'designs': 1204, 'honesty': 2148, 'incomprehensible': 2267, 'bush': 632, 'vs': 4767, 'fed': 1682, 'indians': 2275, 'hated': 2047, 'discuss': 1283, 'elephant': 1444, 'airport': 167, 'recording': 3575, 'text': 4419, 'alcoholic': 177, 'ian': 2209, 'brosnan': 597, 'closely': 855, 'poetic': 3313, 'blunt': 520, 'richardson': 3688, 'task': 4368, 'discovers': 1281, 'decisions': 1152, 'albert': 174, 'royal': 3746, 'beings': 449, 'row': 3744, 'relatives': 3601, 'props': 3439, 'kay': 2447, 'solo': 4058, 'statement': 4162, 'bus': 631, 'false': 1641, 'gentle': 1890, 'hammer': 2014, 'eastern': 1408, 'buying': 641, 'neat': 2982, 'todays': 4509, 'oddly': 3081, '45': 50, 'molly': 2884, 'eva': 1531, 'facial': 1619, 'jealous': 2388, 'hook': 2152, 'ninja': 3018, 'accomplished': 87, 'passing': 3204, 'balls': 390, 'currently': 1085, 'website': 4834, 'tune': 4602, 'doubts': 1333, 'steven': 4182, 'segments': 3868, 'defeat': 1157, 'teaching': 4377, 'andrews': 229, 'decade': 1144, 'execution': 1566, 'friendly': 1836, 'speech': 4102, 'travels': 4569, 'wounded': 4961, 'resulting': 3661, 'scientists': 3819, 'dinosaur': 1255, 'thousands': 4466, 'thousand': 4465, 'wacky': 4769, 'spell': 4104, 'busy': 635, 'thugs': 4484, 'continuity': 972, 'adorable': 124, 'sheer': 3925, 'elizabeth': 1445, 'princess': 3397, 'intrigue': 2333, 'planned': 3290, 'gain': 1863, 'influence': 2286, 'response': 3654, 'larger': 2519, 'letters': 2582, 'domestic': 1318, 'grandfather': 1954, 'sensitive': 3879, 'devil': 1228, 'changing': 752, 'equivalent': 1512, 'masters': 2761, 'wealthy': 4827, '60': 53, 'riveting': 3708, 'sinatra': 3989, 'los': 2653, 'angeles': 233, 'highlight': 2103, 'navy': 2976, 'shirt': 3937, 'historically': 2120, 'officers': 3093, 'popcorn': 3331, 'burton': 630, 'machine': 2693, 'moronic': 2907, 'via': 4726, 'birth': 486, 'wishing': 4907, 'museum': 2945, 'convoluted': 987, 'nonsensical': 3031, 'degree': 1164, 'audio': 354, 'resemblance': 3645, '40': 48, 'nonetheless': 3029, 'satisfied': 3789, '16': 8, 'strictly': 4223, 'classical': 836, 'jonathan': 2417, 'pitt': 3280, '20th': 38, 'butt': 638, 'spirits': 4115, 'resembles': 3646, 'hideous': 2098, 'price': 3389, 'virgin': 4749, 'chest': 784, 'theyll': 4444, 'territory': 4411, 'brando': 566, 'garbo': 1871, 'julie': 2428, 'charlotte': 766, 'streep': 4215, 'narrator': 2967, 'department': 1182, '2000': 30, 'offensive': 3086, 'devoid': 1230, 'reasonably': 3559, 'colorful': 878, 'journalist': 2420, 'writes': 4970, 'generic': 1885, 'staying': 4168, 'brutally': 604, 'complain': 919, 'claim': 828, 'mill': 2845, 'documentaries': 1306, 'classes': 834, 'possibility': 3349, 'hints': 2113, 'clips': 852, 'appearances': 275, 'ie': 2221, 'spoken': 4126, 'crucial': 1068, 'mrs': 2930, 'kitchen': 2485, 'thumbs': 4485, 'kinda': 2477, 'ghosts': 1903, 'scooby': 3820, 'doo': 1325, 'overdone': 3152, 'wrap': 4963, 'skin': 4015, 'combined': 885, 'proper': 3436, 'machines': 2694, 'visuals': 4759, 'exaggerated': 1552, 'hint': 2112, 'pink': 3277, 'overlooked': 3154, 'couples': 1017, 'silver': 3977, 'comparing': 913, 'switch': 4339, 'liners': 2611, 'importance': 2246, 'muslim': 2949, 'abusive': 75, 'promises': 3432, 'justice': 2438, 'north': 3036, 'minimal': 2855, 'inducing': 2279, 'belief': 451, 'warriors': 4803, 'damon': 1101, 'hole': 2132, 'maria': 2736, 'expressed': 1601, 'served': 3894, 'berlin': 467, '1968': 16, 'pays': 3218, 'schools': 3814, 'illness': 2230, 'visits': 4756, 'niro': 3019, '1996': 26, 'dire': 1257, 'par': 3184, 'jake': 2377, 'unlikely': 4671, 'visible': 4753, 'explains': 1589, 'millions': 2848, 'germany': 1898, 'lena': 2568, 'throws': 4482, 'fat': 1663, 'mirror': 2861, 'childrens': 793, 'mike': 2838, 'succeeded': 4263, 'paltrow': 3178, 'carol': 693, 'losers': 2656, 'stupidity': 4248, 'roots': 3738, 'punk': 3468, 'flow': 1762, 'ps': 3453, 'advise': 134, 'chooses': 800, 'interpretation': 2328, 'enormous': 1490, 'hitchcock': 2123, 'table': 4346, 'alert': 178, 'ruth': 3763, 'fay': 1674, 'resist': 3648, 'snake': 4042, 'conflicts': 940, 'betty': 474, 'spain': 4091, 'hop': 2154, 'chicks': 787, 'spare': 4093, 'investigation': 2343, 'adequate': 120, 'promised': 3431, 'broken': 594, 'versus': 4722, 'anger': 235, 'dropped': 1370, 'hitler': 2124, 'valuable': 4708, 'arrival': 299, 'dinosaurs': 1256, 'roy': 3745, 'farm': 1656, 'coffee': 870, 'troops': 4591, 'surviving': 4323, 'bullets': 621, 'flop': 1760, 'diane': 1238, 'fred': 1825, 'lloyd': 2630, 'nick': 3012, 'dialogs': 1233, 'enemies': 1476, 'senseless': 3878, 'insulting': 2310, 'brazil': 568, 'advertising': 132, 'cheating': 776, 'derek': 1192, 'experiments': 1584, 'offering': 3089, 'thrown': 4481, 'mst3k': 2932, 'bore': 540, 'determined': 1221, 'buddy': 609, 'serves': 3895, 'ryan': 3765, 'understandable': 4644, 'standing': 4146, 'personalities': 3241, 'curse': 1086, 'appreciation': 281, 'disc': 1278, 'choreography': 802, 'jazz': 2387, 'likewise': 2603, 'literature': 2623, 'juvenile': 2441, 'method': 2824, 'edgar': 1417, 'tarzan': 4367, 'doc': 1303, 'savage': 3793, 'pal': 3177, 'houses': 2180, 'batman': 413, 'experiment': 1583, 'fish': 1738, 'grandmother': 1955, 'chicago': 785, 'suspend': 4329, 'merits': 2817, 'regardless': 3590, 'credibility': 1047, 'hunt': 2198, 'lasted': 2522, 'competition': 918, 'reduced': 3579, '1984': 23, 'scale': 3802, 'bollywood': 530, 'pointed': 3317, 'massive': 2756, 'explosions': 1597, 'weapons': 4829, 'aliens': 184, 'explaining': 1588, 'ranks': 3519, 'ultimate': 4627, 'suitable': 4285, 'magical': 2704, 'jesus': 2399, 'promise': 3430, 'itll': 2369, 'spending': 4106, 'greater': 1965, 'kapoor': 2443, 'rocks': 3722, 'elsewhere': 1449, 'anne': 246, 'nine': 3017, 'souls': 4080, 'landing': 2512, 'ignore': 2224, 'germans': 1897, 'spy': 4135, 'turner': 4607, 'bette': 471, 'hilariously': 2107, 'hill': 2108, 'pg': 3250, 'amanda': 205, 'relatively': 3600, 'dickens': 1240, 'nicholas': 3010, 'examples': 1554, 'demand': 1174, 'agrees': 157, '2005': 35, 'plastic': 3294, 'brady': 561, 'solution': 4059, 'jackie': 2374, 'chan': 746, 'kicking': 2462, 'philip': 3252, 'motivations': 2915, 'testament': 4417, 'pregnant': 3369, 'temple': 4398, 'worry': 4950, 'wallace': 4782, 'ruby': 3749, 'hollow': 2135, 'dvds': 1392, 'operation': 3117, 'rat': 3525, 'catches': 715, 'burned': 626, 'goldberg': 1933, 'arrives': 302, 'nurse': 3063, 'possessed': 3347, 'haunted': 2050, 'survivor': 4324, 'sappy': 3784, 'nazis': 2978, 'teachers': 4376, 'annoyed': 248, 'professor': 3422, 'abilities': 64, 'equipment': 1511, 'complaint': 920, 'repeatedly': 3632, 'menace': 2806, 'columbo': 881, 'falk': 1636, 'gordon': 1940, 'prequel': 3372, 'adding': 117, 'scarecrow': 3804, 'cared': 685, 'highlights': 2104, '3d': 46, 'greek': 1970, 'atlantis': 332, 'surfing': 4311, 'compelled': 915, 'hoffman': 2128, 'exercise': 1568, 'snow': 4045, 'cinderella': 815, 'recognition': 3568, 'performer': 3231, 'performed': 3230, 'backgrounds': 381, 'edition': 1422, 'restored': 3659, 'suffice': 4279, 'frustrated': 1842, 'tender': 4401, 'blowing': 515, 'chain': 741, 'access': 83, 'distracting': 1297, 'warren': 4801, 'loaded': 2632, 'hood': 2151, 'contract': 973, 'disagree': 1269, 'shall': 3916, 'garden': 1872, 'encounters': 1467, 'tiger': 4491, 'disjointed': 1287, 'stretch': 4221, 'behave': 445, 'incident': 2260, 'deceased': 1146, 'source': 4086, 'rachel': 3500, 'painted': 3174, 'screening': 3830, 'hudson': 2184, 'wayne': 4821, 'lucy': 2684, 'crowd': 1067, 'bands': 392, 'foul': 1810, 'doll': 1313, 'slave': 4022, 'lately': 2524, 'scenario': 3808, 'dawn': 1127, 'todd': 4510, 'lisa': 2616, 'trapped': 4564, 'directions': 1262, 'afford': 138, 'hundreds': 2196, 'danes': 1108, 'appearing': 277, 'grave': 1962, 'bottle': 550, '2006': 36, 'distribution': 1298, 'deaths': 1142, 'maggie': 2702, 'paranoia': 3186, 'increasingly': 2268, 'polanski': 3321, 'guide': 1993, 'lynch': 2691, 'hardcore': 2034, 'bible': 477, 'aids': 161, 'korean': 2495, 'rank': 3518, 'learns': 2553, 'proof': 3434, 'hamilton': 2012, 'subtlety': 4261, 'ritter': 3705, 'midnight': 2834, 'selling': 3873, 'nightmares': 3015, 'blake': 498, 'wilson': 4891, 'clues': 865, 'endings': 1472, 'progresses': 3426, 'goal': 1925, 'destroying': 1215, 'spider': 4109, 'shirley': 3936, 'porno': 3337, 'devils': 1229, 'doctors': 1305, 'ape': 266, 'blatant': 502, 'rebel': 3561, 'balance': 387, 'assault': 324, 'stargate': 4151, 'correct': 1000, 'montage': 2894, 'vaguely': 4706, 'orange': 3125, 'bo': 521, 'luke': 2687, 'burt': 629, 'reynolds': 3684, 'underlying': 4641, 'nuts': 3064, 'comedic': 888, 'khan': 2459, 'wound': 4960, 'superhero': 4299, 'exceptionally': 1559, 'manipulative': 2727, 'philosophical': 3253, 'masterful': 2758, 'titanic': 4503, 'emma': 1457, 'jeremy': 2394, 'walker': 4778, 'spin': 4112, 'bourne': 554, 'sits': 4006, 'associated': 327, 'choreographed': 801, 'listening': 2620, 'andy': 230, 'splatter': 4118, 'formulaic': 1803, 'felix': 1689, 'dentist': 1180, 'sandler': 3781, 'mentions': 2813, 'sadness': 3770, 'basketball': 409, 'choices': 798, 'bay': 416, 'chapter': 757, 'realizing': 3555, 'comics': 895, 'franchise': 1817, 'subplots': 4256, 'popularity': 3334, 'voight': 4764, 'beatty': 427, 'opposed': 3122, 'justin': 2440, 'translation': 4562, 'captivating': 675, 'brand': 565, 'wandering': 4785, 'awake': 365, 'ha': 2002, 'celebrity': 729, 'signs': 3973, 'react': 3540, 'limits': 2607, 'guard': 1988, 'native': 2972, 'primary': 3394, 'females': 1694, 'snl': 4044, 'rambo': 3511, 'rocky': 3723, 'horrid': 2165, 'melting': 2799, 'pride': 3391, 'sentence': 3881, 'argument': 291, 'ruins': 3752, 'blade': 495, 'intent': 2318, 'suspenseful': 4331, 'neil': 2995, 'catchy': 717, 'boxing': 556, 'meaningful': 2781, 'dolls': 1316, 'cliche': 843, 'tradition': 4549, 'kidnapped': 2466, 'assigned': 325, 'presentation': 3375, 'soviet': 4089, 'cook': 988, 'empathy': 1462, 'roman': 3731, 'activities': 102, 'stolen': 4195, 'sky': 4017, 'divorce': 1301, 'bullet': 620, 'waitress': 4773, 'politically': 3325, 'ear': 1397, 'disneys': 1290, 'nostalgia': 3038, 'astaire': 330, 'lifetime': 2594, 'ginger': 1908, 'rogers': 3725, 'staged': 4140, 'powell': 3358, 'hyde': 2206, 'warmth': 4796, 'pat': 3208, 'hundred': 2195, 'pretending': 3382, 'racism': 3502, 'fulci': 1845, 'contained': 963, 'stellar': 4174, 'pan': 3180, 'arrive': 300, 'myers': 2952, 'finger': 1731, 'hopeless': 2158, 'waters': 4817, 'severe': 3906, 'survived': 4322, 'seeking': 3859, 'twelve': 4611, 'maintain': 2710, 'nuclear': 3057, 'robots': 3718, 'creator': 1043, 'destiny': 1212, 'jenny': 2393, 'stooges': 4200, 'freeman': 1829, 'mall': 2720, 'judging': 2425, 'stated': 4161, 'aforementioned': 139, 'adams': 112, 'unoriginal': 4673, 'randomly': 3515, 'terry': 4415, 'mars': 2746, 'russell': 3761, 'claimed': 829, 'june': 2433, 'arguably': 289, 'joined': 2413, 'listed': 2618, 'dropping': 1371, 'godzilla': 1929, 'prove': 3445, 'mistress': 2874, 'businessman': 634, 'purposes': 3475, 'holly': 2136, 'homer': 2144, 'grab': 1949, 'implausible': 2245, 'kenneth': 2455, 'patients': 3212, 'mothers': 2912, 'fix': 1744, 'pants': 3182, 'sandra': 3782, 'secondly': 3847, 'incompetent': 2266, 'bargain': 400, 'seed': 3856, '1990': 24, 'richards': 3687, 'acid': 95, 'musicals': 2948, 'retired': 3664, 'spielberg': 4110, 'margaret': 2735, 'stops': 4203, 'unbearable': 4633, 'shoes': 3941, 'bobby': 525, 'motivation': 2914, 'understood': 4647, 'absence': 70, 'buck': 605, 'simplicity': 3984, 'newly': 3004, 'league': 2549, 'terrorists': 4414, 'championship': 745, 'dan': 1102, 'taught': 4370, 'macy': 2695, 'cinemas': 817, 'tricks': 4583, 'sounding': 4083, 'immensely': 2243, 'ham': 2011, 'madonna': 2699, 'striking': 4226, 'kirk': 2482, 'supernatural': 4302, 'powers': 3361, 'willis': 4890, 'viewings': 4741, 'rats': 3531, 'performs': 3234, 'moody': 2899, 'scrooge': 3837, 'vice': 4727, 'remarkably': 3614, 'creep': 1051, 'uneven': 4649, 'hart': 2041, 'agents': 151, 'advanced': 128, 'beaten': 424, 'spends': 4107, 'stress': 4220, 'babe': 375, 'virginia': 4750, 'purchased': 3470, 'restaurant': 3658, 'dozens': 1339, 'heights': 2073, 'cake': 648, 'profound': 3423, 'improvement': 2256, 'robinson': 3716, 'neighbor': 2992, 'bergman': 466, 'miracle': 2860, 'leonard': 2572, 'lumet': 2688, 'ya': 4976, 'inventive': 2341, 'consists': 955, 'packed': 3166, 'ties': 4490, 'prevent': 3385, 'edie': 1419, 'trade': 4547, 'hippie': 2115, 'creativity': 1042, 'bold': 528, 'bakshi': 386, 'terrorist': 4413, 'stinker': 4191, 'blah': 496, 'murphy': 2944, 'uwe': 4703, 'boll': 529, 'annie': 247, 'wes': 4851, 'rangers': 3517, 'strangers': 4214, 'petty': 3249, 'centered': 733, '3000': 43, 'harder': 2035, 'virus': 4752, 'videos': 4734, 'bride': 577, 'hysterical': 2208, 'importantly': 2248, 'latin': 2527, 'ballet': 389, 'climactic': 848, 'composed': 926, 'canada': 666, 'craven': 1034, 'disappeared': 1271, 'marty': 2749, 'dragged': 1343, 'closest': 857, 'hugh': 2186, 'saga': 3773, 'criminals': 1058, 'hung': 2197, 'lou': 2663, 'iraq': 2351, 'conservative': 948, 'map': 2733, 'tiresome': 4502, 'leo': 2571, 'closed': 854, 'domino': 1319, 'catherine': 719, 'seeks': 3860, 'lees': 2560, 'tracks': 4545, 'lemmon': 2567, 'raped': 3522, 'tunes': 4603, 'tea': 4373, 'apes': 267, 'benefit': 465, 'flynn': 1765, 'mildred': 2841, 'hence': 2083, 'clip': 851, 'load': 2631, 'challenging': 744, 'witnesses': 4916, 'crack': 1027, 'miike': 2837, 'educational': 1425, 'judy': 2426, 'minimum': 2856, 'dolph': 1317, 'pearl': 3220, 'album': 175, 'overlook': 3153, 'dub': 1378, 'pokemon': 3320, 'ramones': 3512, 'frequent': 1831, 'blob': 507, 'buildings': 616, 'der': 1191, 'abysmal': 76, 'sink': 3999, 'distinct': 1296, 'matthau': 2771, 'robbins': 3712, 'seagal': 3839, 'online': 3109, 'gundam': 1997, 'mario': 2738, 'monk': 2889, 'familys': 1646, 'gadget': 1860}\n"
     ]
    }
   ],
   "source": [
    "print(str(vocabulary))"
   ]
  },
  {
   "cell_type": "markdown",
   "metadata": {},
   "source": [
    "Once you have added the endpoint name to the Lambda function, click on **Save**. Your Lambda function is now up and running. Next we need to create a way for our web app to execute the Lambda function."
   ]
  },
  {
   "cell_type": "markdown",
   "metadata": {},
   "source": [
    "### Setting up API Gateway\n",
    "\n",
    "Now that our Lambda function is set up, it is time to create a new API using API Gateway that will trigger the Lambda function we have just created.\n",
    "\n",
    "Using AWS Console, navigate to **Amazon API Gateway** and then click on **Get started**.\n",
    "\n",
    "On the next page, make sure that **New API** is selected and give the new api a name, for example, `sentiment_analysis_web_app`. Then, click on **Create API**.\n",
    "\n",
    "Now we have created an API, however it doesn't currently do anything. What we want it to do is to trigger the Lambda function that we created earlier.\n",
    "\n",
    "Select the **Actions** dropdown menu and click **Create Method**. A new blank method will be created, select its dropdown menu and select **POST**, then click on the check mark beside it.\n",
    "\n",
    "For the integration point, make sure that **Lambda Function** is selected and click on the **Use Lambda Proxy integration**. This option makes sure that the data that is sent to the API is then sent directly to the Lambda function with no processing. It also means that the return value must be a proper response object as it will also not be processed by API Gateway.\n",
    "\n",
    "Type the name of the Lambda function you created earlier into the **Lambda Function** text entry box and then click on **Save**. Click on **OK** in the pop-up box that then appears, giving permission to API Gateway to invoke the Lambda function you created.\n",
    "\n",
    "The last step in creating the API Gateway is to select the **Actions** dropdown and click on **Deploy API**. You will need to create a new Deployment stage and name it anything you like, for example `prod`.\n",
    "\n",
    "You have now successfully set up a public API to access your SageMaker model. Make sure to copy or write down the URL provided to invoke your newly created public API as this will be needed in the next step. This URL can be found at the top of the page, highlighted in blue next to the text **Invoke URL**."
   ]
  },
  {
   "cell_type": "markdown",
   "metadata": {},
   "source": [
    "## Step 7: Deploying our web app\n",
    "\n",
    "Now that we have a publicly available API, we can start using it in a web app. For our purposes, we have provided a simple static html file which can make use of the public api you created earlier.\n",
    "\n",
    "In the `website` folder there should be a file called `index.html`. Download the file to your computer and open that file up in a text editor of your choice. There should be a line which contains **\\*\\*REPLACE WITH PUBLIC API URL\\*\\***. Replace this string with the url that you wrote down in the last step and then save the file.\n",
    "\n",
    "Now, if you open `index.html` on your local computer, your browser will behave as a local web server and you can use the provided site to interact with your SageMaker model.\n",
    "\n",
    "If you'd like to go further, you can host this html file anywhere you'd like, for example using github or hosting a static site on Amazon's S3. Once you have done this you can share the link with anyone you'd like and have them play with it too!\n",
    "\n",
    "> **Important Note** In order for the web app to communicate with the SageMaker endpoint, the endpoint has to actually be deployed and running. This means that you are paying for it. Make sure that the endpoint is running when you want to use the web app but that you shut it down when you don't need it, otherwise you will end up with a surprisingly large AWS bill."
   ]
  },
  {
   "cell_type": "markdown",
   "metadata": {},
   "source": [
    "### Delete the endpoint\n",
    "\n",
    "Remember to always shut down your endpoint if you are no longer using it. You are charged for the length of time that the endpoint is running so if you forget and leave it on you could end up with an unexpectedly large bill."
   ]
  },
  {
   "cell_type": "code",
   "execution_count": 50,
   "metadata": {},
   "outputs": [],
   "source": [
    "xgb_predictor.delete_endpoint()"
   ]
  },
  {
   "cell_type": "markdown",
   "metadata": {},
   "source": [
    "## Optional: Clean up\n",
    "\n",
    "The default notebook instance on SageMaker doesn't have a lot of excess disk space available. As you continue to complete and execute notebooks you will eventually fill up this disk space, leading to errors which can be difficult to diagnose. Once you are completely finished using a notebook it is a good idea to remove the files that you created along the way. Of course, you can do this from the terminal or from the notebook hub if you would like. The cell below contains some commands to clean up the created files from within the notebook."
   ]
  },
  {
   "cell_type": "code",
   "execution_count": null,
   "metadata": {},
   "outputs": [],
   "source": [
    "# First we will remove all of the files contained in the data_dir directory\n",
    "!rm $data_dir/*\n",
    "\n",
    "# And then we delete the directory itself\n",
    "!rmdir $data_dir\n",
    "\n",
    "# Similarly we remove the files in the cache_dir directory and the directory itself\n",
    "!rm $cache_dir/*\n",
    "!rmdir $cache_dir"
   ]
  },
  {
   "cell_type": "code",
   "execution_count": null,
   "metadata": {},
   "outputs": [],
   "source": []
  }
 ],
 "metadata": {
  "kernelspec": {
   "display_name": "conda_python3",
   "language": "python",
   "name": "conda_python3"
  },
  "language_info": {
   "codemirror_mode": {
    "name": "ipython",
    "version": 3
   },
   "file_extension": ".py",
   "mimetype": "text/x-python",
   "name": "python",
   "nbconvert_exporter": "python",
   "pygments_lexer": "ipython3",
   "version": "3.6.5"
  }
 },
 "nbformat": 4,
 "nbformat_minor": 2
}
